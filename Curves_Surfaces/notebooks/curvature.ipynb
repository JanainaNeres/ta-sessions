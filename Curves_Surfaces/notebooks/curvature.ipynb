{
 "cells": [
  {
   "cell_type": "markdown",
   "metadata": {},
   "source": [
    "# Curvatura de uma curva\n",
    "\n",
    "## Curvatura \n",
    "\n",
    "Seja $\\gamma$ uma curva parametrizada pelo comprimeto de arco. Definimos **curvatura** como a função $\\kappa(t) = ||\\ddot{\\gamma}(t)||$. Essa definição é consistente com o que esperávamos de uma reta (curvatura nula) e de um círculo (curvatura constante positiva). Porém se $\\gamma$ é uma curva regular qualquer, podemos definir a sua curvatura como sendo a curvatura de sua reparametrização pelo comprimento de arco. Isto é, seja $\\hat{\\gamma}$ uma reparametrização pelo comprimento de arco de $\\gamma$ com curvatura $\\kappa$. Então a curvatura de $\\gamma$ será $\\kappa$. \n",
    "\n",
    "Uma questão que se levanta é: e se houver outra reparametrização de $\\gamma$? Para isso, precisamos mostrar que a curvatura é invariante (não muda) segundo a reparametrização. Isso não é dificíl de ver pois as tangentes das reparametrização tem mesmo tamanho e, possivelmente, diferente sinal.\n",
    "\n",
    "### Curvatura de uma curva regular\n",
    "\n",
    "Seja $\\gamma(t)$ uma curva em $\\mathbb{R}^3$, então sua curvatura é dada pela expressão\n",
    "\n",
    "$$\n",
    "\\kappa = \\frac{||\\ddot{\\gamma} \\times \\dot{\\gamma}||}{||\\dot{\\gamma}||^3}\n",
    "$$\n",
    "\n",
    "Observe que para curvas no plano essa expressão pode também ser utilizada, \n",
    "$$\n",
    "\\kappa = \\frac{|\\ddot{\\gamma}_1\\dot{\\gamma}_2 - \\ddot{\\gamma}_2\\dot{\\gamma}_1|}{||\\dot{\\gamma}||^3}\n",
    "$$\n",
    "\n",
    "### Curvatura com sinal \n",
    "\n",
    "Definimos a **normal unitária com sinal** $n_s$ o vetor unitário que rotaciona o vetor tangente no sentido anti-horário em $\\pi/2$. Em particular, $\\ddot{\\gamma}$ e $\\dot{\\gamma}$ são perpendiculares (pois a curva é parametrizada pelo comprimento de arco) e, portanto, é paralelo a $n_s$, assim\n",
    "$$\n",
    "\\ddot{\\gamma} = \\kappa_s n_s\n",
    "$$\n",
    "Chamamos $\\kappa_s$ de **curvatura com sinal**. Em particular, $\\kappa = |\\kappa_s|$."
   ]
  },
  {
   "cell_type": "markdown",
   "metadata": {},
   "source": [
    "### Função Ângulo \n",
    "\n",
    "Dada uma curva diferenciável $\\gamma:I\\to \\mathcal{S}^1$, onde $\\mathcal{S}^1$ é o círculo centrado na origem. Dizemos que $\\theta : I \\to \\mathbb{R}$ é função ângulo de $\\gamma$ quando \n",
    "$$\n",
    "\\gamma(s) = (\\cos(\\theta(s)), \\sin(\\theta(s)), \\forall s \\in I\n",
    "$$\n",
    "\n",
    "Observe que nessa definição, a imagem de $\\gamma$ é um subconjunto de $\\mathcal{S}^1$, como se fosse um arco. Por exemplo, \n",
    "\n",
    "$\\gamma(s) = (\\cos(2s), \\sin(2s)) \\implies \\theta(s) = 2s$.\n",
    "\n",
    "Considere o operador que rotaciona no sentido anti-horário em 90° um vetor. Podemos descrevê-lo em forma matricial como \n",
    "\n",
    "$$\n",
    "J = \\begin{bmatrix}\n",
    "0 & -1 \\\\\n",
    "1 & 0\n",
    "\\end{bmatrix}\n",
    "$$\n",
    "\n",
    "Defina o **determinante** entre dois vetores como \n",
    "\n",
    "$$\n",
    "det(v,w) = \\langle Jv , w \\rangle\n",
    "$$\n",
    "\n",
    "que é o produto interno do vetor $v$ rotacionado e $w$."
   ]
  },
  {
   "cell_type": "markdown",
   "metadata": {},
   "source": [
    "#### Diferenciabilidade\n",
    "\n",
    "Seja $\\gamma : I \\to \\mathcal{S}^1$ uma curva diferenciável. Então $\\gamma$ admite uma função ângulo $\\theta$ diferenciável. Além disso, se $\\theta '$ é função ângulo diferenciável de $\\gamma$, ela difere de $\\theta$ por uma constante. \n",
    "\n",
    "> Note que supondo a existência dessa função diferenciável, temos que, por aplicação da Regra da Cadeia, \n",
    "$$\n",
    "\\gamma '(s) = \\theta '(s)(-\\sin(\\theta(s)), \\cos(\\theta(s))) = \\theta '(s) J\\gamma(s)\n",
    "$$\n",
    "Portanto, aplicando o produto interno em ambos os lados, observamos que \n",
    "$$\n",
    "\\theta '(s) = det(\\gamma(s), \\gamma '(s))\n",
    "$$\n",
    "Assim, a demonstração se dá defininido $\\theta$ com essa derivada (Teorema Fundamental do Cálculo). \n"
   ]
  },
  {
   "cell_type": "markdown",
   "metadata": {},
   "source": [
    "Agora seja $\\alpha$ uma curva regular, sem perda de generalidade, parametrizada pelo comprimento de arco. Seja $t(s) = \\alpha '(s)$. Como $||t(s)|| = 1$, pela proposição anterior, existe uma função ângulo diferenciável $\\theta$ de forma que definimos a curvatura de $\\alpha$ como\n",
    "\n",
    "$$\n",
    "k(s) = \\theta '(s) = det(t(s), t'(s)) = det(a'(s), a''(s))\n",
    "$$\n",
    "\n",
    "Observe que estamos rotacionando o vetor tangente, obtendo o que chamamos de vetor normal unitário e fazendo o produto interno com a aceleração da curva, o que coincide com a definição prévia! "
   ]
  },
  {
   "cell_type": "markdown",
   "metadata": {},
   "source": [
    "**Exemplo:** Considere a parametrização do círculo \n",
    "$$\n",
    "\\alpha(s) = p + r(\\cos(s/r), \\sin(s/r)), s \\in \\mathbb{R}\n",
    "$$\n",
    "Assim \n",
    "$$\n",
    "\\alpha'(s) = (-\\sin(s/r), \\cos(s/r))\n",
    "$$\n",
    "\n",
    "$$\n",
    "\\alpha''(s) = -\\frac{1}{r}(\\cos(s/r), \\sin(s/r)) = \\frac{1}{r}J\\alpha '(s)\n",
    "$$\n",
    "\n",
    "$$\n",
    "\\kappa(s) = \\langle J\\alpha '(s), \\alpha ''(s) \\rangle = \\frac{1}{r}\n",
    "$$\n"
   ]
  },
  {
   "cell_type": "markdown",
   "metadata": {},
   "source": [
    "## Movimento Rígido\n",
    "\n",
    "**Isometria:** Uma aplicação $F: \\mathbb{R}^n \\to \\mathbb{R}^n$ que preserva distância, isto é, $||x - y|| = ||F(x) - F(y)||, \\forall x, y \\in \\mathbb{R}^n$. Diremos uma **movimento rígido** é uma isometria (a rigidez em mudar distâncias).\n",
    "\n",
    "**Translação:** Uma aplicação $F: \\mathbb{R}^n \\to \\mathbb{R}^n$  do tipo $v \\mapsto F(v) := v + a$, para algum $a \\in \\mathbb{R}^n$ fixo. \n",
    "\n",
    "**Transformação Ortogonal:** Uma transformação **linear** que presetva o produto interno, isto é, $\\langle u, v \\rangle = \\langle T(u), T(v) \\rangle$. A matriz associada a essa transformação é ortogonal. \n",
    "\n",
    "Dizemos que o movimento é **direto** se $det(P) = 1$ e oposto ou inverso quando $det(P) = -1$. \n",
    "\n",
    "### Teorema \n",
    "\n",
    "Seja $P_{n\\times n}$ uma matriz ortogonal e $a \\in \\mathbb{R}^n$. Então $F: \\mathbb{R}^n \\to \\mathbb{R}^n$ definido como $F(v) = Pv + a$ é uma isometria. Reciprocamente, toda isometria pode ser escrito nessa forma.  Esse teorema permite uma caracterização simples de um movimento rígido.\n",
    "\n",
    "### Invariância da curvatura\n",
    "\n",
    "Sejam $\\Phi = A + p_0$ um movimento rígido direto de $R^2$ e $\\alpha : I \\to \\mathbb{R}^2$ uma curva regular parametrizada por comprimento de arco. Então, $\\beta = \\Phi \\circ \\alpha : I \\to \\mathbb{R}^2$ é uma curva regular de $\\mathbb{R}^2$, parametrizada por comprimento de arco, cuja função curvatura coincide com a de $\\alpha$, isto é, $\\kappa_{\\alpha}(s) = \\kappa_{\\beta}(s) \\forall s \\in I$.\n",
    "\n",
    "> Observe que derivar $\\beta ' = \\Phi'(\\alpha) = A\\alpha '$ o que garante que $\\beta$ é parametrizada pelo comprimento de arco e que $\\beta '' = A\\alpha ''$. Portanto, como $det(A) = 1$, vale que as curvaturas são as mesmas. \n",
    "\n",
    "\n",
    "## Equações de Frenet \n",
    "\n",
    "Página 21 (Ronaldo)\n",
    "\n",
    "\n",
    "## Teorema Fundamental das Curvas no Plano\n",
    "\n",
    "Páginas 39-40 (Pressley)\n",
    "Páginas 22-23 (Ronaldo)"
   ]
  }
 ],
 "metadata": {
  "kernelspec": {
   "display_name": "Python 3.7.3 64-bit ('base')",
   "language": "python",
   "name": "python37364bitbase6782713bed674ed7a26121bd52530782"
  },
  "language_info": {
   "codemirror_mode": {
    "name": "ipython",
    "version": 3
   },
   "file_extension": ".py",
   "mimetype": "text/x-python",
   "name": "python",
   "nbconvert_exporter": "python",
   "pygments_lexer": "ipython3",
   "version": "3.7.1"
  }
 },
 "nbformat": 4,
 "nbformat_minor": 4
}
