{
 "cells": [
  {
   "cell_type": "markdown",
   "metadata": {},
   "source": [
    "# Curvatura de uma curva\n",
    "\n",
    "## Curvatura \n",
    "\n",
    "Seja $\\gamma$ uma curva parametrizada pelo comprimeto de arco. Definimos **curvatura** como a função $\\kappa(t) = ||\\ddot{\\gamma}(t)||$. Essa definição é consistente com o que esperávamos de uma reta (curvatura nula) e de um círculo (curvatura constante positiva). Porém se $\\gamma$ é uma curva regular qualquer, podemos definir a sua curvatura como sendo a curvatura de sua reparametrização pelo comprimento de arco. Isto é, seja $\\hat{\\gamma}$ uma reparametrização pelo comprimento de arco de $\\gamma$ com curvatura $\\kappa$. Então a curvatura de $\\gamma$ será $\\kappa$. \n",
    "\n",
    "Uma questão que se levanta é: e se houver outra reparametrização de $\\gamma$? Para isso, precisamos mostrar que a curvatura é invariante (não muda) segundo a reparametrização. Isso não é dificíl de ver pois as tangentes das reparametrização tem mesmo tamanho e, possivelmente, diferente sinal.\n",
    "\n",
    "### Curvatura de uma curva regular\n",
    "\n",
    "Seja $\\gamma(t)$ uma curva em $\\mathbb{R}^3$, então sua curvatura é dada pela expressão\n",
    "\n",
    "$$\n",
    "\\kappa = \\frac{||\\ddot{\\gamma} \\times \\dot{\\gamma}||}{||\\dot{\\gamma}||^3}\n",
    "$$\n",
    "\n",
    "Observe que para curvas no plano essa expressão pode também ser utilizada, \n",
    "$$\n",
    "\\kappa = \\frac{|\\ddot{\\gamma}_1\\dot{\\gamma}_2 - \\ddot{\\gamma}_2\\dot{\\gamma}_1|}{||\\dot{\\gamma}||^3}\n",
    "$$\n",
    "\n",
    "### Curvatura com sinal \n",
    "\n",
    "Definimos a **normal unitária com sinal** o vetor unitário que rotaciona o vetor tangente no sentido anti-horário em $\\pi/2$. Em particular, $\\ddot{\\gamma}$ e $\\dot{\\gamma}$ são perpendiculares (pois a curva é parametrizada pelo comprimento de arco) e, portanto, \n",
    "$$\n",
    "\\ddot{\\gamma} = \\kappa_s \\dot{\\gamma}\n",
    "$$\n",
    "Chamamos $\\kappa_s$ de **curvatura com sinal**. Em particular, $\\kappa = |\\kappa_s|$."
   ]
  },
  {
   "cell_type": "markdown",
   "metadata": {},
   "source": [
    "### Função Ângulo \n",
    "\n",
    "Dada uma curva diferenciável $\\gamma:I\\to \\mathcal{S}^1$"
   ]
  },
  {
   "cell_type": "code",
   "execution_count": null,
   "metadata": {},
   "outputs": [],
   "source": []
  }
 ],
 "metadata": {
  "kernelspec": {
   "display_name": "Python 3.7.3 64-bit ('base')",
   "language": "python",
   "name": "python37364bitbase6782713bed674ed7a26121bd52530782"
  },
  "language_info": {
   "codemirror_mode": {
    "name": "ipython",
    "version": 3
   },
   "file_extension": ".py",
   "mimetype": "text/x-python",
   "name": "python",
   "nbconvert_exporter": "python",
   "pygments_lexer": "ipython3",
   "version": "3.7.1"
  }
 },
 "nbformat": 4,
 "nbformat_minor": 4
}
