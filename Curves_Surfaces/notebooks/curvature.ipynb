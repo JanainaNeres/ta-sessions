{
 "cells": [
  {
   "cell_type": "markdown",
   "metadata": {},
   "source": [
    "# Curvatura de uma curva\n",
    "\n",
    "## Curvatura \n",
    "\n",
    "Seja $\\gamma$ uma curva parametrizada pelo comprimeto de arco. Definimos **curvatura** como a função $\\kappa(t) = ||\\ddot{\\gamma}(t)||$. Essa definição é consistente com o que esperávamos de uma reta (curvatura nula) e de um círculo (curvatura constante). Além disso se $\\gamma$ é uma curva regular qualquer, ela tem uma reparametrização pelo comprimento de arco. Portanto, podemos definir a sua curvatura como sendo a curvatura de sua reparametrização pelo comprimento de arco. Isto é, seja $\\hat{\\gamma}$ uma reparametrização pelo comprimento de arco de $\\gamma$ com curvatura $\\kappa$. Então a curvatura de $\\gamma$ será $\\kappa$. \n",
    "\n",
    "Uma questão que se levanta é: e se houver outra reparametrização pelo comprimento de  arco para $\\gamma$? Para isso, precisamos mostrar que a curvatura é invariante (não muda) segundo a reparametrização. Isso não é dificíl de ver pois as tangentes das reparametrizações têm mesmo tamanho e, possivelmente, diferentes sinal.\n",
    "\n",
    "### Curvatura de uma curva regular\n",
    "\n",
    "Seja $\\gamma(t)$ uma curva em $\\mathbb{R}^3$, então sua curvatura é dada pela expressão\n",
    "\n",
    "$$\n",
    "\\kappa = \\frac{||\\ddot{\\gamma} \\times \\dot{\\gamma}||}{||\\dot{\\gamma}||^3}\n",
    "$$\n",
    "\n",
    "Observe que para curvas no plano essa expressão pode também ser utilizada, \n",
    "\n",
    "$$\n",
    "\\kappa = \\frac{|\\ddot{\\gamma}_1\\dot{\\gamma}_2 - \\ddot{\\gamma}_2\\dot{\\gamma}_1|}{||\\dot{\\gamma}||^3}\n",
    "$$\n",
    "\n",
    "### Curvatura com sinal \n",
    "\n",
    "Definimos a **normal unitária com sinal** $n(s)$ o vetor unitário que rotaciona o vetor tangente no sentido anti-horário em $\\pi/2$. Em particular, $\\ddot{\\gamma}(s)$ e $\\dot{\\gamma}(s)$ são perpendiculares (pois a curva é parametrizada pelo comprimento de arco) e, portanto, é paralelo a $n(s)$, e assim\n",
    "\n",
    "$$\n",
    "\\ddot{\\gamma}(s) = \\kappa_s(s) n(s)\n",
    "$$\n",
    "\n",
    "Chamamos $\\kappa_s$ de **curvatura com sinal**. Em particular, $\\kappa = |\\kappa_s|$."
   ]
  },
  {
   "cell_type": "markdown",
   "metadata": {},
   "source": [
    "### Função Ângulo \n",
    "\n",
    "Dada uma curva diferenciável $\\gamma: I \\to \\mathcal{S}^1$, onde $\\mathcal{S}^1$ é o círculo centrado na origem, dizemos que $\\theta : I \\to \\mathbb{R}$ é função ângulo de $\\gamma$ quando \n",
    "$$\n",
    "\\gamma(s) = (\\cos(\\theta(s)), \\sin(\\theta(s)), \\forall s \\in I\n",
    "$$\n",
    "\n",
    "*Observe que nessa definição, a imagem de $\\gamma$ é um subconjunto de $\\mathcal{S}^1$, como se fosse um arco. Por exemplo,*\n",
    "\n",
    "$\\gamma(s) = (\\cos(2s), \\sin(2s)) \\implies \\theta(s) = 2s$.\n",
    "\n",
    "Considere o operador que rotaciona no sentido anti-horário em 90° um vetor. Podemos descrevê-lo em forma matricial como \n",
    "\n",
    "$$\n",
    "J = \\begin{bmatrix}\n",
    "0 & -1 \\\\\n",
    "1 & 0\n",
    "\\end{bmatrix}\n",
    "$$\n",
    "\n",
    "Defina o **determinante** entre dois vetores como \n",
    "\n",
    "$$\n",
    "det(v,w) = \\langle Jv , w \\rangle\n",
    "$$\n",
    "\n",
    "que é o produto interno do vetor $v$ rotacionado e $w$."
   ]
  },
  {
   "cell_type": "markdown",
   "metadata": {},
   "source": [
    "#### Diferenciabilidade\n",
    "\n",
    "Seja $\\gamma : I \\to \\mathcal{S}^1$ uma curva diferenciável. Então $\\gamma$ admite uma função ângulo $\\theta$ diferenciável. Além disso, se $\\hat{\\theta}$ é função ângulo diferenciável de $\\gamma$, ela difere de $\\theta$ por uma constante. \n",
    "\n",
    "> Note que supondo a existência dessa função diferenciável, temos que, por aplicação da Regra da Cadeia, \n",
    "$$\n",
    "\\gamma '(s) = \\theta '(s)(-\\sin(\\theta(s)), \\cos(\\theta(s))) = \\theta '(s) J\\gamma(s)\n",
    "$$\n",
    "Portanto, aplicando o produto interno em ambos os lados, observamos que \n",
    "$$\n",
    "\\theta '(s) = det(\\gamma(s), \\gamma '(s))\n",
    "$$\n",
    "Assim, a demonstração se dá defininido $\\theta$ com essa derivada (Teorema Fundamental do Cálculo). \n"
   ]
  },
  {
   "cell_type": "markdown",
   "metadata": {},
   "source": [
    "Agora seja $\\alpha$ uma curva regular, sem perda de generalidade, parametrizada pelo comprimento de arco. Seja $t(s) = \\alpha '(s)$. Como $||t(s)|| = 1$, pela proposição anterior, existe uma função ângulo diferenciável $\\theta$ de forma que definimos a curvatura de $\\alpha$ como\n",
    "\n",
    "$$\n",
    "k(s) = \\theta '(s) = det(t(s), t'(s)) = det(\\alpha'(s), \\alpha''(s))\n",
    "$$\n",
    "\n",
    "**Observação 1:** Se $\\alpha$ é regular, sua curvatura é \n",
    "$$\n",
    "\\kappa(s) = \\frac{det(\\alpha'(s), \\alpha''(s))}{||\\alpha '(s)||^3}\n",
    "$$\n",
    "\n",
    "**Observação 2:** Estamos rotacionando o vetor tangente, obtendo o que chamamos de *vetor normal unitário* e fazendo o produto interno com a aceleração da curva, o que coincide com a definição prévia! "
   ]
  },
  {
   "cell_type": "markdown",
   "metadata": {},
   "source": [
    "**Exemplo:** Considere a parametrização do círculo $\\alpha(s) = p + r(\\cos(s/r), \\sin(s/r)), s \\in \\mathbb{R}$. Assim\n",
    "\n",
    "$$\n",
    "\\alpha'(s) = (-\\sin(s/r), \\cos(s/r))\n",
    "$$\n",
    "\n",
    "$$\n",
    "\\alpha''(s) = -\\frac{1}{r}(\\cos(s/r), \\sin(s/r)) = \\frac{1}{r}J\\alpha '(s)\n",
    "$$\n",
    "\n",
    "$$\n",
    "\\kappa(s) = \\langle J\\alpha '(s), \\alpha ''(s) \\rangle = \\frac{1}{r}\n",
    "$$\n"
   ]
  },
  {
   "cell_type": "markdown",
   "metadata": {},
   "source": [
    "## Movimento Rígido\n",
    "\n",
    "**Isometria:** Uma aplicação $F: \\mathbb{R}^n \\to \\mathbb{R}^n$ que preserva distância, isto é, $||x - y|| = ||F(x) - F(y)||, \\forall x, y \\in \\mathbb{R}^n$. Diremos uma **movimento rígido** é uma isometria (a rigidez em mudar distâncias).\n",
    "\n",
    "**Translação:** Uma aplicação $F: \\mathbb{R}^n \\to \\mathbb{R}^n$  do tipo $v \\mapsto F(v) := v + a$, para algum $a \\in \\mathbb{R}^n$ fixo. \n",
    "\n",
    "**Transformação Ortogonal:** Uma transformação **linear** que presetva o produto interno, isto é, $\\langle u, v \\rangle = \\langle T(u), T(v) \\rangle$. A matriz associada a essa transformação é ortogonal. \n",
    "\n",
    "Dizemos que o movimento é **direto** se $det(P) = 1$ e oposto ou inverso quando $det(P) = -1$. \n",
    "\n",
    "### Teorema \n",
    "\n",
    "Seja $P_{n\\times n}$ uma matriz ortogonal e $a \\in \\mathbb{R}^n$. Então $F: \\mathbb{R}^n \\to \\mathbb{R}^n$ definido como $F(v) = Pv + a$ é uma isometria. Reciprocamente, toda isometria pode ser escrito nessa forma.  Esse teorema permite uma caracterização simples de um movimento rígido.\n",
    "\n",
    "### Invariância da curvatura\n",
    "\n",
    "Sejam $\\Phi = A + p_0$ um movimento rígido direto de $R^2$ e $\\alpha : I \\to \\mathbb{R}^2$ uma curva regular parametrizada por comprimento de arco. Então, $\\beta = \\Phi \\circ \\alpha : I \\to \\mathbb{R}^2$ é uma curva regular de $\\mathbb{R}^2$, parametrizada por comprimento de arco, cuja função curvatura coincide com a de $\\alpha$, isto é, $\\kappa_{\\alpha}(s) = \\kappa_{\\beta}(s) \\forall s \\in I$.\n",
    "\n",
    "> Observe que derivar $\\beta ' = \\Phi'(\\alpha) = A\\alpha '$ o que garante que $\\beta$ é parametrizada pelo comprimento de arco e que $\\beta '' = A\\alpha ''$. Portanto, como $det(A) = 1$, vale que as curvaturas são as mesmas. "
   ]
  },
  {
   "cell_type": "markdown",
   "metadata": {},
   "source": [
    "## Equações de Frenet \n",
    "\n",
    "Seja $\\alpha$ uma curva parametrizada pelo compimento de arco com vetor normal $n(s)$ e vetor tangente $t(s)$. Observe que para cada $s$, esses vetores formam um base ortonormal para $\\mathbb{R}^2$. Chamamos essa base de  *diedro de Frenet*. Já definimos curvatura com sinal $\\kappa$ quando $t'(s) = \\kappa(s) n(s)$. Além disso, $||n(s)|| = 1 \\implies n(s) \\perp n'(s)$. Portanto $n'(s)$ é paralelo a $t(s)$. Logo $n'(s) = \\langle n'(s), t(s) \\rangle t(s)$ e: \n",
    "\n",
    "$$\n",
    "\\langle n'(s), t(s) \\rangle = \\langle Jt'(s), t(s) \\rangle = -\\langle t'(s), Jt(s) \\rangle = -det(t(s), t'(s)) = -\\kappa(s)\n",
    "$$\n",
    "\n",
    "Assim obtemos as *equações de Frenet*: \n",
    "\n",
    "$$\n",
    "t' = \\kappa \\cdot n\n",
    "$$\n",
    "$$\n",
    "n' = -\\kappa \\cdot t\n",
    "$$\n",
    "\n",
    "As equações de Frenet são, portanto, um sistema de equações diferenciais envolvendo a base ortonormal para cada $s$. \n",
    "\n",
    "## Teorema Fundamental das Curvas no Plano\n",
    "\n",
    "Sejam $I$ um intervalo aberto e $\\kappa : I \\to \\mathbb{R}$ uma função diferenciável. Então, existe\n",
    "uma curva diferenciável, $\\alpha : I \\to \\mathbb{R}^2$, parametrizada por comprimento de arco, cuja função curvatura $\\kappa_{\\alpha}$ coincide com $\\kappa$. Além disso, para toda curva $\\beta : I \\to \\mathbb{R}^2$, parametrizada por comprimento de arco, que cumpre $\\kappa_{\\beta} = \\kappa$, existe um movimento rígido $\\Phi : \\mathbb{R}^2 \\to \\mathbb{R}^2$, tal que $\\alpha = \\Phi \\circ \\beta$."
   ]
  }
 ],
 "metadata": {
  "kernelspec": {
   "display_name": "Python 3.7.3 64-bit ('base')",
   "language": "python",
   "name": "python37364bitbase6782713bed674ed7a26121bd52530782"
  },
  "language_info": {
   "codemirror_mode": {
    "name": "ipython",
    "version": 3
   },
   "file_extension": ".py",
   "mimetype": "text/x-python",
   "name": "python",
   "nbconvert_exporter": "python",
   "pygments_lexer": "ipython3",
   "version": "3.7.1"
  }
 },
 "nbformat": 4,
 "nbformat_minor": 4
}
