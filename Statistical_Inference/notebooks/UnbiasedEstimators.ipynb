{
 "cells": [
  {
   "cell_type": "markdown",
   "metadata": {},
   "source": [
    "# Estimadores não enviesados\n",
    "\n",
    "## Definição\n",
    "\n",
    "Um estimador $\\delta(X)$ é dito não enviesado para $g(\\theta)$ se $E_{\\theta}[\\delta(X)] = g(\\theta)$ para todo valor de $\\theta$. O viés do estimador é definido por $E_{\\theta}[\\delta(X)] - g(\\theta)$. \n",
    "\n",
    "Se $\\delta$ é um estimador com variância finita, então: \n",
    "\n",
    "$$\n",
    "R(\\theta, \\delta) = Var(\\delta) + Viés(\\delta)^2\n",
    "$$\n",
    "\n",
    "### Estimador não enviesado para variância\n",
    "\n",
    "$$s^2 = \\hat{\\sigma}_1^2 = \\frac{1}{n-1}\\sum_{i=1}^n (X_i - \\bar{X}_n)^2$$"
   ]
  },
  {
   "cell_type": "code",
   "execution_count": 2,
   "metadata": {},
   "outputs": [],
   "source": [
    "# Importando bibliotecas\n",
    "import numpy as np\n",
    "import pandas as pd \n",
    "\n",
    "from IPython.display import display, Math  # Display latex\n",
    "\n",
    "import matplotlib.pyplot as plt \n",
    "%matplotlib inline\n",
    "\n",
    "np.random.seed(1000) # Garantindo reprodutibilidade"
   ]
  },
  {
   "cell_type": "markdown",
   "metadata": {},
   "source": [
    "#### Nota: Por que garantir reprodutibilidade? \n",
    "\n",
    "Reprodutibilidade é a ideia de tornar o processo que foi feito por você reprodutível por qualquer outra pessoa, para que ela possa obter os mesmos resultados seguindo os mesmos passos que você. \n",
    "\n",
    "Quando escolhemos um número aleatório (*pseudoaleatório* na verdade), ele muda de tempos em tempos. Mas isso vai tirar a ideia de \"garantir os mesmos resultados\". O resultado pode ser parecido, mas não exatamente igual. \n",
    "\n",
    "Isso é muito importante no meio científico. "
   ]
  },
  {
   "cell_type": "markdown",
   "metadata": {},
   "source": [
    "### Exemplo\n",
    "\n",
    "Vamos ver como se comporta esse estimador não viesado em uma população que representa o Brasil todo! Veja que eu não peguei dados online, porque quero TODA a população. Por isso vamos fazer uma simulação. A média verdadeira da distribuição é 161,1cm e o desvio padrão é 10cm. "
   ]
  },
  {
   "cell_type": "code",
   "execution_count": 3,
   "metadata": {},
   "outputs": [],
   "source": [
    "# Tamanho da população\n",
    "N = int(200e5)\n",
    "# População gerada por simulação, usando a distribuição normal. \n",
    "population_height = pd.Series(np.random.normal(loc = 161.1, scale = 10, size = N))"
   ]
  },
  {
   "cell_type": "markdown",
   "metadata": {},
   "source": [
    "Podemos ver a média dessa população."
   ]
  },
  {
   "cell_type": "code",
   "execution_count": 4,
   "metadata": {},
   "outputs": [
    {
     "data": {
      "text/plain": [
       "161.10097546939974"
      ]
     },
     "execution_count": 4,
     "metadata": {},
     "output_type": "execute_result"
    }
   ],
   "source": [
    "population_height.mean()"
   ]
  },
  {
   "cell_type": "markdown",
   "metadata": {},
   "source": [
    "O que a função `var` do pandas faz? Vamos comparar com o estimador trivial. "
   ]
  },
  {
   "cell_type": "code",
   "execution_count": 10,
   "metadata": {},
   "outputs": [
    {
     "data": {
      "text/plain": [
       "100.02715920849081"
      ]
     },
     "execution_count": 10,
     "metadata": {},
     "output_type": "execute_result"
    }
   ],
   "source": [
    "ddof = 1 # Se ddof = 0, teremos a divisão por N\n",
    "population_height.var(ddof = ddof)"
   ]
  },
  {
   "cell_type": "markdown",
   "metadata": {},
   "source": [
    "Divindindo por $N$"
   ]
  },
  {
   "cell_type": "code",
   "execution_count": 5,
   "metadata": {},
   "outputs": [
    {
     "data": {
      "text/latex": [
       "$\\displaystyle \\hat\\sigma^2 = 100.02715420713488$"
      ],
      "text/plain": [
       "<IPython.core.display.Math object>"
      ]
     },
     "metadata": {},
     "output_type": "display_data"
    },
    {
     "data": {
      "text/latex": [
       "$\\displaystyle \\hat\\sigma_1^2 = 100.02715920849283$"
      ],
      "text/plain": [
       "<IPython.core.display.Math object>"
      ]
     },
     "metadata": {},
     "output_type": "display_data"
    }
   ],
   "source": [
    "sigma_square_hat = ((population_height - population_height.mean())**2).sum()/N\n",
    "sigma1_square_hat = ((population_height - population_height.mean())**2).sum()/(N-1)\n",
    "\n",
    "display(Math(r'\\hat\\sigma^2 = {}'.format(sigma_square_hat)))\n",
    "display(Math(r'\\hat\\sigma_1^2 = {}'.format(sigma1_square_hat)))"
   ]
  },
  {
   "cell_type": "markdown",
   "metadata": {},
   "source": [
    "### Estimação dos Parâmetros\n",
    "\n",
    "Vamos supor que não conhecemos os parâmetros da nossa população e podemos conhecer apenas uma amostra aleatória dela. Vamos fazer 500 dessas simulações "
   ]
  },
  {
   "cell_type": "code",
   "execution_count": 6,
   "metadata": {},
   "outputs": [],
   "source": [
    "number_simulations = 500\n",
    "sample_size = 30 \n",
    "\n",
    "sample = pd.DataFrame(population_height.sample(n = number_simulations*sample_size, \n",
    "                                               replace=True, random_state = 100), \n",
    "                      columns = ['height'])\n",
    "\n",
    "reshape = sample.to_numpy().reshape((-1,30))\n",
    "samples = pd.DataFrame(reshape, columns = range(0,30))"
   ]
  },
  {
   "cell_type": "markdown",
   "metadata": {},
   "source": [
    "Vamos estimar a média com a média amostral que é não viesada também! Além disso ela é o MLE. Estamos estimado para cada amostra a média! Se fizermos uma média das médias, veremos que ela chegará próximo a média verdadeira. "
   ]
  },
  {
   "cell_type": "code",
   "execution_count": 7,
   "metadata": {},
   "outputs": [],
   "source": [
    "estimated_mean = samples.mean(axis = 1)  #Axis = 1 faz a média por linha. \n",
    "\n",
    "estimated_mean_of_means = estimated_mean.expanding().mean()"
   ]
  },
  {
   "cell_type": "code",
   "execution_count": 12,
   "metadata": {},
   "outputs": [
    {
     "data": {
      "image/png": "[encoded data removed]",
      "text/plain": [
       "<Figure size 576x360 with 1 Axes>"
      ]
     },
     "metadata": {
      "needs_background": "light"
     },
     "output_type": "display_data"
    }
   ],
   "source": [
    "fig, ax = plt.subplots(figsize = (8,5))\n",
    "ax.plot(estimated_mean_of_means, label = 'Valor estimado')\n",
    "ax.hlines(population_height.mean(), xmin = 0, xmax = number_simulations, \n",
    "          color = 'grey', linestyle = '--', alpha = 0.8, label = 'Valor verdadeiro')\n",
    "ax.grid(alpha = 0.4)\n",
    "ax.set_title('Estimado a média verdadeira')\n",
    "plt.show()"
   ]
  },
  {
   "cell_type": "markdown",
   "metadata": {},
   "source": [
    "Vamos comparar os estimadores para a variância, o viesado e o não viesado."
   ]
  },
  {
   "cell_type": "code",
   "execution_count": 24,
   "metadata": {},
   "outputs": [
    {
     "data": {
      "image/png": "[encoded data removed]",
      "text/plain": [
       "<Figure size 432x288 with 1 Axes>"
      ]
     },
     "metadata": {
      "needs_background": "light"
     },
     "output_type": "display_data"
    }
   ],
   "source": [
    "df = pd.DataFrame({'enviesado (dividido por n)': samples.var(ddof=0, axis = 1).expanding().mean(),\n",
    "                   'nao_viesado (dividido por n - 1)': samples.var(ddof=1, axis = 1).expanding().mean(),\n",
    "                   'verdadeiro': pd.Series(population_height.var(ddof=0), index=samples.index)})\n",
    "ax = df.plot()\n",
    "ax.set_title('Estimadores para a variância')\n",
    "ax.grid(alpha = 0.4)\n",
    "\n",
    "plt.show()"
   ]
  },
  {
   "cell_type": "code",
   "execution_count": null,
   "metadata": {},
   "outputs": [],
   "source": [
    "# Comparar com Conscistência "
   ]
  }
 ],
 "metadata": {
  "kernelspec": {
   "display_name": "Python 3",
   "language": "python",
   "name": "python3"
  },
  "language_info": {
   "codemirror_mode": {
    "name": "ipython",
    "version": 3
   },
   "file_extension": ".py",
   "mimetype": "text/x-python",
   "name": "python",
   "nbconvert_exporter": "python",
   "pygments_lexer": "ipython3",
   "version": "3.7.3"
  }
 },
 "nbformat": 4,
 "nbformat_minor": 4
}
