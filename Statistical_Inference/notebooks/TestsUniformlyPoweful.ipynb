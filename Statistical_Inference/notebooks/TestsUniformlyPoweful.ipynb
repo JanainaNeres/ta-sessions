{
 "cells": [
  {
   "cell_type": "markdown",
   "metadata": {},
   "source": [
    "# Testes Uniformemente mais Poderosos\n",
    "\n",
    "Estamos lidando com um teste de hipóteses com as variáveis aleatórias $X_1, ..., X_n$ de uma distribuição parametrizada em $\\theta$ desconhecido. \n",
    "$$\n",
    "H_0: \\theta \\in \\Omega_0\n",
    "$$\n",
    "$$\n",
    "H_1: \\theta \\in \\Omega_1\n",
    "$$\n",
    "Assumiremos que $\\Omega_1$ não é conjunto unitário. Também suponha que o nível de significância do teste seja $\\alpha_0$, isto é $\\pi(\\theta|\\delta) \\le \\alpha_0, \\forall \\theta \\in \\Omega_0$.  \n",
    "\n",
    "Segundo essas condições, queremos encontrar o procedimento de teste $\\delta$ que tem a menor probabilidade de erro do tipo II. "
   ]
  },
  {
   "cell_type": "markdown",
   "metadata": {},
   "source": [
    "TODO (Descrever os principais resultados)"
   ]
  },
  {
   "cell_type": "code",
   "execution_count": null,
   "metadata": {},
   "outputs": [],
   "source": []
  }
 ],
 "metadata": {
  "kernelspec": {
   "display_name": "Python 3.7.3 64-bit ('base')",
   "language": "python",
   "name": "python37364bitbase6782713bed674ed7a26121bd52530782"
  },
  "language_info": {
   "codemirror_mode": {
    "name": "ipython",
    "version": 3
   },
   "file_extension": ".py",
   "mimetype": "text/x-python",
   "name": "python",
   "nbconvert_exporter": "python",
   "pygments_lexer": "ipython3",
   "version": "3.7.3"
  }
 },
 "nbformat": 4,
 "nbformat_minor": 4
}
