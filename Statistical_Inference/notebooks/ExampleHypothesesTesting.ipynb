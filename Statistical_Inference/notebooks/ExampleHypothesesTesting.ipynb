{
 "cells": [
  {
   "cell_type": "markdown",
   "metadata": {},
   "source": [
    "# Simples Exemplos em Teste de Hipóteses \n",
    "\n",
    "### Referência:  [Dr. Tirthajyoti Sarkar](https://github.com/tirthajyoti), Fremont, 94536\n",
    "\n",
    "Vamos lembrar que nosso objetivo é testar hipóteses científicas com uma formulação estatística, a fim de fazer alguma inferência sobre os parâmetros de algum modelo. \n",
    "\n",
    "Os testes que serão discutidos nesse notebook são: \n",
    "\n",
    "1. Proporção de uma população. \n",
    "2. Deferença entre proporção de populações\n",
    "3. Média de uma população. \n",
    "4. Diferença enre médias de populações. "
   ]
  },
  {
   "cell_type": "code",
   "execution_count": 5,
   "metadata": {},
   "outputs": [],
   "source": [
    "import statsmodels.api as sm\n",
    "import numpy as np\n",
    "import matplotlib.pyplot as plt\n",
    "import pandas as pd"
   ]
  },
  {
   "cell_type": "markdown",
   "metadata": {},
   "source": [
    "## Proporção de uma População \n",
    "\n",
    "1. **Questão**: Em anos anteriores, 52% dos pais acreditavam que a falta de sono era causada por eletrônicos e as médias sociais em seus filhos e filhas adolescentes. E agora, como essa proporção se encontra? \n",
    "\n",
    "2. **População**: Pais com filhos e filhas adolescentes de 13 a 18 anos. \n",
    "\n",
    "3. **Parâmetro de interesse:** $p$\n",
    "\n",
    "4. $H_0: p \\le 0.52$ e $H_1: p > 0.52$. \n",
    "\n",
    "5. **Dados:** Pesquisa entre 1018 pessoas: 56% acreditam agora. "
   ]
  },
  {
   "cell_type": "markdown",
   "metadata": {},
   "source": [
    "### Teste Z para proporções \n",
    "\n",
    "Vamos usar um teste chamado teste Z, considerando que $X_1 , ..., X_n \\sim Bernoulli(p)\n",
    "\n",
    "$$\n",
    "Z = \\frac{\\bar{X}_n - \\pi_0}{\\sqrt{(\\pi_0(1 - \\pi_0)/n)}}\n",
    "$$\n",
    "\n",
    "Onde $\\pi_0$ é o valor limiar, no caso 0.52. \n",
    "\n",
    "Observe que quando $p = \\pi_0$, a estatística $Z$ é aproximadamente normal padrão quando $n$ cresce. \n",
    "\n",
    "O que esse teste mensura? No denominador, temos o desvio padrão de quando $p = \\pi_0$. Portanto, estamos medindo a distância entre a média amostral e o limiar em unidades de desvio padrão. Nosso procedimento de teste será, portanto, se $Z \\ge c$, rejeitamos $H_0$, mas com nível de significância $\\alpha_0$, isto é: \n",
    "\n",
    "$$\n",
    "P(Z \\ge c|p \\le \\pi_0) \\le \\alpha_0\n",
    "$$\n",
    "\n",
    "Podemos conferir que \n",
    "\n",
    "$$\n",
    "\\begin{split}\n",
    "P(Z \\ge c) &= P\\left(\\frac{\\bar{X}_n - \\pi_0}{\\sqrt{(\\pi_0(1 - \\pi_0)/n)}} \\ge c\\right) \\\\\n",
    "&= P\\left(\\frac{\\bar{X}_n - p}{\\sqrt{(p(1 - p)/n)}}\\frac{\\sqrt{(p(1 - p)/n)}}{\\sqrt{(\\pi_0(1 - \\pi_0)/n)}} + \\frac{p - \\pi_0}{\\sqrt{(\\pi_0(1 - \\pi_0)/n)}} \\ge c\\right) \\\\\n",
    "&= P\\left(\\frac{\\bar{X}_n - p}{\\sqrt{(p(1 - p)/n)}} \\ge c\\frac{\\sqrt{\\pi_0(1 - \\pi_0)}}{\\sqrt{p(1 - p)}} - \\frac{p - \\pi_0}{\\sqrt{(p(1 - p)/n)}}\\right) \\\\\n",
    "&\\approx 1 - \\Phi\\left(c\\frac{\\sqrt{\\pi_0(1 - \\pi_0)}}{\\sqrt{p(1 - p)}} - \\frac{p - \\pi_0}{\\sqrt{(p(1 - p)/n)}}\\right), \\text{ pelo Teo. Central do Limite}\n",
    "\\end{split}\n",
    "$$\n",
    "\n",
    "Assim podemos encontrar $\\alpha_0$ a partir do máximo que essa quantidade assume (Mas  com uma obseevação bem detalhada, quando $n$ é grande, $p = 0.52$ é o maximizador)\n",
    "\n",
    "Mas como isso funciona na prática, propriamente dito.\n",
    "\n",
    "Tenho que escolher um valor limiar para o p-valor, isto é, se p-valor for menor do que esse limiar, eu rejeito a hipótese. Vou ficar esse limiar em 0.05, mas isso é arbitrário, apesar da literatura costumar usá-lo. "
   ]
  },
  {
   "cell_type": "code",
   "execution_count": 19,
   "metadata": {},
   "outputs": [],
   "source": [
    "n = 1018\n",
    "pnull = .52\n",
    "phat = .56"
   ]
  },
  {
   "cell_type": "code",
   "execution_count": 18,
   "metadata": {},
   "outputs": [
    {
     "output_type": "stream",
     "name": "stdout",
     "text": [
      "O valor da estatística de teste foi 0.6392739759907055 e o p-valor 0.26132235751888716\n"
     ]
    }
   ],
   "source": [
    "ztest, pvalue = sm.stats.proportions_ztest(count = phat*n,   #número de sucessos\n",
    "                                           nobs = n,          #número de observações\n",
    "                                           value = pnull,    #pi_0\n",
    "                                           alternative = 'larger') #hipótese alternativa \n",
    "\n",
    "print('O valor da estatística de teste foi {} e o p-valor {}'.format(ztest, pvalue))                        "
   ]
  },
  {
   "cell_type": "markdown",
   "metadata": {},
   "source": [
    "### Conclusão do teste de hipóteses\n",
    "\n",
    "Como o p-valor foi menor do que nosso limiar, nós temos evidência para rejeitar a hipótese nula que dizia que a prporção teria permanecido ou até diminuído. \n",
    "\n",
    "Isso não significa que aceitamos a hipótese alternativa, apenas que temos evidência para acreditar que a proporção seja maior do que 0.52. "
   ]
  },
  {
   "cell_type": "code",
   "execution_count": 28,
   "metadata": {},
   "outputs": [],
   "source": [
    "n = 1018\n",
    "pnull = .52\n",
    "phat = .53"
   ]
  },
  {
   "cell_type": "code",
   "execution_count": 29,
   "metadata": {},
   "outputs": [
    {
     "output_type": "stream",
     "name": "stdout",
     "text": [
      "O valor da estatística de teste foi 0.6392739759907055 e o p-valor 0.26132235751888716\n"
     ]
    }
   ],
   "source": [
    "ztest, pvalue = sm.stats.proportions_ztest(count = phat*n,   #número de sucessos\n",
    "                                           nobs = n,          #número de observações\n",
    "                                           value = pnull,    #pi_0\n",
    "                                           alternative = 'larger') #hipótese alternativa \n",
    "\n",
    "print('O valor da estatística de teste foi {} e o p-valor {}'.format(ztest, pvalue))        "
   ]
  },
  {
   "cell_type": "markdown",
   "metadata": {},
   "source": [
    "## Diferença entre propoções de duas populações \n",
    "\n",
    "1. **Questão**: Existe diferença significativa entre pais ingleses e pais alemães que reportaram que seus filhos e filhas tiveram aulas de natação? \n",
    "\n",
    "2. **População**: Pais com filhos e filhas ingleses e alemães. \n",
    "\n",
    "3. **Parâmetro de interesse:** $p_{ingleses} = p_i$ e $p_{alemaes} = p_a$.  \n",
    "\n",
    "4. $H_0: p_i - p_a = 0$ e $H_1: p_i - p_a \\neq 0$. \n",
    "\n",
    "5. **Dados:** 247 pais ingleses responderam e dentre eles 36.8% reportaram que sim. Pais alemães foram 308, 38.9% que disseram sim. "
   ]
  },
  {
   "cell_type": "markdown",
   "metadata": {},
   "source": [
    "### Teste T para proporções \n",
    "\n",
    "Na verdade, poderíamos usar o teste Z, com a mesma ideia, só que nesse caso, teríamos que tomar um pouco de cuidado com o denominador, dado que agora existem duas médias, então nosso estimador para o desvio padrão deve levar em conta esses dois fatores e $n$ deve ser suficientemente grande para que não tenhamos problema. \n",
    "\n",
    "Para evitar isso, vamos usar o T teste. A estatística de teste é a seguinte, tratando como $X$ e $Y$ as duas amostras consideradas. \n",
    "\n",
    "$$\n",
    "t = \\frac{\\bar{X}_n - \\bar{Y}_m}{SE}\n",
    "$$\n",
    "\n",
    "Nesse caso $SE$ é o erro entre a diferença entre a médias: isso tem um pequeno problema quando $m \\neq n$. Então fazer as contas no papel não é trivial. \n",
    "\n",
    "Confira [aqui](https://en.wikipedia.org/wiki/Student%27s_t-test#Independent_two-sample_t-test) as definições de SE precisas. \n",
    "\n",
    "Como nossa intenção é apenas usar esse teste, vamos mostrar como isso pode ser prático. \n"
   ]
  },
  {
   "cell_type": "code",
   "execution_count": 33,
   "metadata": {},
   "outputs": [],
   "source": [
    "n = 247\n",
    "pi = .368\n",
    "\n",
    "m = 308\n",
    "pa = .389\n",
    "\n",
    "# Gerando as populações\n",
    "\n",
    "england = np.random.binomial(n = 1, p = pi, size = n)\n",
    "germany = np.random.binomial(n = 1, p = pa, size = m)"
   ]
  },
  {
   "cell_type": "code",
   "execution_count": 36,
   "metadata": {},
   "outputs": [
    {
     "output_type": "stream",
     "name": "stdout",
     "text": [
      "O p-valor foi 0.2615435082780627\n"
     ]
    }
   ],
   "source": [
    "_, p_value, _ = sm.stats.ttest_ind(england, germany)\n",
    "\n",
    "print('O p-valor foi {}'.format(p_value))"
   ]
  },
  {
   "cell_type": "markdown",
   "metadata": {},
   "source": [
    "### Conclusão sobre o teste de hipóteses\n",
    "\n",
    "Dado que o p-valor é maior do que nosso limiar, não podemos rejeitar a hipótese nula. Nesse caso, a diferença das proporções nas popuçações não foi nada mais do que meramente uma aleatoriedade. \n",
    "\n",
    "\n",
    "### Mas o que acontece se essas proporções se mantiveram para mais pessoas? "
   ]
  },
  {
   "cell_type": "code",
   "execution_count": 70,
   "metadata": {},
   "outputs": [],
   "source": [
    "n = 5000\n",
    "pi = .37\n",
    "\n",
    "m = 5000\n",
    "pa = .389\n",
    "\n",
    "england = np.random.binomial(n = 1, p = pi, size = n)\n",
    "germany = np.random.binomial(n = 1, p = pa, size = m)"
   ]
  },
  {
   "cell_type": "code",
   "execution_count": 71,
   "metadata": {},
   "outputs": [
    {
     "output_type": "stream",
     "name": "stdout",
     "text": [
      "O p-valor foi 0.027721099791980015\n"
     ]
    }
   ],
   "source": [
    "_, p_value, _ = sm.stats.ttest_ind(england, germany)\n",
    "\n",
    "print('O p-valor foi {}'.format(p_value))"
   ]
  },
  {
   "cell_type": "markdown",
   "metadata": {},
   "source": [
    "## Diferença entre médias de populações \n",
    "\n",
    "1. **Questão**: Considerando os adultos nos dados da [NHAMES](https://www.cdc.gov/nchs/nhanes/index.htm), homens tem maior média de [Índice de  Massa Corpórea](https://www.cdc.gov/healthyweight/assessing/bmi/index.html) do que mulheres? \n",
    "\n",
    "2. **População**: Adultos na base NHAMES. \n",
    "\n",
    "3. **Parâmetro de interesse:** $\\mu_{homens} = \\mu_h$ e $\\mu_{mulheres} = \\mu_m$.  \n",
    "\n",
    "4. $H_0: \\mu_1 = \\mu_2$ e $H_1: \\mu_1 \\neq \\mu_2$. \n",
    "\n",
    "5. **Dados:** \n",
    "\n",
    "2976 mulheres adultas\n",
    "\n",
    "$\\hat{\\mu}_m = 29.94$  \n",
    "$\\hat{\\sigma}_m = 7.75$  \n",
    "\n",
    "2759 homens adultos\n",
    "\n",
    "$\\hat{\\mu}_h = 28.78$  \n",
    "$\\hat{\\sigma}_h = 6.25$  \n"
   ]
  },
  {
   "cell_type": "code",
   "execution_count": 72,
   "metadata": {},
   "outputs": [
    {
     "output_type": "execute_result",
     "data": {
      "text/plain": [
       "    SEQN  ALQ101  ALQ110  ALQ130  SMQ020  RIAGENDR  RIDAGEYR  RIDRETH1  \\\n",
       "0  83732     1.0     NaN     1.0       1         1        62         3   \n",
       "1  83733     1.0     NaN     6.0       1         1        53         3   \n",
       "2  83734     1.0     NaN     NaN       1         1        78         3   \n",
       "3  83735     2.0     1.0     1.0       2         2        56         3   \n",
       "4  83736     2.0     1.0     1.0       2         2        42         4   \n",
       "\n",
       "   DMDCITZN  DMDEDUC2  ...  BPXSY2  BPXDI2  BMXWT  BMXHT  BMXBMI  BMXLEG  \\\n",
       "0       1.0       5.0  ...   124.0    64.0   94.8  184.5    27.8    43.3   \n",
       "1       2.0       3.0  ...   140.0    88.0   90.4  171.4    30.8    38.0   \n",
       "2       1.0       3.0  ...   132.0    44.0   83.4  170.1    28.8    35.6   \n",
       "3       1.0       5.0  ...   134.0    68.0  109.8  160.9    42.4    38.5   \n",
       "4       1.0       4.0  ...   114.0    54.0   55.2  164.9    20.3    37.4   \n",
       "\n",
       "   BMXARML  BMXARMC  BMXWAIST  HIQ210  \n",
       "0     43.6     35.9     101.1     2.0  \n",
       "1     40.0     33.2     107.9     NaN  \n",
       "2     37.0     31.0     116.5     2.0  \n",
       "3     37.7     38.3     110.1     2.0  \n",
       "4     36.0     27.2      80.4     2.0  \n",
       "\n",
       "[5 rows x 28 columns]"
      ],
      "text/html": "<div>\n<style scoped>\n    .dataframe tbody tr th:only-of-type {\n        vertical-align: middle;\n    }\n\n    .dataframe tbody tr th {\n        vertical-align: top;\n    }\n\n    .dataframe thead th {\n        text-align: right;\n    }\n</style>\n<table border=\"1\" class=\"dataframe\">\n  <thead>\n    <tr style=\"text-align: right;\">\n      <th></th>\n      <th>SEQN</th>\n      <th>ALQ101</th>\n      <th>ALQ110</th>\n      <th>ALQ130</th>\n      <th>SMQ020</th>\n      <th>RIAGENDR</th>\n      <th>RIDAGEYR</th>\n      <th>RIDRETH1</th>\n      <th>DMDCITZN</th>\n      <th>DMDEDUC2</th>\n      <th>...</th>\n      <th>BPXSY2</th>\n      <th>BPXDI2</th>\n      <th>BMXWT</th>\n      <th>BMXHT</th>\n      <th>BMXBMI</th>\n      <th>BMXLEG</th>\n      <th>BMXARML</th>\n      <th>BMXARMC</th>\n      <th>BMXWAIST</th>\n      <th>HIQ210</th>\n    </tr>\n  </thead>\n  <tbody>\n    <tr>\n      <th>0</th>\n      <td>83732</td>\n      <td>1.0</td>\n      <td>NaN</td>\n      <td>1.0</td>\n      <td>1</td>\n      <td>1</td>\n      <td>62</td>\n      <td>3</td>\n      <td>1.0</td>\n      <td>5.0</td>\n      <td>...</td>\n      <td>124.0</td>\n      <td>64.0</td>\n      <td>94.8</td>\n      <td>184.5</td>\n      <td>27.8</td>\n      <td>43.3</td>\n      <td>43.6</td>\n      <td>35.9</td>\n      <td>101.1</td>\n      <td>2.0</td>\n    </tr>\n    <tr>\n      <th>1</th>\n      <td>83733</td>\n      <td>1.0</td>\n      <td>NaN</td>\n      <td>6.0</td>\n      <td>1</td>\n      <td>1</td>\n      <td>53</td>\n      <td>3</td>\n      <td>2.0</td>\n      <td>3.0</td>\n      <td>...</td>\n      <td>140.0</td>\n      <td>88.0</td>\n      <td>90.4</td>\n      <td>171.4</td>\n      <td>30.8</td>\n      <td>38.0</td>\n      <td>40.0</td>\n      <td>33.2</td>\n      <td>107.9</td>\n      <td>NaN</td>\n    </tr>\n    <tr>\n      <th>2</th>\n      <td>83734</td>\n      <td>1.0</td>\n      <td>NaN</td>\n      <td>NaN</td>\n      <td>1</td>\n      <td>1</td>\n      <td>78</td>\n      <td>3</td>\n      <td>1.0</td>\n      <td>3.0</td>\n      <td>...</td>\n      <td>132.0</td>\n      <td>44.0</td>\n      <td>83.4</td>\n      <td>170.1</td>\n      <td>28.8</td>\n      <td>35.6</td>\n      <td>37.0</td>\n      <td>31.0</td>\n      <td>116.5</td>\n      <td>2.0</td>\n    </tr>\n    <tr>\n      <th>3</th>\n      <td>83735</td>\n      <td>2.0</td>\n      <td>1.0</td>\n      <td>1.0</td>\n      <td>2</td>\n      <td>2</td>\n      <td>56</td>\n      <td>3</td>\n      <td>1.0</td>\n      <td>5.0</td>\n      <td>...</td>\n      <td>134.0</td>\n      <td>68.0</td>\n      <td>109.8</td>\n      <td>160.9</td>\n      <td>42.4</td>\n      <td>38.5</td>\n      <td>37.7</td>\n      <td>38.3</td>\n      <td>110.1</td>\n      <td>2.0</td>\n    </tr>\n    <tr>\n      <th>4</th>\n      <td>83736</td>\n      <td>2.0</td>\n      <td>1.0</td>\n      <td>1.0</td>\n      <td>2</td>\n      <td>2</td>\n      <td>42</td>\n      <td>4</td>\n      <td>1.0</td>\n      <td>4.0</td>\n      <td>...</td>\n      <td>114.0</td>\n      <td>54.0</td>\n      <td>55.2</td>\n      <td>164.9</td>\n      <td>20.3</td>\n      <td>37.4</td>\n      <td>36.0</td>\n      <td>27.2</td>\n      <td>80.4</td>\n      <td>2.0</td>\n    </tr>\n  </tbody>\n</table>\n<p>5 rows × 28 columns</p>\n</div>"
     },
     "metadata": {},
     "execution_count": 72
    }
   ],
   "source": [
    "url = \"https://raw.githubusercontent.com/kshedden/statswpy/master/NHANES/merged/nhanes_2015_2016.csv\"\n",
    "da = pd.read_csv(url)\n",
    "da.head()"
   ]
  },
  {
   "cell_type": "code",
   "execution_count": 73,
   "metadata": {},
   "outputs": [],
   "source": [
    "females = da[da[\"RIAGENDR\"] == 2]\n",
    "male = da[da[\"RIAGENDR\"] == 1]"
   ]
  },
  {
   "cell_type": "code",
   "execution_count": 74,
   "metadata": {},
   "outputs": [
    {
     "output_type": "execute_result",
     "data": {
      "text/plain": [
       "(2976, 29.939945652173996, 7.75331880954568)"
      ]
     },
     "metadata": {},
     "execution_count": 74
    }
   ],
   "source": [
    "n_m = len(females)\n",
    "mu_m = females[\"BMXBMI\"].mean()\n",
    "sd_m = females[\"BMXBMI\"].std()\n",
    "\n",
    "(n_m, mu_m, sd_m)"
   ]
  },
  {
   "cell_type": "code",
   "execution_count": 75,
   "metadata": {},
   "outputs": [
    {
     "output_type": "execute_result",
     "data": {
      "text/plain": [
       "(2759, 28.778072111846985, 6.252567616801485)"
      ]
     },
     "metadata": {},
     "execution_count": 75
    }
   ],
   "source": [
    "n_h = len(male)\n",
    "mu_h = male[\"BMXBMI\"].mean()\n",
    "sd_h = male[\"BMXBMI\"].std()\n",
    "\n",
    "(n_h, mu_h, sd_h)"
   ]
  },
  {
   "cell_type": "code",
   "execution_count": 91,
   "metadata": {},
   "outputs": [
    {
     "output_type": "display_data",
     "data": {
      "text/plain": "<Figure size 1080x360 with 2 Axes>",
      "image/svg+xml": "<?xml version=\"1.0\" encoding=\"utf-8\" standalone=\"no\"?>\n<!DOCTYPE svg PUBLIC \"-//W3C//DTD SVG 1.1//EN\"\n  \"http://www.w3.org/Graphics/SVG/1.1/DTD/svg11.dtd\">\n<!-- Created with matplotlib (https://matplotlib.org/) -->\n<svg height=\"321.035625pt\" version=\"1.1\" viewBox=\"0 0 877.4875 321.035625\" width=\"877.4875pt\" xmlns=\"http://www.w3.org/2000/svg\" xmlns:xlink=\"http://www.w3.org/1999/xlink\">\n <metadata>\n  <rdf:RDF xmlns:cc=\"http://creativecommons.org/ns#\" xmlns:dc=\"http://purl.org/dc/elements/1.1/\" xmlns:rdf=\"http://www.w3.org/1999/02/22-rdf-syntax-ns#\">\n   <cc:Work>\n    <dc:type rdf:resource=\"http://purl.org/dc/dcmitype/StillImage\"/>\n    <dc:date>2020-11-19T15:10:01.818062</dc:date>\n    <dc:format>image/svg+xml</dc:format>\n    <dc:creator>\n     <cc:Agent>\n      <dc:title>Matplotlib v3.3.0, https://matplotlib.org/</dc:title>\n     </cc:Agent>\n    </dc:creator>\n   </cc:Work>\n  </rdf:RDF>\n </metadata>\n <defs>\n  <style type=\"text/css\">*{stroke-linecap:butt;stroke-linejoin:round;}</style>\n </defs>\n <g id=\"figure_1\">\n  <g id=\"patch_1\">\n   <path d=\"M 0 321.035625 \nL 877.4875 321.035625 \nL 877.4875 0 \nL 0 0 \nz\n\" style=\"fill:none;\"/>\n  </g>\n  <g id=\"axes_1\">\n   <g id=\"patch_2\">\n    <path d=\"M 33.2875 297.1575 \nL 413.742045 297.1575 \nL 413.742045 25.3575 \nL 33.2875 25.3575 \nz\n\" style=\"fill:#ffffff;\"/>\n   </g>\n   <g id=\"patch_3\">\n    <path clip-path=\"url(#pfe4f0cbd2f)\" d=\"M 50.580888 297.1575 \nL 64.415599 297.1575 \nL 64.415599 288.975234 \nL 50.580888 288.975234 \nz\n\" style=\"fill:#8b0000;stroke:#000000;stroke-linejoin:miter;\"/>\n   </g>\n   <g id=\"patch_4\">\n    <path clip-path=\"url(#pfe4f0cbd2f)\" d=\"M 64.415599 297.1575 \nL 78.25031 297.1575 \nL 78.25031 254.014643 \nL 64.415599 254.014643 \nz\n\" style=\"fill:#8b0000;stroke:#000000;stroke-linejoin:miter;\"/>\n   </g>\n   <g id=\"patch_5\">\n    <path clip-path=\"url(#pfe4f0cbd2f)\" d=\"M 78.25031 297.1575 \nL 92.085021 297.1575 \nL 92.085021 163.265874 \nL 78.25031 163.265874 \nz\n\" style=\"fill:#8b0000;stroke:#000000;stroke-linejoin:miter;\"/>\n   </g>\n   <g id=\"patch_6\">\n    <path clip-path=\"url(#pfe4f0cbd2f)\" d=\"M 92.085021 297.1575 \nL 105.919731 297.1575 \nL 105.919731 70.285579 \nL 92.085021 70.285579 \nz\n\" style=\"fill:#8b0000;stroke:#000000;stroke-linejoin:miter;\"/>\n   </g>\n   <g id=\"patch_7\">\n    <path clip-path=\"url(#pfe4f0cbd2f)\" d=\"M 105.919731 297.1575 \nL 119.754442 297.1575 \nL 119.754442 62.103313 \nL 105.919731 62.103313 \nz\n\" style=\"fill:#8b0000;stroke:#000000;stroke-linejoin:miter;\"/>\n   </g>\n   <g id=\"patch_8\">\n    <path clip-path=\"url(#pfe4f0cbd2f)\" d=\"M 119.754442 297.1575 \nL 133.589153 297.1575 \nL 133.589153 50.201835 \nL 119.754442 50.201835 \nz\n\" style=\"fill:#8b0000;stroke:#000000;stroke-linejoin:miter;\"/>\n   </g>\n   <g id=\"patch_9\">\n    <path clip-path=\"url(#pfe4f0cbd2f)\" d=\"M 133.589153 297.1575 \nL 147.423864 297.1575 \nL 147.423864 38.300357 \nL 133.589153 38.300357 \nz\n\" style=\"fill:#8b0000;stroke:#000000;stroke-linejoin:miter;\"/>\n   </g>\n   <g id=\"patch_10\">\n    <path clip-path=\"url(#pfe4f0cbd2f)\" d=\"M 147.423864 297.1575 \nL 161.258574 297.1575 \nL 161.258574 68.797894 \nL 147.423864 68.797894 \nz\n\" style=\"fill:#8b0000;stroke:#000000;stroke-linejoin:miter;\"/>\n   </g>\n   <g id=\"patch_11\">\n    <path clip-path=\"url(#pfe4f0cbd2f)\" d=\"M 161.258574 297.1575 \nL 175.093285 297.1575 \nL 175.093285 84.418584 \nL 161.258574 84.418584 \nz\n\" style=\"fill:#8b0000;stroke:#000000;stroke-linejoin:miter;\"/>\n   </g>\n   <g id=\"patch_12\">\n    <path clip-path=\"url(#pfe4f0cbd2f)\" d=\"M 175.093285 297.1575 \nL 188.927996 297.1575 \nL 188.927996 137.975234 \nL 175.093285 137.975234 \nz\n\" style=\"fill:#8b0000;stroke:#000000;stroke-linejoin:miter;\"/>\n   </g>\n   <g id=\"patch_13\">\n    <path clip-path=\"url(#pfe4f0cbd2f)\" d=\"M 188.927996 297.1575 \nL 202.762707 297.1575 \nL 202.762707 182.605776 \nL 188.927996 182.605776 \nz\n\" style=\"fill:#8b0000;stroke:#000000;stroke-linejoin:miter;\"/>\n   </g>\n   <g id=\"patch_14\">\n    <path clip-path=\"url(#pfe4f0cbd2f)\" d=\"M 202.762707 297.1575 \nL 216.597417 297.1575 \nL 216.597417 197.482623 \nL 202.762707 197.482623 \nz\n\" style=\"fill:#8b0000;stroke:#000000;stroke-linejoin:miter;\"/>\n   </g>\n   <g id=\"patch_15\">\n    <path clip-path=\"url(#pfe4f0cbd2f)\" d=\"M 216.597417 297.1575 \nL 230.432128 297.1575 \nL 230.432128 239.881638 \nL 216.597417 239.881638 \nz\n\" style=\"fill:#8b0000;stroke:#000000;stroke-linejoin:miter;\"/>\n   </g>\n   <g id=\"patch_16\">\n    <path clip-path=\"url(#pfe4f0cbd2f)\" d=\"M 230.432128 297.1575 \nL 244.266839 297.1575 \nL 244.266839 246.576219 \nL 230.432128 246.576219 \nz\n\" style=\"fill:#8b0000;stroke:#000000;stroke-linejoin:miter;\"/>\n   </g>\n   <g id=\"patch_17\">\n    <path clip-path=\"url(#pfe4f0cbd2f)\" d=\"M 244.266839 297.1575 \nL 258.10155 297.1575 \nL 258.10155 262.940751 \nL 244.266839 262.940751 \nz\n\" style=\"fill:#8b0000;stroke:#000000;stroke-linejoin:miter;\"/>\n   </g>\n   <g id=\"patch_18\">\n    <path clip-path=\"url(#pfe4f0cbd2f)\" d=\"M 258.10155 297.1575 \nL 271.93626 297.1575 \nL 271.93626 276.329914 \nL 258.10155 276.329914 \nz\n\" style=\"fill:#8b0000;stroke:#000000;stroke-linejoin:miter;\"/>\n   </g>\n   <g id=\"patch_19\">\n    <path clip-path=\"url(#pfe4f0cbd2f)\" d=\"M 271.93626 297.1575 \nL 285.770971 297.1575 \nL 285.770971 272.610702 \nL 271.93626 272.610702 \nz\n\" style=\"fill:#8b0000;stroke:#000000;stroke-linejoin:miter;\"/>\n   </g>\n   <g id=\"patch_20\">\n    <path clip-path=\"url(#pfe4f0cbd2f)\" d=\"M 285.770971 297.1575 \nL 299.605682 297.1575 \nL 299.605682 291.950603 \nL 285.770971 291.950603 \nz\n\" style=\"fill:#8b0000;stroke:#000000;stroke-linejoin:miter;\"/>\n   </g>\n   <g id=\"patch_21\">\n    <path clip-path=\"url(#pfe4f0cbd2f)\" d=\"M 299.605682 297.1575 \nL 313.440393 297.1575 \nL 313.440393 290.462919 \nL 299.605682 290.462919 \nz\n\" style=\"fill:#8b0000;stroke:#000000;stroke-linejoin:miter;\"/>\n   </g>\n   <g id=\"patch_22\">\n    <path clip-path=\"url(#pfe4f0cbd2f)\" d=\"M 313.440393 297.1575 \nL 327.275103 297.1575 \nL 327.275103 288.975234 \nL 313.440393 288.975234 \nz\n\" style=\"fill:#8b0000;stroke:#000000;stroke-linejoin:miter;\"/>\n   </g>\n   <g id=\"patch_23\">\n    <path clip-path=\"url(#pfe4f0cbd2f)\" d=\"M 327.275103 297.1575 \nL 341.109814 297.1575 \nL 341.109814 292.694446 \nL 327.275103 292.694446 \nz\n\" style=\"fill:#8b0000;stroke:#000000;stroke-linejoin:miter;\"/>\n   </g>\n   <g id=\"patch_24\">\n    <path clip-path=\"url(#pfe4f0cbd2f)\" d=\"M 341.109814 297.1575 \nL 354.944525 297.1575 \nL 354.944525 293.438288 \nL 341.109814 293.438288 \nz\n\" style=\"fill:#8b0000;stroke:#000000;stroke-linejoin:miter;\"/>\n   </g>\n   <g id=\"patch_25\">\n    <path clip-path=\"url(#pfe4f0cbd2f)\" d=\"M 354.944525 297.1575 \nL 368.779236 297.1575 \nL 368.779236 294.925973 \nL 354.944525 294.925973 \nz\n\" style=\"fill:#8b0000;stroke:#000000;stroke-linejoin:miter;\"/>\n   </g>\n   <g id=\"patch_26\">\n    <path clip-path=\"url(#pfe4f0cbd2f)\" d=\"M 368.779236 297.1575 \nL 382.613946 297.1575 \nL 382.613946 293.438288 \nL 368.779236 293.438288 \nz\n\" style=\"fill:#8b0000;stroke:#000000;stroke-linejoin:miter;\"/>\n   </g>\n   <g id=\"patch_27\">\n    <path clip-path=\"url(#pfe4f0cbd2f)\" d=\"M 382.613946 297.1575 \nL 396.448657 297.1575 \nL 396.448657 296.413658 \nL 382.613946 296.413658 \nz\n\" style=\"fill:#8b0000;stroke:#000000;stroke-linejoin:miter;\"/>\n   </g>\n   <g id=\"matplotlib.axis_1\">\n    <g id=\"xtick_1\">\n     <g id=\"line2d_1\">\n      <defs>\n       <path d=\"M 0 0 \nL 0 3.5 \n\" id=\"m5637cad472\" style=\"stroke:#000000;stroke-width:0.8;\"/>\n      </defs>\n      <g>\n       <use style=\"stroke:#000000;stroke-width:0.8;\" x=\"86.608781\" xlink:href=\"#m5637cad472\" y=\"297.1575\"/>\n      </g>\n     </g>\n     <g id=\"text_1\">\n      <!-- 20 -->\n      <g transform=\"translate(80.246281 311.755937)scale(0.1 -0.1)\">\n       <defs>\n        <path d=\"M 19.1875 8.296875 \nL 53.609375 8.296875 \nL 53.609375 0 \nL 7.328125 0 \nL 7.328125 8.296875 \nQ 12.9375 14.109375 22.625 23.890625 \nQ 32.328125 33.6875 34.8125 36.53125 \nQ 39.546875 41.84375 41.421875 45.53125 \nQ 43.3125 49.21875 43.3125 52.78125 \nQ 43.3125 58.59375 39.234375 62.25 \nQ 35.15625 65.921875 28.609375 65.921875 \nQ 23.96875 65.921875 18.8125 64.3125 \nQ 13.671875 62.703125 7.8125 59.421875 \nL 7.8125 69.390625 \nQ 13.765625 71.78125 18.9375 73 \nQ 24.125 74.21875 28.421875 74.21875 \nQ 39.75 74.21875 46.484375 68.546875 \nQ 53.21875 62.890625 53.21875 53.421875 \nQ 53.21875 48.921875 51.53125 44.890625 \nQ 49.859375 40.875 45.40625 35.40625 \nQ 44.1875 33.984375 37.640625 27.21875 \nQ 31.109375 20.453125 19.1875 8.296875 \nz\n\" id=\"DejaVuSans-50\"/>\n        <path d=\"M 31.78125 66.40625 \nQ 24.171875 66.40625 20.328125 58.90625 \nQ 16.5 51.421875 16.5 36.375 \nQ 16.5 21.390625 20.328125 13.890625 \nQ 24.171875 6.390625 31.78125 6.390625 \nQ 39.453125 6.390625 43.28125 13.890625 \nQ 47.125 21.390625 47.125 36.375 \nQ 47.125 51.421875 43.28125 58.90625 \nQ 39.453125 66.40625 31.78125 66.40625 \nz\nM 31.78125 74.21875 \nQ 44.046875 74.21875 50.515625 64.515625 \nQ 56.984375 54.828125 56.984375 36.375 \nQ 56.984375 17.96875 50.515625 8.265625 \nQ 44.046875 -1.421875 31.78125 -1.421875 \nQ 19.53125 -1.421875 13.0625 8.265625 \nQ 6.59375 17.96875 6.59375 36.375 \nQ 6.59375 54.828125 13.0625 64.515625 \nQ 19.53125 74.21875 31.78125 74.21875 \nz\n\" id=\"DejaVuSans-48\"/>\n       </defs>\n       <use xlink:href=\"#DejaVuSans-50\"/>\n       <use x=\"63.623047\" xlink:href=\"#DejaVuSans-48\"/>\n      </g>\n     </g>\n    </g>\n    <g id=\"xtick_2\">\n     <g id=\"line2d_2\">\n      <g>\n       <use style=\"stroke:#000000;stroke-width:0.8;\" x=\"152.11404\" xlink:href=\"#m5637cad472\" y=\"297.1575\"/>\n      </g>\n     </g>\n     <g id=\"text_2\">\n      <!-- 30 -->\n      <g transform=\"translate(145.75154 311.755937)scale(0.1 -0.1)\">\n       <defs>\n        <path d=\"M 40.578125 39.3125 \nQ 47.65625 37.796875 51.625 33 \nQ 55.609375 28.21875 55.609375 21.1875 \nQ 55.609375 10.40625 48.1875 4.484375 \nQ 40.765625 -1.421875 27.09375 -1.421875 \nQ 22.515625 -1.421875 17.65625 -0.515625 \nQ 12.796875 0.390625 7.625 2.203125 \nL 7.625 11.71875 \nQ 11.71875 9.328125 16.59375 8.109375 \nQ 21.484375 6.890625 26.8125 6.890625 \nQ 36.078125 6.890625 40.9375 10.546875 \nQ 45.796875 14.203125 45.796875 21.1875 \nQ 45.796875 27.640625 41.28125 31.265625 \nQ 36.765625 34.90625 28.71875 34.90625 \nL 20.21875 34.90625 \nL 20.21875 43.015625 \nL 29.109375 43.015625 \nQ 36.375 43.015625 40.234375 45.921875 \nQ 44.09375 48.828125 44.09375 54.296875 \nQ 44.09375 59.90625 40.109375 62.90625 \nQ 36.140625 65.921875 28.71875 65.921875 \nQ 24.65625 65.921875 20.015625 65.03125 \nQ 15.375 64.15625 9.8125 62.3125 \nL 9.8125 71.09375 \nQ 15.4375 72.65625 20.34375 73.4375 \nQ 25.25 74.21875 29.59375 74.21875 \nQ 40.828125 74.21875 47.359375 69.109375 \nQ 53.90625 64.015625 53.90625 55.328125 \nQ 53.90625 49.265625 50.4375 45.09375 \nQ 46.96875 40.921875 40.578125 39.3125 \nz\n\" id=\"DejaVuSans-51\"/>\n       </defs>\n       <use xlink:href=\"#DejaVuSans-51\"/>\n       <use x=\"63.623047\" xlink:href=\"#DejaVuSans-48\"/>\n      </g>\n     </g>\n    </g>\n    <g id=\"xtick_3\">\n     <g id=\"line2d_3\">\n      <g>\n       <use style=\"stroke:#000000;stroke-width:0.8;\" x=\"217.619299\" xlink:href=\"#m5637cad472\" y=\"297.1575\"/>\n      </g>\n     </g>\n     <g id=\"text_3\">\n      <!-- 40 -->\n      <g transform=\"translate(211.256799 311.755937)scale(0.1 -0.1)\">\n       <defs>\n        <path d=\"M 37.796875 64.3125 \nL 12.890625 25.390625 \nL 37.796875 25.390625 \nz\nM 35.203125 72.90625 \nL 47.609375 72.90625 \nL 47.609375 25.390625 \nL 58.015625 25.390625 \nL 58.015625 17.1875 \nL 47.609375 17.1875 \nL 47.609375 0 \nL 37.796875 0 \nL 37.796875 17.1875 \nL 4.890625 17.1875 \nL 4.890625 26.703125 \nz\n\" id=\"DejaVuSans-52\"/>\n       </defs>\n       <use xlink:href=\"#DejaVuSans-52\"/>\n       <use x=\"63.623047\" xlink:href=\"#DejaVuSans-48\"/>\n      </g>\n     </g>\n    </g>\n    <g id=\"xtick_4\">\n     <g id=\"line2d_4\">\n      <g>\n       <use style=\"stroke:#000000;stroke-width:0.8;\" x=\"283.124559\" xlink:href=\"#m5637cad472\" y=\"297.1575\"/>\n      </g>\n     </g>\n     <g id=\"text_4\">\n      <!-- 50 -->\n      <g transform=\"translate(276.762059 311.755937)scale(0.1 -0.1)\">\n       <defs>\n        <path d=\"M 10.796875 72.90625 \nL 49.515625 72.90625 \nL 49.515625 64.59375 \nL 19.828125 64.59375 \nL 19.828125 46.734375 \nQ 21.96875 47.46875 24.109375 47.828125 \nQ 26.265625 48.1875 28.421875 48.1875 \nQ 40.625 48.1875 47.75 41.5 \nQ 54.890625 34.8125 54.890625 23.390625 \nQ 54.890625 11.625 47.5625 5.09375 \nQ 40.234375 -1.421875 26.90625 -1.421875 \nQ 22.3125 -1.421875 17.546875 -0.640625 \nQ 12.796875 0.140625 7.71875 1.703125 \nL 7.71875 11.625 \nQ 12.109375 9.234375 16.796875 8.0625 \nQ 21.484375 6.890625 26.703125 6.890625 \nQ 35.15625 6.890625 40.078125 11.328125 \nQ 45.015625 15.765625 45.015625 23.390625 \nQ 45.015625 31 40.078125 35.4375 \nQ 35.15625 39.890625 26.703125 39.890625 \nQ 22.75 39.890625 18.8125 39.015625 \nQ 14.890625 38.140625 10.796875 36.28125 \nz\n\" id=\"DejaVuSans-53\"/>\n       </defs>\n       <use xlink:href=\"#DejaVuSans-53\"/>\n       <use x=\"63.623047\" xlink:href=\"#DejaVuSans-48\"/>\n      </g>\n     </g>\n    </g>\n    <g id=\"xtick_5\">\n     <g id=\"line2d_5\">\n      <g>\n       <use style=\"stroke:#000000;stroke-width:0.8;\" x=\"348.629818\" xlink:href=\"#m5637cad472\" y=\"297.1575\"/>\n      </g>\n     </g>\n     <g id=\"text_5\">\n      <!-- 60 -->\n      <g transform=\"translate(342.267318 311.755937)scale(0.1 -0.1)\">\n       <defs>\n        <path d=\"M 33.015625 40.375 \nQ 26.375 40.375 22.484375 35.828125 \nQ 18.609375 31.296875 18.609375 23.390625 \nQ 18.609375 15.53125 22.484375 10.953125 \nQ 26.375 6.390625 33.015625 6.390625 \nQ 39.65625 6.390625 43.53125 10.953125 \nQ 47.40625 15.53125 47.40625 23.390625 \nQ 47.40625 31.296875 43.53125 35.828125 \nQ 39.65625 40.375 33.015625 40.375 \nz\nM 52.59375 71.296875 \nL 52.59375 62.3125 \nQ 48.875 64.0625 45.09375 64.984375 \nQ 41.3125 65.921875 37.59375 65.921875 \nQ 27.828125 65.921875 22.671875 59.328125 \nQ 17.53125 52.734375 16.796875 39.40625 \nQ 19.671875 43.65625 24.015625 45.921875 \nQ 28.375 48.1875 33.59375 48.1875 \nQ 44.578125 48.1875 50.953125 41.515625 \nQ 57.328125 34.859375 57.328125 23.390625 \nQ 57.328125 12.15625 50.6875 5.359375 \nQ 44.046875 -1.421875 33.015625 -1.421875 \nQ 20.359375 -1.421875 13.671875 8.265625 \nQ 6.984375 17.96875 6.984375 36.375 \nQ 6.984375 53.65625 15.1875 63.9375 \nQ 23.390625 74.21875 37.203125 74.21875 \nQ 40.921875 74.21875 44.703125 73.484375 \nQ 48.484375 72.75 52.59375 71.296875 \nz\n\" id=\"DejaVuSans-54\"/>\n       </defs>\n       <use xlink:href=\"#DejaVuSans-54\"/>\n       <use x=\"63.623047\" xlink:href=\"#DejaVuSans-48\"/>\n      </g>\n     </g>\n    </g>\n   </g>\n   <g id=\"matplotlib.axis_2\">\n    <g id=\"ytick_1\">\n     <g id=\"line2d_6\">\n      <defs>\n       <path d=\"M 0 0 \nL -3.5 0 \n\" id=\"meddb739bcd\" style=\"stroke:#000000;stroke-width:0.8;\"/>\n      </defs>\n      <g>\n       <use style=\"stroke:#000000;stroke-width:0.8;\" x=\"33.2875\" xlink:href=\"#meddb739bcd\" y=\"297.1575\"/>\n      </g>\n     </g>\n     <g id=\"text_6\">\n      <!-- 0 -->\n      <g transform=\"translate(19.925 300.956719)scale(0.1 -0.1)\">\n       <use xlink:href=\"#DejaVuSans-48\"/>\n      </g>\n     </g>\n    </g>\n    <g id=\"ytick_2\">\n     <g id=\"line2d_7\">\n      <g>\n       <use style=\"stroke:#000000;stroke-width:0.8;\" x=\"33.2875\" xlink:href=\"#meddb739bcd\" y=\"259.965382\"/>\n      </g>\n     </g>\n     <g id=\"text_7\">\n      <!-- 50 -->\n      <g transform=\"translate(13.5625 263.764601)scale(0.1 -0.1)\">\n       <use xlink:href=\"#DejaVuSans-53\"/>\n       <use x=\"63.623047\" xlink:href=\"#DejaVuSans-48\"/>\n      </g>\n     </g>\n    </g>\n    <g id=\"ytick_3\">\n     <g id=\"line2d_8\">\n      <g>\n       <use style=\"stroke:#000000;stroke-width:0.8;\" x=\"33.2875\" xlink:href=\"#meddb739bcd\" y=\"222.773264\"/>\n      </g>\n     </g>\n     <g id=\"text_8\">\n      <!-- 100 -->\n      <g transform=\"translate(7.2 226.572482)scale(0.1 -0.1)\">\n       <defs>\n        <path d=\"M 12.40625 8.296875 \nL 28.515625 8.296875 \nL 28.515625 63.921875 \nL 10.984375 60.40625 \nL 10.984375 69.390625 \nL 28.421875 72.90625 \nL 38.28125 72.90625 \nL 38.28125 8.296875 \nL 54.390625 8.296875 \nL 54.390625 0 \nL 12.40625 0 \nz\n\" id=\"DejaVuSans-49\"/>\n       </defs>\n       <use xlink:href=\"#DejaVuSans-49\"/>\n       <use x=\"63.623047\" xlink:href=\"#DejaVuSans-48\"/>\n       <use x=\"127.246094\" xlink:href=\"#DejaVuSans-48\"/>\n      </g>\n     </g>\n    </g>\n    <g id=\"ytick_4\">\n     <g id=\"line2d_9\">\n      <g>\n       <use style=\"stroke:#000000;stroke-width:0.8;\" x=\"33.2875\" xlink:href=\"#meddb739bcd\" y=\"185.581145\"/>\n      </g>\n     </g>\n     <g id=\"text_9\">\n      <!-- 150 -->\n      <g transform=\"translate(7.2 189.380364)scale(0.1 -0.1)\">\n       <use xlink:href=\"#DejaVuSans-49\"/>\n       <use x=\"63.623047\" xlink:href=\"#DejaVuSans-53\"/>\n       <use x=\"127.246094\" xlink:href=\"#DejaVuSans-48\"/>\n      </g>\n     </g>\n    </g>\n    <g id=\"ytick_5\">\n     <g id=\"line2d_10\">\n      <g>\n       <use style=\"stroke:#000000;stroke-width:0.8;\" x=\"33.2875\" xlink:href=\"#meddb739bcd\" y=\"148.389027\"/>\n      </g>\n     </g>\n     <g id=\"text_10\">\n      <!-- 200 -->\n      <g transform=\"translate(7.2 152.188246)scale(0.1 -0.1)\">\n       <use xlink:href=\"#DejaVuSans-50\"/>\n       <use x=\"63.623047\" xlink:href=\"#DejaVuSans-48\"/>\n       <use x=\"127.246094\" xlink:href=\"#DejaVuSans-48\"/>\n      </g>\n     </g>\n    </g>\n    <g id=\"ytick_6\">\n     <g id=\"line2d_11\">\n      <g>\n       <use style=\"stroke:#000000;stroke-width:0.8;\" x=\"33.2875\" xlink:href=\"#meddb739bcd\" y=\"111.196909\"/>\n      </g>\n     </g>\n     <g id=\"text_11\">\n      <!-- 250 -->\n      <g transform=\"translate(7.2 114.996128)scale(0.1 -0.1)\">\n       <use xlink:href=\"#DejaVuSans-50\"/>\n       <use x=\"63.623047\" xlink:href=\"#DejaVuSans-53\"/>\n       <use x=\"127.246094\" xlink:href=\"#DejaVuSans-48\"/>\n      </g>\n     </g>\n    </g>\n    <g id=\"ytick_7\">\n     <g id=\"line2d_12\">\n      <g>\n       <use style=\"stroke:#000000;stroke-width:0.8;\" x=\"33.2875\" xlink:href=\"#meddb739bcd\" y=\"74.004791\"/>\n      </g>\n     </g>\n     <g id=\"text_12\">\n      <!-- 300 -->\n      <g transform=\"translate(7.2 77.804009)scale(0.1 -0.1)\">\n       <use xlink:href=\"#DejaVuSans-51\"/>\n       <use x=\"63.623047\" xlink:href=\"#DejaVuSans-48\"/>\n       <use x=\"127.246094\" xlink:href=\"#DejaVuSans-48\"/>\n      </g>\n     </g>\n    </g>\n    <g id=\"ytick_8\">\n     <g id=\"line2d_13\">\n      <g>\n       <use style=\"stroke:#000000;stroke-width:0.8;\" x=\"33.2875\" xlink:href=\"#meddb739bcd\" y=\"36.812672\"/>\n      </g>\n     </g>\n     <g id=\"text_13\">\n      <!-- 350 -->\n      <g transform=\"translate(7.2 40.611891)scale(0.1 -0.1)\">\n       <use xlink:href=\"#DejaVuSans-51\"/>\n       <use x=\"63.623047\" xlink:href=\"#DejaVuSans-53\"/>\n       <use x=\"127.246094\" xlink:href=\"#DejaVuSans-48\"/>\n      </g>\n     </g>\n    </g>\n   </g>\n   <g id=\"patch_28\">\n    <path d=\"M 33.2875 297.1575 \nL 33.2875 25.3575 \n\" style=\"fill:none;stroke:#000000;stroke-linecap:square;stroke-linejoin:miter;stroke-width:0.8;\"/>\n   </g>\n   <g id=\"patch_29\">\n    <path d=\"M 413.742045 297.1575 \nL 413.742045 25.3575 \n\" style=\"fill:none;stroke:#000000;stroke-linecap:square;stroke-linejoin:miter;stroke-width:0.8;\"/>\n   </g>\n   <g id=\"patch_30\">\n    <path d=\"M 33.2875 297.1575 \nL 413.742045 297.1575 \n\" style=\"fill:none;stroke:#000000;stroke-linecap:square;stroke-linejoin:miter;stroke-width:0.8;\"/>\n   </g>\n   <g id=\"patch_31\">\n    <path d=\"M 33.2875 25.3575 \nL 413.742045 25.3575 \n\" style=\"fill:none;stroke:#000000;stroke-linecap:square;stroke-linejoin:miter;stroke-width:0.8;\"/>\n   </g>\n   <g id=\"text_14\">\n    <!-- Histogram BMI para mulheres -->\n    <g transform=\"translate(104.187273 19.3575)scale(0.16 -0.16)\">\n     <defs>\n      <path d=\"M 9.8125 72.90625 \nL 19.671875 72.90625 \nL 19.671875 43.015625 \nL 55.515625 43.015625 \nL 55.515625 72.90625 \nL 65.375 72.90625 \nL 65.375 0 \nL 55.515625 0 \nL 55.515625 34.71875 \nL 19.671875 34.71875 \nL 19.671875 0 \nL 9.8125 0 \nz\n\" id=\"DejaVuSans-72\"/>\n      <path d=\"M 9.421875 54.6875 \nL 18.40625 54.6875 \nL 18.40625 0 \nL 9.421875 0 \nz\nM 9.421875 75.984375 \nL 18.40625 75.984375 \nL 18.40625 64.59375 \nL 9.421875 64.59375 \nz\n\" id=\"DejaVuSans-105\"/>\n      <path d=\"M 44.28125 53.078125 \nL 44.28125 44.578125 \nQ 40.484375 46.53125 36.375 47.5 \nQ 32.28125 48.484375 27.875 48.484375 \nQ 21.1875 48.484375 17.84375 46.4375 \nQ 14.5 44.390625 14.5 40.28125 \nQ 14.5 37.15625 16.890625 35.375 \nQ 19.28125 33.59375 26.515625 31.984375 \nL 29.59375 31.296875 \nQ 39.15625 29.25 43.1875 25.515625 \nQ 47.21875 21.78125 47.21875 15.09375 \nQ 47.21875 7.46875 41.1875 3.015625 \nQ 35.15625 -1.421875 24.609375 -1.421875 \nQ 20.21875 -1.421875 15.453125 -0.5625 \nQ 10.6875 0.296875 5.421875 2 \nL 5.421875 11.28125 \nQ 10.40625 8.6875 15.234375 7.390625 \nQ 20.0625 6.109375 24.8125 6.109375 \nQ 31.15625 6.109375 34.5625 8.28125 \nQ 37.984375 10.453125 37.984375 14.40625 \nQ 37.984375 18.0625 35.515625 20.015625 \nQ 33.0625 21.96875 24.703125 23.78125 \nL 21.578125 24.515625 \nQ 13.234375 26.265625 9.515625 29.90625 \nQ 5.8125 33.546875 5.8125 39.890625 \nQ 5.8125 47.609375 11.28125 51.796875 \nQ 16.75 56 26.8125 56 \nQ 31.78125 56 36.171875 55.265625 \nQ 40.578125 54.546875 44.28125 53.078125 \nz\n\" id=\"DejaVuSans-115\"/>\n      <path d=\"M 18.3125 70.21875 \nL 18.3125 54.6875 \nL 36.8125 54.6875 \nL 36.8125 47.703125 \nL 18.3125 47.703125 \nL 18.3125 18.015625 \nQ 18.3125 11.328125 20.140625 9.421875 \nQ 21.96875 7.515625 27.59375 7.515625 \nL 36.8125 7.515625 \nL 36.8125 0 \nL 27.59375 0 \nQ 17.1875 0 13.234375 3.875 \nQ 9.28125 7.765625 9.28125 18.015625 \nL 9.28125 47.703125 \nL 2.6875 47.703125 \nL 2.6875 54.6875 \nL 9.28125 54.6875 \nL 9.28125 70.21875 \nz\n\" id=\"DejaVuSans-116\"/>\n      <path d=\"M 30.609375 48.390625 \nQ 23.390625 48.390625 19.1875 42.75 \nQ 14.984375 37.109375 14.984375 27.296875 \nQ 14.984375 17.484375 19.15625 11.84375 \nQ 23.34375 6.203125 30.609375 6.203125 \nQ 37.796875 6.203125 41.984375 11.859375 \nQ 46.1875 17.53125 46.1875 27.296875 \nQ 46.1875 37.015625 41.984375 42.703125 \nQ 37.796875 48.390625 30.609375 48.390625 \nz\nM 30.609375 56 \nQ 42.328125 56 49.015625 48.375 \nQ 55.71875 40.765625 55.71875 27.296875 \nQ 55.71875 13.875 49.015625 6.21875 \nQ 42.328125 -1.421875 30.609375 -1.421875 \nQ 18.84375 -1.421875 12.171875 6.21875 \nQ 5.515625 13.875 5.515625 27.296875 \nQ 5.515625 40.765625 12.171875 48.375 \nQ 18.84375 56 30.609375 56 \nz\n\" id=\"DejaVuSans-111\"/>\n      <path d=\"M 45.40625 27.984375 \nQ 45.40625 37.75 41.375 43.109375 \nQ 37.359375 48.484375 30.078125 48.484375 \nQ 22.859375 48.484375 18.828125 43.109375 \nQ 14.796875 37.75 14.796875 27.984375 \nQ 14.796875 18.265625 18.828125 12.890625 \nQ 22.859375 7.515625 30.078125 7.515625 \nQ 37.359375 7.515625 41.375 12.890625 \nQ 45.40625 18.265625 45.40625 27.984375 \nz\nM 54.390625 6.78125 \nQ 54.390625 -7.171875 48.1875 -13.984375 \nQ 42 -20.796875 29.203125 -20.796875 \nQ 24.46875 -20.796875 20.265625 -20.09375 \nQ 16.0625 -19.390625 12.109375 -17.921875 \nL 12.109375 -9.1875 \nQ 16.0625 -11.328125 19.921875 -12.34375 \nQ 23.78125 -13.375 27.78125 -13.375 \nQ 36.625 -13.375 41.015625 -8.765625 \nQ 45.40625 -4.15625 45.40625 5.171875 \nL 45.40625 9.625 \nQ 42.625 4.78125 38.28125 2.390625 \nQ 33.9375 0 27.875 0 \nQ 17.828125 0 11.671875 7.65625 \nQ 5.515625 15.328125 5.515625 27.984375 \nQ 5.515625 40.671875 11.671875 48.328125 \nQ 17.828125 56 27.875 56 \nQ 33.9375 56 38.28125 53.609375 \nQ 42.625 51.21875 45.40625 46.390625 \nL 45.40625 54.6875 \nL 54.390625 54.6875 \nz\n\" id=\"DejaVuSans-103\"/>\n      <path d=\"M 41.109375 46.296875 \nQ 39.59375 47.171875 37.8125 47.578125 \nQ 36.03125 48 33.890625 48 \nQ 26.265625 48 22.1875 43.046875 \nQ 18.109375 38.09375 18.109375 28.8125 \nL 18.109375 0 \nL 9.078125 0 \nL 9.078125 54.6875 \nL 18.109375 54.6875 \nL 18.109375 46.1875 \nQ 20.953125 51.171875 25.484375 53.578125 \nQ 30.03125 56 36.53125 56 \nQ 37.453125 56 38.578125 55.875 \nQ 39.703125 55.765625 41.0625 55.515625 \nz\n\" id=\"DejaVuSans-114\"/>\n      <path d=\"M 34.28125 27.484375 \nQ 23.390625 27.484375 19.1875 25 \nQ 14.984375 22.515625 14.984375 16.5 \nQ 14.984375 11.71875 18.140625 8.90625 \nQ 21.296875 6.109375 26.703125 6.109375 \nQ 34.1875 6.109375 38.703125 11.40625 \nQ 43.21875 16.703125 43.21875 25.484375 \nL 43.21875 27.484375 \nz\nM 52.203125 31.203125 \nL 52.203125 0 \nL 43.21875 0 \nL 43.21875 8.296875 \nQ 40.140625 3.328125 35.546875 0.953125 \nQ 30.953125 -1.421875 24.3125 -1.421875 \nQ 15.921875 -1.421875 10.953125 3.296875 \nQ 6 8.015625 6 15.921875 \nQ 6 25.140625 12.171875 29.828125 \nQ 18.359375 34.515625 30.609375 34.515625 \nL 43.21875 34.515625 \nL 43.21875 35.40625 \nQ 43.21875 41.609375 39.140625 45 \nQ 35.0625 48.390625 27.6875 48.390625 \nQ 23 48.390625 18.546875 47.265625 \nQ 14.109375 46.140625 10.015625 43.890625 \nL 10.015625 52.203125 \nQ 14.9375 54.109375 19.578125 55.046875 \nQ 24.21875 56 28.609375 56 \nQ 40.484375 56 46.34375 49.84375 \nQ 52.203125 43.703125 52.203125 31.203125 \nz\n\" id=\"DejaVuSans-97\"/>\n      <path d=\"M 52 44.1875 \nQ 55.375 50.25 60.0625 53.125 \nQ 64.75 56 71.09375 56 \nQ 79.640625 56 84.28125 50.015625 \nQ 88.921875 44.046875 88.921875 33.015625 \nL 88.921875 0 \nL 79.890625 0 \nL 79.890625 32.71875 \nQ 79.890625 40.578125 77.09375 44.375 \nQ 74.3125 48.1875 68.609375 48.1875 \nQ 61.625 48.1875 57.5625 43.546875 \nQ 53.515625 38.921875 53.515625 30.90625 \nL 53.515625 0 \nL 44.484375 0 \nL 44.484375 32.71875 \nQ 44.484375 40.625 41.703125 44.40625 \nQ 38.921875 48.1875 33.109375 48.1875 \nQ 26.21875 48.1875 22.15625 43.53125 \nQ 18.109375 38.875 18.109375 30.90625 \nL 18.109375 0 \nL 9.078125 0 \nL 9.078125 54.6875 \nL 18.109375 54.6875 \nL 18.109375 46.1875 \nQ 21.1875 51.21875 25.484375 53.609375 \nQ 29.78125 56 35.6875 56 \nQ 41.65625 56 45.828125 52.96875 \nQ 50 49.953125 52 44.1875 \nz\n\" id=\"DejaVuSans-109\"/>\n      <path id=\"DejaVuSans-32\"/>\n      <path d=\"M 19.671875 34.8125 \nL 19.671875 8.109375 \nL 35.5 8.109375 \nQ 43.453125 8.109375 47.28125 11.40625 \nQ 51.125 14.703125 51.125 21.484375 \nQ 51.125 28.328125 47.28125 31.5625 \nQ 43.453125 34.8125 35.5 34.8125 \nz\nM 19.671875 64.796875 \nL 19.671875 42.828125 \nL 34.28125 42.828125 \nQ 41.5 42.828125 45.03125 45.53125 \nQ 48.578125 48.25 48.578125 53.8125 \nQ 48.578125 59.328125 45.03125 62.0625 \nQ 41.5 64.796875 34.28125 64.796875 \nz\nM 9.8125 72.90625 \nL 35.015625 72.90625 \nQ 46.296875 72.90625 52.390625 68.21875 \nQ 58.5 63.53125 58.5 54.890625 \nQ 58.5 48.1875 55.375 44.234375 \nQ 52.25 40.28125 46.1875 39.3125 \nQ 53.46875 37.75 57.5 32.78125 \nQ 61.53125 27.828125 61.53125 20.40625 \nQ 61.53125 10.640625 54.890625 5.3125 \nQ 48.25 0 35.984375 0 \nL 9.8125 0 \nz\n\" id=\"DejaVuSans-66\"/>\n      <path d=\"M 9.8125 72.90625 \nL 24.515625 72.90625 \nL 43.109375 23.296875 \nL 61.8125 72.90625 \nL 76.515625 72.90625 \nL 76.515625 0 \nL 66.890625 0 \nL 66.890625 64.015625 \nL 48.09375 14.015625 \nL 38.1875 14.015625 \nL 19.390625 64.015625 \nL 19.390625 0 \nL 9.8125 0 \nz\n\" id=\"DejaVuSans-77\"/>\n      <path d=\"M 9.8125 72.90625 \nL 19.671875 72.90625 \nL 19.671875 0 \nL 9.8125 0 \nz\n\" id=\"DejaVuSans-73\"/>\n      <path d=\"M 18.109375 8.203125 \nL 18.109375 -20.796875 \nL 9.078125 -20.796875 \nL 9.078125 54.6875 \nL 18.109375 54.6875 \nL 18.109375 46.390625 \nQ 20.953125 51.265625 25.265625 53.625 \nQ 29.59375 56 35.59375 56 \nQ 45.5625 56 51.78125 48.09375 \nQ 58.015625 40.1875 58.015625 27.296875 \nQ 58.015625 14.40625 51.78125 6.484375 \nQ 45.5625 -1.421875 35.59375 -1.421875 \nQ 29.59375 -1.421875 25.265625 0.953125 \nQ 20.953125 3.328125 18.109375 8.203125 \nz\nM 48.6875 27.296875 \nQ 48.6875 37.203125 44.609375 42.84375 \nQ 40.53125 48.484375 33.40625 48.484375 \nQ 26.265625 48.484375 22.1875 42.84375 \nQ 18.109375 37.203125 18.109375 27.296875 \nQ 18.109375 17.390625 22.1875 11.75 \nQ 26.265625 6.109375 33.40625 6.109375 \nQ 40.53125 6.109375 44.609375 11.75 \nQ 48.6875 17.390625 48.6875 27.296875 \nz\n\" id=\"DejaVuSans-112\"/>\n      <path d=\"M 8.5 21.578125 \nL 8.5 54.6875 \nL 17.484375 54.6875 \nL 17.484375 21.921875 \nQ 17.484375 14.15625 20.5 10.265625 \nQ 23.53125 6.390625 29.59375 6.390625 \nQ 36.859375 6.390625 41.078125 11.03125 \nQ 45.3125 15.671875 45.3125 23.6875 \nL 45.3125 54.6875 \nL 54.296875 54.6875 \nL 54.296875 0 \nL 45.3125 0 \nL 45.3125 8.40625 \nQ 42.046875 3.421875 37.71875 1 \nQ 33.40625 -1.421875 27.6875 -1.421875 \nQ 18.265625 -1.421875 13.375 4.4375 \nQ 8.5 10.296875 8.5 21.578125 \nz\nM 31.109375 56 \nz\n\" id=\"DejaVuSans-117\"/>\n      <path d=\"M 9.421875 75.984375 \nL 18.40625 75.984375 \nL 18.40625 0 \nL 9.421875 0 \nz\n\" id=\"DejaVuSans-108\"/>\n      <path d=\"M 54.890625 33.015625 \nL 54.890625 0 \nL 45.90625 0 \nL 45.90625 32.71875 \nQ 45.90625 40.484375 42.875 44.328125 \nQ 39.84375 48.1875 33.796875 48.1875 \nQ 26.515625 48.1875 22.3125 43.546875 \nQ 18.109375 38.921875 18.109375 30.90625 \nL 18.109375 0 \nL 9.078125 0 \nL 9.078125 75.984375 \nL 18.109375 75.984375 \nL 18.109375 46.1875 \nQ 21.34375 51.125 25.703125 53.5625 \nQ 30.078125 56 35.796875 56 \nQ 45.21875 56 50.046875 50.171875 \nQ 54.890625 44.34375 54.890625 33.015625 \nz\n\" id=\"DejaVuSans-104\"/>\n      <path d=\"M 56.203125 29.59375 \nL 56.203125 25.203125 \nL 14.890625 25.203125 \nQ 15.484375 15.921875 20.484375 11.0625 \nQ 25.484375 6.203125 34.421875 6.203125 \nQ 39.59375 6.203125 44.453125 7.46875 \nQ 49.3125 8.734375 54.109375 11.28125 \nL 54.109375 2.78125 \nQ 49.265625 0.734375 44.1875 -0.34375 \nQ 39.109375 -1.421875 33.890625 -1.421875 \nQ 20.796875 -1.421875 13.15625 6.1875 \nQ 5.515625 13.8125 5.515625 26.8125 \nQ 5.515625 40.234375 12.765625 48.109375 \nQ 20.015625 56 32.328125 56 \nQ 43.359375 56 49.78125 48.890625 \nQ 56.203125 41.796875 56.203125 29.59375 \nz\nM 47.21875 32.234375 \nQ 47.125 39.59375 43.09375 43.984375 \nQ 39.0625 48.390625 32.421875 48.390625 \nQ 24.90625 48.390625 20.390625 44.140625 \nQ 15.875 39.890625 15.1875 32.171875 \nz\n\" id=\"DejaVuSans-101\"/>\n     </defs>\n     <use xlink:href=\"#DejaVuSans-72\"/>\n     <use x=\"75.195312\" xlink:href=\"#DejaVuSans-105\"/>\n     <use x=\"102.978516\" xlink:href=\"#DejaVuSans-115\"/>\n     <use x=\"155.078125\" xlink:href=\"#DejaVuSans-116\"/>\n     <use x=\"194.287109\" xlink:href=\"#DejaVuSans-111\"/>\n     <use x=\"255.46875\" xlink:href=\"#DejaVuSans-103\"/>\n     <use x=\"318.945312\" xlink:href=\"#DejaVuSans-114\"/>\n     <use x=\"360.058594\" xlink:href=\"#DejaVuSans-97\"/>\n     <use x=\"421.337891\" xlink:href=\"#DejaVuSans-109\"/>\n     <use x=\"518.75\" xlink:href=\"#DejaVuSans-32\"/>\n     <use x=\"550.537109\" xlink:href=\"#DejaVuSans-66\"/>\n     <use x=\"619.140625\" xlink:href=\"#DejaVuSans-77\"/>\n     <use x=\"705.419922\" xlink:href=\"#DejaVuSans-73\"/>\n     <use x=\"734.912109\" xlink:href=\"#DejaVuSans-32\"/>\n     <use x=\"766.699219\" xlink:href=\"#DejaVuSans-112\"/>\n     <use x=\"830.175781\" xlink:href=\"#DejaVuSans-97\"/>\n     <use x=\"891.455078\" xlink:href=\"#DejaVuSans-114\"/>\n     <use x=\"932.568359\" xlink:href=\"#DejaVuSans-97\"/>\n     <use x=\"993.847656\" xlink:href=\"#DejaVuSans-32\"/>\n     <use x=\"1025.634766\" xlink:href=\"#DejaVuSans-109\"/>\n     <use x=\"1123.046875\" xlink:href=\"#DejaVuSans-117\"/>\n     <use x=\"1186.425781\" xlink:href=\"#DejaVuSans-108\"/>\n     <use x=\"1214.208984\" xlink:href=\"#DejaVuSans-104\"/>\n     <use x=\"1277.587891\" xlink:href=\"#DejaVuSans-101\"/>\n     <use x=\"1339.111328\" xlink:href=\"#DejaVuSans-114\"/>\n     <use x=\"1377.974609\" xlink:href=\"#DejaVuSans-101\"/>\n     <use x=\"1439.498047\" xlink:href=\"#DejaVuSans-115\"/>\n    </g>\n   </g>\n  </g>\n  <g id=\"axes_2\">\n   <g id=\"patch_32\">\n    <path d=\"M 489.832955 297.1575 \nL 870.2875 297.1575 \nL 870.2875 25.3575 \nL 489.832955 25.3575 \nz\n\" style=\"fill:#ffffff;\"/>\n   </g>\n   <g id=\"patch_33\">\n    <path clip-path=\"url(#p474e5218b3)\" d=\"M 507.126343 297.1575 \nL 520.961054 297.1575 \nL 520.961054 292.299591 \nL 507.126343 292.299591 \nz\n\" style=\"fill:#008000;stroke:#000000;stroke-linejoin:miter;\"/>\n   </g>\n   <g id=\"patch_34\">\n    <path clip-path=\"url(#p474e5218b3)\" d=\"M 520.961054 297.1575 \nL 534.795764 297.1575 \nL 534.795764 274.25593 \nL 520.961054 274.25593 \nz\n\" style=\"fill:#008000;stroke:#000000;stroke-linejoin:miter;\"/>\n   </g>\n   <g id=\"patch_35\">\n    <path clip-path=\"url(#p474e5218b3)\" d=\"M 534.795764 297.1575 \nL 548.630475 297.1575 \nL 548.630475 238.168607 \nL 534.795764 238.168607 \nz\n\" style=\"fill:#008000;stroke:#000000;stroke-linejoin:miter;\"/>\n   </g>\n   <g id=\"patch_36\">\n    <path clip-path=\"url(#p474e5218b3)\" d=\"M 548.630475 297.1575 \nL 562.465186 297.1575 \nL 562.465186 186.119583 \nL 548.630475 186.119583 \nz\n\" style=\"fill:#008000;stroke:#000000;stroke-linejoin:miter;\"/>\n   </g>\n   <g id=\"patch_37\">\n    <path clip-path=\"url(#p474e5218b3)\" d=\"M 562.465186 297.1575 \nL 576.299897 297.1575 \nL 576.299897 105.617094 \nL 562.465186 105.617094 \nz\n\" style=\"fill:#008000;stroke:#000000;stroke-linejoin:miter;\"/>\n   </g>\n   <g id=\"patch_38\">\n    <path clip-path=\"url(#p474e5218b3)\" d=\"M 576.299897 297.1575 \nL 590.134607 297.1575 \nL 590.134607 72.999706 \nL 576.299897 72.999706 \nz\n\" style=\"fill:#008000;stroke:#000000;stroke-linejoin:miter;\"/>\n   </g>\n   <g id=\"patch_39\">\n    <path clip-path=\"url(#p474e5218b3)\" d=\"M 590.134607 297.1575 \nL 603.969318 297.1575 \nL 603.969318 38.300357 \nL 590.134607 38.300357 \nz\n\" style=\"fill:#008000;stroke:#000000;stroke-linejoin:miter;\"/>\n   </g>\n   <g id=\"patch_40\">\n    <path clip-path=\"url(#p474e5218b3)\" d=\"M 603.969318 297.1575 \nL 617.804029 297.1575 \nL 617.804029 57.731993 \nL 603.969318 57.731993 \nz\n\" style=\"fill:#008000;stroke:#000000;stroke-linejoin:miter;\"/>\n   </g>\n   <g id=\"patch_41\">\n    <path clip-path=\"url(#p474e5218b3)\" d=\"M 617.804029 297.1575 \nL 631.63874 297.1575 \nL 631.63874 93.819315 \nL 617.804029 93.819315 \nz\n\" style=\"fill:#008000;stroke:#000000;stroke-linejoin:miter;\"/>\n   </g>\n   <g id=\"patch_42\">\n    <path clip-path=\"url(#p474e5218b3)\" d=\"M 631.63874 297.1575 \nL 645.47345 297.1575 \nL 645.47345 149.338274 \nL 631.63874 149.338274 \nz\n\" style=\"fill:#008000;stroke:#000000;stroke-linejoin:miter;\"/>\n   </g>\n   <g id=\"patch_43\">\n    <path clip-path=\"url(#p474e5218b3)\" d=\"M 645.47345 297.1575 \nL 659.308161 297.1575 \nL 659.308161 171.545857 \nL 645.47345 171.545857 \nz\n\" style=\"fill:#008000;stroke:#000000;stroke-linejoin:miter;\"/>\n   </g>\n   <g id=\"patch_44\">\n    <path clip-path=\"url(#p474e5218b3)\" d=\"M 659.308161 297.1575 \nL 673.142872 297.1575 \nL 673.142872 207.63318 \nL 659.308161 207.63318 \nz\n\" style=\"fill:#008000;stroke:#000000;stroke-linejoin:miter;\"/>\n   </g>\n   <g id=\"patch_45\">\n    <path clip-path=\"url(#p474e5218b3)\" d=\"M 673.142872 297.1575 \nL 686.977583 297.1575 \nL 686.977583 234.698672 \nL 673.142872 234.698672 \nz\n\" style=\"fill:#008000;stroke:#000000;stroke-linejoin:miter;\"/>\n   </g>\n   <g id=\"patch_46\">\n    <path clip-path=\"url(#p474e5218b3)\" d=\"M 686.977583 297.1575 \nL 700.812293 297.1575 \nL 700.812293 263.846125 \nL 686.977583 263.846125 \nz\n\" style=\"fill:#008000;stroke:#000000;stroke-linejoin:miter;\"/>\n   </g>\n   <g id=\"patch_47\">\n    <path clip-path=\"url(#p474e5218b3)\" d=\"M 700.812293 297.1575 \nL 714.647004 297.1575 \nL 714.647004 266.622073 \nL 700.812293 266.622073 \nz\n\" style=\"fill:#008000;stroke:#000000;stroke-linejoin:miter;\"/>\n   </g>\n   <g id=\"patch_48\">\n    <path clip-path=\"url(#p474e5218b3)\" d=\"M 714.647004 297.1575 \nL 728.481715 297.1575 \nL 728.481715 279.113839 \nL 714.647004 279.113839 \nz\n\" style=\"fill:#008000;stroke:#000000;stroke-linejoin:miter;\"/>\n   </g>\n   <g id=\"patch_49\">\n    <path clip-path=\"url(#p474e5218b3)\" d=\"M 728.481715 297.1575 \nL 742.316426 297.1575 \nL 742.316426 277.725865 \nL 728.481715 277.725865 \nz\n\" style=\"fill:#008000;stroke:#000000;stroke-linejoin:miter;\"/>\n   </g>\n   <g id=\"patch_50\">\n    <path clip-path=\"url(#p474e5218b3)\" d=\"M 742.316426 297.1575 \nL 756.151136 297.1575 \nL 756.151136 284.665734 \nL 742.316426 284.665734 \nz\n\" style=\"fill:#008000;stroke:#000000;stroke-linejoin:miter;\"/>\n   </g>\n   <g id=\"patch_51\">\n    <path clip-path=\"url(#p474e5218b3)\" d=\"M 756.151136 297.1575 \nL 769.985847 297.1575 \nL 769.985847 290.21763 \nL 756.151136 290.21763 \nz\n\" style=\"fill:#008000;stroke:#000000;stroke-linejoin:miter;\"/>\n   </g>\n   <g id=\"patch_52\">\n    <path clip-path=\"url(#p474e5218b3)\" d=\"M 769.985847 297.1575 \nL 783.820558 297.1575 \nL 783.820558 289.523643 \nL 769.985847 289.523643 \nz\n\" style=\"fill:#008000;stroke:#000000;stroke-linejoin:miter;\"/>\n   </g>\n   <g id=\"patch_53\">\n    <path clip-path=\"url(#p474e5218b3)\" d=\"M 783.820558 297.1575 \nL 797.655269 297.1575 \nL 797.655269 291.605604 \nL 783.820558 291.605604 \nz\n\" style=\"fill:#008000;stroke:#000000;stroke-linejoin:miter;\"/>\n   </g>\n   <g id=\"patch_54\">\n    <path clip-path=\"url(#p474e5218b3)\" d=\"M 797.655269 297.1575 \nL 811.489979 297.1575 \nL 811.489979 294.381552 \nL 797.655269 294.381552 \nz\n\" style=\"fill:#008000;stroke:#000000;stroke-linejoin:miter;\"/>\n   </g>\n   <g id=\"patch_55\">\n    <path clip-path=\"url(#p474e5218b3)\" d=\"M 811.489979 297.1575 \nL 825.32469 297.1575 \nL 825.32469 292.299591 \nL 811.489979 292.299591 \nz\n\" style=\"fill:#008000;stroke:#000000;stroke-linejoin:miter;\"/>\n   </g>\n   <g id=\"patch_56\">\n    <path clip-path=\"url(#p474e5218b3)\" d=\"M 825.32469 297.1575 \nL 839.159401 297.1575 \nL 839.159401 296.463513 \nL 825.32469 296.463513 \nz\n\" style=\"fill:#008000;stroke:#000000;stroke-linejoin:miter;\"/>\n   </g>\n   <g id=\"patch_57\">\n    <path clip-path=\"url(#p474e5218b3)\" d=\"M 839.159401 297.1575 \nL 852.994112 297.1575 \nL 852.994112 293.687565 \nL 839.159401 293.687565 \nz\n\" style=\"fill:#008000;stroke:#000000;stroke-linejoin:miter;\"/>\n   </g>\n   <g id=\"matplotlib.axis_3\">\n    <g id=\"xtick_6\">\n     <g id=\"line2d_14\">\n      <g>\n       <use style=\"stroke:#000000;stroke-width:0.8;\" x=\"545.907855\" xlink:href=\"#m5637cad472\" y=\"297.1575\"/>\n      </g>\n     </g>\n     <g id=\"text_15\">\n      <!-- 20 -->\n      <g transform=\"translate(539.545355 311.755937)scale(0.1 -0.1)\">\n       <use xlink:href=\"#DejaVuSans-50\"/>\n       <use x=\"63.623047\" xlink:href=\"#DejaVuSans-48\"/>\n      </g>\n     </g>\n    </g>\n    <g id=\"xtick_7\">\n     <g id=\"line2d_15\">\n      <g>\n       <use style=\"stroke:#000000;stroke-width:0.8;\" x=\"625.053797\" xlink:href=\"#m5637cad472\" y=\"297.1575\"/>\n      </g>\n     </g>\n     <g id=\"text_16\">\n      <!-- 30 -->\n      <g transform=\"translate(618.691297 311.755937)scale(0.1 -0.1)\">\n       <use xlink:href=\"#DejaVuSans-51\"/>\n       <use x=\"63.623047\" xlink:href=\"#DejaVuSans-48\"/>\n      </g>\n     </g>\n    </g>\n    <g id=\"xtick_8\">\n     <g id=\"line2d_16\">\n      <g>\n       <use style=\"stroke:#000000;stroke-width:0.8;\" x=\"704.19974\" xlink:href=\"#m5637cad472\" y=\"297.1575\"/>\n      </g>\n     </g>\n     <g id=\"text_17\">\n      <!-- 40 -->\n      <g transform=\"translate(697.83724 311.755937)scale(0.1 -0.1)\">\n       <use xlink:href=\"#DejaVuSans-52\"/>\n       <use x=\"63.623047\" xlink:href=\"#DejaVuSans-48\"/>\n      </g>\n     </g>\n    </g>\n    <g id=\"xtick_9\">\n     <g id=\"line2d_17\">\n      <g>\n       <use style=\"stroke:#000000;stroke-width:0.8;\" x=\"783.345682\" xlink:href=\"#m5637cad472\" y=\"297.1575\"/>\n      </g>\n     </g>\n     <g id=\"text_18\">\n      <!-- 50 -->\n      <g transform=\"translate(776.983182 311.755937)scale(0.1 -0.1)\">\n       <use xlink:href=\"#DejaVuSans-53\"/>\n       <use x=\"63.623047\" xlink:href=\"#DejaVuSans-48\"/>\n      </g>\n     </g>\n    </g>\n    <g id=\"xtick_10\">\n     <g id=\"line2d_18\">\n      <g>\n       <use style=\"stroke:#000000;stroke-width:0.8;\" x=\"862.491625\" xlink:href=\"#m5637cad472\" y=\"297.1575\"/>\n      </g>\n     </g>\n     <g id=\"text_19\">\n      <!-- 60 -->\n      <g transform=\"translate(856.129125 311.755937)scale(0.1 -0.1)\">\n       <use xlink:href=\"#DejaVuSans-54\"/>\n       <use x=\"63.623047\" xlink:href=\"#DejaVuSans-48\"/>\n      </g>\n     </g>\n    </g>\n   </g>\n   <g id=\"matplotlib.axis_4\">\n    <g id=\"ytick_9\">\n     <g id=\"line2d_19\">\n      <g>\n       <use style=\"stroke:#000000;stroke-width:0.8;\" x=\"489.832955\" xlink:href=\"#meddb739bcd\" y=\"297.1575\"/>\n      </g>\n     </g>\n     <g id=\"text_20\">\n      <!-- 0 -->\n      <g transform=\"translate(476.470455 300.956719)scale(0.1 -0.1)\">\n       <use xlink:href=\"#DejaVuSans-48\"/>\n      </g>\n     </g>\n    </g>\n    <g id=\"ytick_10\">\n     <g id=\"line2d_20\">\n      <g>\n       <use style=\"stroke:#000000;stroke-width:0.8;\" x=\"489.832955\" xlink:href=\"#meddb739bcd\" y=\"262.458151\"/>\n      </g>\n     </g>\n     <g id=\"text_21\">\n      <!-- 50 -->\n      <g transform=\"translate(470.107955 266.25737)scale(0.1 -0.1)\">\n       <use xlink:href=\"#DejaVuSans-53\"/>\n       <use x=\"63.623047\" xlink:href=\"#DejaVuSans-48\"/>\n      </g>\n     </g>\n    </g>\n    <g id=\"ytick_11\">\n     <g id=\"line2d_21\">\n      <g>\n       <use style=\"stroke:#000000;stroke-width:0.8;\" x=\"489.832955\" xlink:href=\"#meddb739bcd\" y=\"227.758802\"/>\n      </g>\n     </g>\n     <g id=\"text_22\">\n      <!-- 100 -->\n      <g transform=\"translate(463.745455 231.558021)scale(0.1 -0.1)\">\n       <use xlink:href=\"#DejaVuSans-49\"/>\n       <use x=\"63.623047\" xlink:href=\"#DejaVuSans-48\"/>\n       <use x=\"127.246094\" xlink:href=\"#DejaVuSans-48\"/>\n      </g>\n     </g>\n    </g>\n    <g id=\"ytick_12\">\n     <g id=\"line2d_22\">\n      <g>\n       <use style=\"stroke:#000000;stroke-width:0.8;\" x=\"489.832955\" xlink:href=\"#meddb739bcd\" y=\"193.059453\"/>\n      </g>\n     </g>\n     <g id=\"text_23\">\n      <!-- 150 -->\n      <g transform=\"translate(463.745455 196.858672)scale(0.1 -0.1)\">\n       <use xlink:href=\"#DejaVuSans-49\"/>\n       <use x=\"63.623047\" xlink:href=\"#DejaVuSans-53\"/>\n       <use x=\"127.246094\" xlink:href=\"#DejaVuSans-48\"/>\n      </g>\n     </g>\n    </g>\n    <g id=\"ytick_13\">\n     <g id=\"line2d_23\">\n      <g>\n       <use style=\"stroke:#000000;stroke-width:0.8;\" x=\"489.832955\" xlink:href=\"#meddb739bcd\" y=\"158.360104\"/>\n      </g>\n     </g>\n     <g id=\"text_24\">\n      <!-- 200 -->\n      <g transform=\"translate(463.745455 162.159323)scale(0.1 -0.1)\">\n       <use xlink:href=\"#DejaVuSans-50\"/>\n       <use x=\"63.623047\" xlink:href=\"#DejaVuSans-48\"/>\n       <use x=\"127.246094\" xlink:href=\"#DejaVuSans-48\"/>\n      </g>\n     </g>\n    </g>\n    <g id=\"ytick_14\">\n     <g id=\"line2d_24\">\n      <g>\n       <use style=\"stroke:#000000;stroke-width:0.8;\" x=\"489.832955\" xlink:href=\"#meddb739bcd\" y=\"123.660755\"/>\n      </g>\n     </g>\n     <g id=\"text_25\">\n      <!-- 250 -->\n      <g transform=\"translate(463.745455 127.459974)scale(0.1 -0.1)\">\n       <use xlink:href=\"#DejaVuSans-50\"/>\n       <use x=\"63.623047\" xlink:href=\"#DejaVuSans-53\"/>\n       <use x=\"127.246094\" xlink:href=\"#DejaVuSans-48\"/>\n      </g>\n     </g>\n    </g>\n    <g id=\"ytick_15\">\n     <g id=\"line2d_25\">\n      <g>\n       <use style=\"stroke:#000000;stroke-width:0.8;\" x=\"489.832955\" xlink:href=\"#meddb739bcd\" y=\"88.961407\"/>\n      </g>\n     </g>\n     <g id=\"text_26\">\n      <!-- 300 -->\n      <g transform=\"translate(463.745455 92.760625)scale(0.1 -0.1)\">\n       <use xlink:href=\"#DejaVuSans-51\"/>\n       <use x=\"63.623047\" xlink:href=\"#DejaVuSans-48\"/>\n       <use x=\"127.246094\" xlink:href=\"#DejaVuSans-48\"/>\n      </g>\n     </g>\n    </g>\n    <g id=\"ytick_16\">\n     <g id=\"line2d_26\">\n      <g>\n       <use style=\"stroke:#000000;stroke-width:0.8;\" x=\"489.832955\" xlink:href=\"#meddb739bcd\" y=\"54.262058\"/>\n      </g>\n     </g>\n     <g id=\"text_27\">\n      <!-- 350 -->\n      <g transform=\"translate(463.745455 58.061276)scale(0.1 -0.1)\">\n       <use xlink:href=\"#DejaVuSans-51\"/>\n       <use x=\"63.623047\" xlink:href=\"#DejaVuSans-53\"/>\n       <use x=\"127.246094\" xlink:href=\"#DejaVuSans-48\"/>\n      </g>\n     </g>\n    </g>\n   </g>\n   <g id=\"patch_58\">\n    <path d=\"M 489.832955 297.1575 \nL 489.832955 25.3575 \n\" style=\"fill:none;stroke:#000000;stroke-linecap:square;stroke-linejoin:miter;stroke-width:0.8;\"/>\n   </g>\n   <g id=\"patch_59\">\n    <path d=\"M 870.2875 297.1575 \nL 870.2875 25.3575 \n\" style=\"fill:none;stroke:#000000;stroke-linecap:square;stroke-linejoin:miter;stroke-width:0.8;\"/>\n   </g>\n   <g id=\"patch_60\">\n    <path d=\"M 489.832955 297.1575 \nL 870.2875 297.1575 \n\" style=\"fill:none;stroke:#000000;stroke-linecap:square;stroke-linejoin:miter;stroke-width:0.8;\"/>\n   </g>\n   <g id=\"patch_61\">\n    <path d=\"M 489.832955 25.3575 \nL 870.2875 25.3575 \n\" style=\"fill:none;stroke:#000000;stroke-linecap:square;stroke-linejoin:miter;stroke-width:0.8;\"/>\n   </g>\n   <g id=\"text_28\">\n    <!-- Histogram BMI para homens -->\n    <g transform=\"translate(566.091477 19.3575)scale(0.16 -0.16)\">\n     <defs>\n      <path d=\"M 54.890625 33.015625 \nL 54.890625 0 \nL 45.90625 0 \nL 45.90625 32.71875 \nQ 45.90625 40.484375 42.875 44.328125 \nQ 39.84375 48.1875 33.796875 48.1875 \nQ 26.515625 48.1875 22.3125 43.546875 \nQ 18.109375 38.921875 18.109375 30.90625 \nL 18.109375 0 \nL 9.078125 0 \nL 9.078125 54.6875 \nL 18.109375 54.6875 \nL 18.109375 46.1875 \nQ 21.34375 51.125 25.703125 53.5625 \nQ 30.078125 56 35.796875 56 \nQ 45.21875 56 50.046875 50.171875 \nQ 54.890625 44.34375 54.890625 33.015625 \nz\n\" id=\"DejaVuSans-110\"/>\n     </defs>\n     <use xlink:href=\"#DejaVuSans-72\"/>\n     <use x=\"75.195312\" xlink:href=\"#DejaVuSans-105\"/>\n     <use x=\"102.978516\" xlink:href=\"#DejaVuSans-115\"/>\n     <use x=\"155.078125\" xlink:href=\"#DejaVuSans-116\"/>\n     <use x=\"194.287109\" xlink:href=\"#DejaVuSans-111\"/>\n     <use x=\"255.46875\" xlink:href=\"#DejaVuSans-103\"/>\n     <use x=\"318.945312\" xlink:href=\"#DejaVuSans-114\"/>\n     <use x=\"360.058594\" xlink:href=\"#DejaVuSans-97\"/>\n     <use x=\"421.337891\" xlink:href=\"#DejaVuSans-109\"/>\n     <use x=\"518.75\" xlink:href=\"#DejaVuSans-32\"/>\n     <use x=\"550.537109\" xlink:href=\"#DejaVuSans-66\"/>\n     <use x=\"619.140625\" xlink:href=\"#DejaVuSans-77\"/>\n     <use x=\"705.419922\" xlink:href=\"#DejaVuSans-73\"/>\n     <use x=\"734.912109\" xlink:href=\"#DejaVuSans-32\"/>\n     <use x=\"766.699219\" xlink:href=\"#DejaVuSans-112\"/>\n     <use x=\"830.175781\" xlink:href=\"#DejaVuSans-97\"/>\n     <use x=\"891.455078\" xlink:href=\"#DejaVuSans-114\"/>\n     <use x=\"932.568359\" xlink:href=\"#DejaVuSans-97\"/>\n     <use x=\"993.847656\" xlink:href=\"#DejaVuSans-32\"/>\n     <use x=\"1025.634766\" xlink:href=\"#DejaVuSans-104\"/>\n     <use x=\"1089.013672\" xlink:href=\"#DejaVuSans-111\"/>\n     <use x=\"1150.195312\" xlink:href=\"#DejaVuSans-109\"/>\n     <use x=\"1247.607422\" xlink:href=\"#DejaVuSans-101\"/>\n     <use x=\"1309.130859\" xlink:href=\"#DejaVuSans-110\"/>\n     <use x=\"1372.509766\" xlink:href=\"#DejaVuSans-115\"/>\n    </g>\n   </g>\n  </g>\n </g>\n <defs>\n  <clipPath id=\"pfe4f0cbd2f\">\n   <rect height=\"271.8\" width=\"380.454545\" x=\"33.2875\" y=\"25.3575\"/>\n  </clipPath>\n  <clipPath id=\"p474e5218b3\">\n   <rect height=\"271.8\" width=\"380.454545\" x=\"489.832955\" y=\"25.3575\"/>\n  </clipPath>\n </defs>\n</svg>\n",
      "image/png": "[encoded data removed]"
     },
     "metadata": {
      "needs_background": "light"
     }
    }
   ],
   "source": [
    "fig, ax = plt.subplots(1,2,figsize=(15,5))\n",
    "\n",
    "ax[0].set_title(\"Histogram BMI para mulheres\",fontsize=16)\n",
    "ax[0].hist(females[\"BMXBMI\"].dropna(), edgecolor='k', color='darkred',bins=25)\n",
    "ax[1].set_title(\"Histogram BMI para homens\", fontsize=16)\n",
    "ax[1].hist(male[\"BMXBMI\"].dropna(), edgecolor='k', color='green', bins=25)\n",
    "\n",
    "plt.show()"
   ]
  },
  {
   "source": [
    "### Vamos usar o t-test descrito em [Welch](https://en.wikipedia.org/wiki/Welch%27s_t-test). \n",
    "\n",
    "Temos que usá-lo porque não conhecemos a variância. Se conhecessemos, poderíamos usar o teste normal mesmo e se soubéssemos que são iguais, mas desconhecessemos, poderíamos usar o ttest ques estudamos no [capítulo 9.5](https://lucasmoschen.github.io/TA_sessions/infestatistica/TestingHypothesesII/TestingHypothesesII/#comparando-medias-de-duas-normais). "
   ],
   "cell_type": "markdown",
   "metadata": {}
  },
  {
   "cell_type": "code",
   "execution_count": 81,
   "metadata": {},
   "outputs": [
    {
     "output_type": "execute_result",
     "data": {
      "text/plain": [
       "(6.175593353138302, 7.050275578095374e-10, 5660.0)"
      ]
     },
     "metadata": {},
     "execution_count": 81
    }
   ],
   "source": [
    "sm.stats.ttest_ind(x1 = females[\"BMXBMI\"].dropna(), \n",
    "                   x2 = male[\"BMXBMI\"].dropna(),\n",
    "                   alternative='two-sided', \n",
    "                   value = 0)  # diferença na hipótese nula"
   ]
  },
  {
   "cell_type": "markdown",
   "metadata": {},
   "source": [
    "### Conclusão no teste de hipóteses\n",
    "\n",
    "Como o p-valor é bem pequeno, nós podemos rejeitar a hipótese nula, o que significa que existe diferença estatística entre as médias. Isso não responde se a o índice é mais alto para homens, mas podemos fazer o teste unilateral e perceber que de fato isso de fato acontece segundo os dados."
   ]
  },
  {
   "cell_type": "code",
   "execution_count": 82,
   "metadata": {},
   "outputs": [
    {
     "output_type": "execute_result",
     "data": {
      "text/plain": [
       "(6.175593353138302, 3.525137789047687e-10, 5660.0)"
      ]
     },
     "metadata": {},
     "execution_count": 82
    }
   ],
   "source": [
    "sm.stats.ttest_ind(x1 = females[\"BMXBMI\"].dropna(), \n",
    "                   x2 = male[\"BMXBMI\"].dropna(),\n",
    "                   alternative='larger', \n",
    "                   value = 0)  # diferença na hipótese nula"
   ]
  }
 ],
 "metadata": {
  "kernelspec": {
   "display_name": "Python 3.7.3 64-bit ('base')",
   "language": "python",
   "name": "python37364bitbase6782713bed674ed7a26121bd52530782"
  },
  "language_info": {
   "codemirror_mode": {
    "name": "ipython",
    "version": 3
   },
   "file_extension": ".py",
   "mimetype": "text/x-python",
   "name": "python",
   "nbconvert_exporter": "python",
   "pygments_lexer": "ipython3",
   "version": "3.7.3-final"
  }
 },
 "nbformat": 4,
 "nbformat_minor": 4
}