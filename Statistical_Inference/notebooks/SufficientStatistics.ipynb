{
 "cells": [
  {
   "cell_type": "markdown",
   "metadata": {},
   "source": [
    "# Estatísticas Suficientes\n",
    "\n",
    "A ideia por traś da estatística é, como o nome diz, ser suficiente. Uma estatística é uma função das variáveis aleatórias, como, por exemplo, $T = r(X_1, ..., X_n)$.  Média amostral, variância amostral, valor máximo, são todos exemplos. Imagine que temos um problema como o seguinte: \n",
    "\n",
    "Vamos imaginar que um estatístico dá um trabalho para seu estagiário para organizar os dados de forma mais eficiente possível, enquanto ele pensa no modelo. O estagiário de forma muito ingênua cria uma lista em seu Jupyter Notebook e salva o notebook com os dados na sua lista. Depois ele salva num arquivo `.txt` e vai para casa tranquilo que o trabalho acabou mais cedo. \n",
    "\n",
    "Será que era necessário ter salvo todos os dados? O estatístico no dia seuinte diz que não! E manda o estagiário estudar novamente estatística. Ele disse para estudar **Estatística Suficientes**.\n",
    "\n",
    "## Definição (Unidimensional)\n",
    "\n",
    "Seja $X_1, ..., X_n$ uma amostra aleatória de distribuição indexada pelo parâmetro $\\theta$. Suponha que para todo valor que $\\theta$ assume e para todo valor que $T$ assume (vamos chamar de $t = r(x_1, ..., x_n)$, nesse caso já observamos o processo e calculamos $t$), a distribuição conjunta condicional de $X_1, ...., X_n$ dado $T=t$ e $\\theta$, isto é, dado que você observou uma estatística (a média de temperaturas, por exemplo) depende apenas de $t$, mas não de $\\theta$. \n",
    "\n",
    "Isso significa que a distribuição é constante para todos os valores de $\\theta$. Chamaremos essa estatística $T$ de suficiente para $\\theta$. \n",
    "\n",
    "**Obs.:** Para quem estudou funções mensuráveis, podemos definir estatística como função mensurável dos dados. \n",
    "\n",
    "Seja $(\\mathbb{T}, \\mathbb{C})$ um espaço mensurável tal que \\mathbb{C} contém todos os conjuntos unitários. Se $T : \\mathbb{X} \\to \\mathbb{T}$ é mensuável, então é uma estatística. \n",
    "\n",
    "Seja $\\mathbb{P}_0$ uma familia paramétrica de distribuições em $(\\mathbb{X}, \\mathbb{B})$. Seja $(\\Omega, \\tau)$ um espaço dos parâmetros e $\\Theta: \\mathbb{P}_0 \\to \\Omega$ um parâmetro. Seja $T$ uma estatística. Ela é suficiente para $\\Theta$ se para toda priori $\\mu_{\\Theta}$, existem versões da posteriori $\\mu_{\\Theta|X}$ e $\\mu_{\\Theta|T}$ tal que $\\forall B \\in \\tau, \\mu_{\\Theta|X}(B|x) = \\mu_{\\Theta|T}(B|T(x))$, quase certamente convergente para $[\\mu_X]$ onde $\\mu_X$ é distribuição marginal de $X$. "
   ]
  },
  {
   "cell_type": "markdown",
   "metadata": {},
   "source": [
    "## Critério de Fatorização(Neyman - Fisher ou Fisher - Neyman)\n",
    "\n",
    "$X_1,...X_n$ amostra aleatória com pdf ou pmf $f(x|\\theta)$, onde $\\theta$ é desconhecido. Uma estatística $T = r(X)$ para $\\theta$ é suficiente se, e somente se, a distribuição conjunta $f_n(x|\\theta)$ pode ser fatorada para todo valor $x \\in \\mathbb{R}^n$ da seguinte forma: \n",
    "\n",
    "$$f_n(x|\\theta) = u(x)v[r(x), \\theta]$$\n",
    "\n",
    "Onde $u$ e $v$ são não negativas, $u$ não depende de $\\theta$ e $v$ só depende dos dados através da estatística. Isto é, não adianta você encontrar qualquer função de $x$, tem que encontrar a estatística $T$ em $v$. "
   ]
  },
  {
   "cell_type": "markdown",
   "metadata": {},
   "source": [
    "## Estatísticas Suficientes Conjuntas \n",
    "\n",
    "Suponha que para cada $\\theta$, vetor, e cada valor das estatísticas $(T_1, ..., T_k) = (t_1, ..., t_k)$ a distribuição conjunta condicional dos dados dadas as estatísticas não depende de $\\theta$. Veja que nesse caso, a diferença é que condiciono em $k$ estatísticas, $k \\geq 1 $. \n",
    "\n",
    "## Critério de Fatorização\n",
    "\n",
    "Sejam $r_1, ..., r_k$ funções de $n$ variáveis. A estatísticas $T_i = r_i(X)$ são estatísticas suficientes conjuntas para $\\theta$ se, e somene se, a pdf conjunta $f_n(x|\\theta)$ pode ser fatorado como \n",
    "\n",
    "$$f_n(x|\\theta) = u(x)v[r_1(x), ..., r_k(x),\\theta], $$\n",
    "\n",
    "para todos os valores $x \\in \\mathbb{R}^n$ e $\\theta \\in \\Omega$\n",
    "\n",
    "**Obs.:** Podemos mostrar que qualquer função injetiva de uma estatística suficiente é uma estatística suficiente. \n",
    "\n",
    "## Estatística Suficiente Mínima\n",
    "\n",
    "### Estatística de Ordem\n",
    "\n",
    "Considere uma amostra aleatória e a ordene. Diremos que a nova amostra, ordenada, é uma estatística de ordem. Observe que ela funciona como uma matrix de \"shifts\" que opera trocando as linhas do vetor de lugar. Por isso ela é uma função. \n",
    "\n",
    "Essa estatística é sufciente conjunta para $\\theta$. O interessante que podemos ver isso dado que o produtório não importa a ordem. \n",
    "\n",
    "### Estatística Suficiente Mínima \n",
    "\n",
    "É uma estatística $T$ suficiente e, além disso, é função de todas as outras estatísticas suficientes.\n",
    "\n",
    "### MLE e Estatística Suficiente \n",
    "\n",
    "Seja $T$ uma estatística suficiente para $\\theta$. Então o estimador de máxima verossimilhança $\\hat{\\theta}$ depende das observações somente através da estatística $T$. Além disso, se $\\hat{\\theta}$ é suficiente, então é mínimo.  \n",
    "\n",
    "### Estatísticas Suficientes e Estimador de Bayes\n",
    "\n",
    "$T = r(X)$ estatística suficiente para $\\theta$. Etão todo estimador de Bayes $\\hat{\\theta}$ depende nas observações $X_1, ..., X_n$ apenas através da estatística $T$. Além do mais, se for suficiente, será suficiente mínimo. "
   ]
  },
  {
   "cell_type": "markdown",
   "metadata": {},
   "source": [
    "## Definições Adicionais \n",
    "\n",
    "Considere uma amostra aleatória $X_1,...,X_n$\n",
    "\n",
    "### Estatística Completa\n",
    "\n",
    "Seja $t = T(X)$ estatística. Se \n",
    "\n",
    "$$E[g(T(X))|\\theta] = 0, \\forall \\theta \\implies P[g(T(X)) = 0] = 1,$$\n",
    "\n",
    "então ela é dita completa.\n",
    "\n",
    "### Estatística Ancillary\n",
    "\n",
    "Suponha que queremos estimar $\\theta$ e $f_n(x|\\theta)$ seja a pdf conjunta. Seja $A(X)$ uma estatística. Se a sua distribuição **não** depende de $\\theta$, então será uma estatística ancillary (auxiliar?) \n",
    "\n",
    "Por exemplo, se $X_1, X_2 \\sim N(\\mu, \\sigma^2)$ e  $\\mu$ é desconhecido, temos que $X_1 - X_2 \\sim N(0, 2\\sigma^2)$ é uma estatística auxiliar. "
   ]
  },
  {
   "cell_type": "code",
   "execution_count": null,
   "metadata": {},
   "outputs": [],
   "source": []
  }
 ],
 "metadata": {
  "kernelspec": {
   "display_name": "Python 3",
   "language": "python",
   "name": "python3"
  },
  "language_info": {
   "codemirror_mode": {
    "name": "ipython",
    "version": 3
   },
   "file_extension": ".py",
   "mimetype": "text/x-python",
   "name": "python",
   "nbconvert_exporter": "python",
   "pygments_lexer": "ipython3",
   "version": "3.7.3"
  }
 },
 "nbformat": 4,
 "nbformat_minor": 4
}
