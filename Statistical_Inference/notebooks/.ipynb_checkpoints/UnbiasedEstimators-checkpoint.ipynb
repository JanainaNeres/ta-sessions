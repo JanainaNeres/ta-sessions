{
 "cells": [
  {
   "cell_type": "markdown",
   "metadata": {},
   "source": [
    "# Estimadores não Enviesados\n",
    "\n",
    "## Definição\n",
    "\n",
    "Um estimador $\\delta(X)$ é dito não enviesado para $g(\\theta)$ se $E_{\\theta}[\\delta(X)] = g(\\theta)$ para todo valor de $\\theta$. O viés do estimador é definido por $E_{\\theta}[\\delta(X)] - g(\\theta)$. \n",
    "\n",
    "Se $\\delta$ é um estimador com variância finita, então: \n",
    "\n",
    "$$\n",
    "R(\\theta, \\delta) = Var(\\delta) + Viés(\\delta)^2\n",
    "$$"
   ]
  },
  {
   "cell_type": "code",
   "execution_count": null,
   "metadata": {},
   "outputs": [],
   "source": []
  }
 ],
 "metadata": {
  "kernelspec": {
   "display_name": "Python 3",
   "language": "python",
   "name": "python3"
  },
  "language_info": {
   "codemirror_mode": {
    "name": "ipython",
    "version": 3
   },
   "file_extension": ".py",
   "mimetype": "text/x-python",
   "name": "python",
   "nbconvert_exporter": "python",
   "pygments_lexer": "ipython3",
   "version": "3.7.3"
  }
 },
 "nbformat": 4,
 "nbformat_minor": 4
}
