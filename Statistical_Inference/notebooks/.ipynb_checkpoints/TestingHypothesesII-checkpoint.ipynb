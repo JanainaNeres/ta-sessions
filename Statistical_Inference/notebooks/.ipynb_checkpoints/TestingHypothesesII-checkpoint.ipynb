{
 "cells": [
  {
   "cell_type": "markdown",
   "metadata": {},
   "source": [
    "# Teste de Hipóteses II \n",
    "\n",
    "Nesse notebook veremos:\n",
    "\n",
    "1. Teste de Hipóteses Simples \n",
    "2. Hipótese Alternativa Bilateral \n",
    "3. Teste T"
   ]
  },
  {
   "cell_type": "markdown",
   "metadata": {},
   "source": [
    "## Teste de Hipótese Simples\n",
    "\n",
    "O objetivo é considerar se um vetor de observações vem de uma entre duas observações. Nesse caso o espaço $\\Omega$ é formado por dois pontos, e não é um espaço de parâmetros, mas espaço de distribuições, em particular dessas duas distribuições. \n",
    "\n",
    "Isto é, vamos assumir que $X = (X_1, ..., X_n)$ vem de $f_0(x)$ ou $f_1(x)$. Assim $\\Omega = \\{\\theta_0, \\theta_1\\}$ e $\\theta = \\theta_i$ se os dados tem distribuição $f_i(x), i = 0,1$. \n",
    "\n",
    "Vamos denotar:\n",
    "\n",
    "$\n",
    "\\alpha(\\delta) = P(\\text{Rejeitar} H_0|\\theta = \\theta_0) = P(\\text{Erro I})\n",
    "$\n",
    "\n",
    "$\n",
    "\\beta(\\delta) = P(\\text{Não rejeitar} H_0|\\theta = \\theta_1) = P(\\text{Erro II})\n",
    "$\n",
    "\n",
    "### Teorema \n",
    "\n",
    "Seja $\\delta^*$ o procedimento de teste que não rejeita $H_0$ se $af_0(x) > bf_1(x)$ e rejeita se $af_0(x) < bf_1(x)$. Então, para todo outro procedimento de teste $\\delta$, \n",
    "$$\n",
    "a\\alpha(\\delta^*) + b\\beta(\\delta^*) \\le a\\alpha(\\delta) + b\\beta(\\delta) \n",
    "$$\n",
    "\n",
    "Queremos escolher um teste que minimize essa combinação linear $a\\alpha(\\delta) + b\\beta(\\delta)$. Claro que seria ótimmo ter esse erro zerado, mas sabemos que existe uma espécie de *trade off* entre esses erros. Esse teorema dá o teste necessário para que isso acontença. \n",
    "\n",
    "### Corolário\n",
    "\n",
    "Considere as hipóteses do teorema anterior, $a > 0$ e $b > 0$. Defina estatística de teste **razão de verossimilhança**:\n",
    "$$\n",
    "\\Lambda(x) = \\begin{cases}\n",
    "              \\frac{f_0(x)}{f_1(x)}, \\text{ se } f_0(x) \\le f_1(x) \\\\\n",
    "              1, \\text{ caso contrário }. \n",
    "\\end{cases}\n",
    "$$\n",
    "Defina o procedimento de teste $\\delta$: Rejeita $H_0$ se $\\Lambda(x) > a/b$. Então o valor de $af_0(x) + bf_1(x)$ é mínimo.  \n",
    "\n",
    "### Lema Nayman-Pearson\n",
    "\n",
    "Suponha que $\\delta '$ tem a seguinte forma, para algum $k > 0$: $H_0$ não é rejeitada se $f_1(x) < kf_0(x)$ e o é quando $f_1(x) > kf_0(x).$ Se $\\delta$ é outro procedimento de teste tal que $\\alpha(\\delta) \\le \\alpha(\\delta ')$, então $\\beta(\\delta) \\ge \\beta(\\delta ').$"
   ]
  },
  {
   "cell_type": "markdown",
   "metadata": {},
   "source": [
    "## Hipótese Alternativa Bilateral \n",
    "\n",
    "Seja $X = (X_1, ..., X_n)$ uma amostra aleatória de uma distribuição normal com média $\\mu$ desconhecida e variância $\\sigma^2$ conhecida e queremos testar a hipótese \n",
    "$$\n",
    "H_0: \\mu = \\mu_0\n",
    "$$\n",
    "$$\n",
    "H_1: \\mu \\neq \\mu_0\n",
    "$$\n",
    "\n",
    "Como $\\bar{X}_n$ é um estimador consistente de $\\mu$, faz sentido rejeitar a hipótese nula quando a média amostral se afasta de $\\mu_0$. Para isso, vamos escolher $c_1, c_2$ de forma que \n",
    "\n",
    "$$\n",
    "\\begin{split}\n",
    "P(\\bar{X}_n \\leq c_1|\\mu = \\mu_0) + P(\\bar{X}_n \\geq c_2|\\mu = \\mu_0) &= \\alpha_0 \\\\\n",
    "P\\left(Z \\leq \\sqrt{n}\\frac{c_1 - \\mu_0}{\\sigma}\\right) + P\\left(Z \\geq \\sqrt{n}\\frac{c_2 - \\mu_0}{\\sigma}\\right) &= \\alpha_0 \\\\ \n",
    "\\Phi\\left(\\sqrt{n}\\frac{c_1 - \\mu_0}{\\sigma}\\right) + 1 -  \\Phi\\left(\\sqrt{n}\\frac{c_2 - \\mu_0}{\\sigma}\\right) &= \\alpha_0 \n",
    "\\end{split}\n",
    "$$\n",
    "\n",
    "*Observação:* $\\bar{X}_n \\sim N(\\mu, \\sigma^2/n) \\Rightarrow Z = \\sqrt{n}\\frac{\\bar{X}_n - \\mu}{\\sigma} \\sim N(0,1)$\n",
    "\n",
    "*Observação 2:* No cálculo substituimos $\\mu$ por $\\mu_0$, porque estamos \"condicionando\" no conhecimento deles serem iguais. \n",
    "\n",
    "Isto é, queremos que o tamanho do teste seja $\\alpha_0$, lembrando que o tamanho do teste é o supremo das probabilidades de se rejeitar a hipótese nula quando ela é verdadeira. "
   ]
  },
  {
   "cell_type": "markdown",
   "metadata": {},
   "source": [
    "## O Teste t"
   ]
  },
  {
   "cell_type": "code",
   "execution_count": null,
   "metadata": {},
   "outputs": [],
   "source": []
  }
 ],
 "metadata": {
  "kernelspec": {
   "display_name": "Python 3.7.3 64-bit ('base')",
   "language": "python",
   "name": "python37364bitbase6782713bed674ed7a26121bd52530782"
  },
  "language_info": {
   "codemirror_mode": {
    "name": "ipython",
    "version": 3
   },
   "file_extension": ".py",
   "mimetype": "text/x-python",
   "name": "python",
   "nbconvert_exporter": "python",
   "pygments_lexer": "ipython3",
   "version": "3.7.3"
  }
 },
 "nbformat": 4,
 "nbformat_minor": 4
}
