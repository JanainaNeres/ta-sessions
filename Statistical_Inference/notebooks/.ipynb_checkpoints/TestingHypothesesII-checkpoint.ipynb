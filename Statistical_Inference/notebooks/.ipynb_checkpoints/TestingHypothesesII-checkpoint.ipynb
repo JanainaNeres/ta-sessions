{
 "cells": [
  {
   "cell_type": "markdown",
   "metadata": {},
   "source": [
    "# Teste de Hipóteses II \n",
    "\n",
    "Nesse notebook veremos:\n",
    "\n",
    "1. Teste de Hipóteses Simples \n",
    "2. Hipótese Alternativa Bilateral \n",
    "3. Teste T"
   ]
  },
  {
   "cell_type": "markdown",
   "metadata": {},
   "source": [
    "## Teste de Hipótese Simples\n",
    "\n",
    "O objetivo é considerar se um vetor de observações vem de uma entre duas observações. Nesse caso o espaço $\\Omega$ é formado por dois pontos, e não é um espaço de parâmetros, mas espaço de distribuições, em particular dessas duas distribuições. \n",
    "\n",
    "Isto é, vamos assumir que $X = (X_1, ..., X_n)$ vem de $f_0(x)$ ou $f_1(x)$. Assim $\\Omega = \\{\\theta_0, \\theta_1\\}$ e $\\theta = \\theta_i$ se os dados tem distribuição $f_i(x), i = 0,1$. \n",
    "\n",
    "Vamos denotar:\n",
    "\n",
    "$\n",
    "\\alpha(\\delta) = P(\\text{Rejeitar} H_0|\\theta = \\theta_0) = P(\\text{Erro I})\n",
    "$\n",
    "\n",
    "$\n",
    "\\beta(\\delta) = P(\\text{Não rejeitar} H_0|\\theta = \\theta_1) = P(\\text{Erro II})\n",
    "$\n",
    "\n",
    "### Teorema \n",
    "\n",
    "Seja $\\delta^*$ o procedimento de teste que não rejeita $H_0$ se $af_0(x) > bf_1(x)$ e rejeita se $af_0(x) < bf_1(x)$. Então, para todo outro procedimento de teste $\\delta$, \n",
    "$$\n",
    "a\\alpha(\\delta^*) + b\\beta(\\delta^*) \\le a\\alpha(\\delta) + b\\beta(\\delta) \n",
    "$$\n",
    "\n",
    "Queremos escolher um teste que minimize essa combinação linear $a\\alpha(\\delta) + b\\beta(\\delta)$. Claro que seria ótimo ter esse erro zerado, mas sabemos que existe uma espécie de *trade off* entre esses erros. Esse teorema dá o teste necessário para que isso acontença. \n",
    "\n",
    "### Corolário\n",
    "\n",
    "Considere as hipóteses do teorema anterior, $a > 0$ e $b > 0$. Defina estatística de teste **razão de verossimilhança**:\n",
    "$$\n",
    "\\Lambda(x) = \\begin{cases}\n",
    "              \\frac{f_0(x)}{f_1(x)}, \\text{ se } f_0(x) \\le f_1(x) \\\\\n",
    "              1, \\text{ caso contrário }. \n",
    "\\end{cases}\n",
    "$$\n",
    "Defina o procedimento de teste $\\delta$: Rejeita $H_0$ se $\\Lambda(x) > a/b$. Então o valor de $af_0(x) + bf_1(x)$ é mínimo.  \n",
    "\n",
    "### Lema Nayman-Pearson\n",
    "\n",
    "Suponha que $\\delta '$ tem a seguinte forma, para algum $k > 0$: $H_0$ não é rejeitada se $f_1(x) < kf_0(x)$ e o é quando $f_1(x) > kf_0(x).$ Se $\\delta$ é outro procedimento de teste tal que $\\alpha(\\delta) \\le \\alpha(\\delta ')$, então $\\beta(\\delta) \\ge \\beta(\\delta ').$"
   ]
  },
  {
   "cell_type": "markdown",
   "metadata": {},
   "source": [
    "### Implementação \n",
    "\n",
    "Vamos fazer uma simples implementação de uso para esse tipo de problema. "
   ]
  },
  {
   "cell_type": "code",
   "execution_count": 1,
   "metadata": {},
   "outputs": [],
   "source": [
    "import numpy as np \n",
    "from scipy.stats import bernoulli, binom"
   ]
  },
  {
   "cell_type": "markdown",
   "metadata": {},
   "source": [
    "Nesse caso, vamos fazer uma simples simulação, onde um parâmetro de uma distribuição de Bernoulli pode ser $p = 0.4$ ou $p = 0.6$. Vamos gerar essa amostra, mas sem de fato conhecer $p$ verdadeiro."
   ]
  },
  {
   "cell_type": "code",
   "execution_count": 2,
   "metadata": {},
   "outputs": [],
   "source": [
    "ro = np.random.RandomState(1000000) #random state \n",
    "p = ro.choice([0.4, 0.6])"
   ]
  },
  {
   "cell_type": "markdown",
   "metadata": {},
   "source": [
    "Teremos uma amostra de tamanho $n$."
   ]
  },
  {
   "cell_type": "code",
   "execution_count": 3,
   "metadata": {},
   "outputs": [],
   "source": [
    "n = 20\n",
    "X = ro.binomial(1, p, size = n)"
   ]
  },
  {
   "cell_type": "markdown",
   "metadata": {},
   "source": [
    "Vamos utilizar o Lema Nayman-Pearson. O objetivo é testar as seguintes hipóteses: \n",
    "\n",
    "$$\n",
    "H_0: p = 0.4\n",
    "$$\n",
    "$$\n",
    "H_1: p = 0.6\n",
    "$$\n",
    "\n",
    "Vamos fixar $\\alpha_0 = 0.05$ o tamanho do teste. Temos que, se $y = \\sum_{i=1}^n x_i \\sim Binomial(n,p)$, \n",
    "\n",
    "$$\n",
    "\\frac{f_1(x)}{f_0(x)} = \\frac{0.6^y0.4^{n-y}}{0.4^y0.6^{n-y}} = \\left(\\frac{3}{2}\\right)^y\\left(\\frac{2}{3}\\right)^{n-y} = \\left(\\frac{3}{2}\\right)^{2y - n}\n",
    "$$\n",
    "\n",
    "Assim:\n",
    "\n",
    "$$\n",
    "\\begin{split}\n",
    "0.05 &= P(f_1(x) > kf_0(x)|p = 0.4) = P\\left(\\left(\\frac{3}{2}\\right)^{2y - n} > k\\right) \\\\\n",
    "&= P\\left(2y - n > \\frac{\\log(k)}{\\log(3/2)}\\right)  \\\\\n",
    "&= P\\left(y > \\frac{\\log(k)}{2\\log(3/2)} + \\frac{n}{2}\\right), y \\sim Binomial(n,0.4)\n",
    "\\end{split}\n",
    "$$\n",
    "\n",
    "Isto é, preciso escolher $k$ que satisfaça essa relação. Vamos calcular $k$ numericamente utilizando um método de otimização. Como não queremos que seja marior do que 0.05, precisamos colocar peso para que não seja. Veja que existem vários valores de $k$ que satisfazem isso. "
   ]
  },
  {
   "cell_type": "code",
   "execution_count": 4,
   "metadata": {},
   "outputs": [],
   "source": [
    "alpha0 = 0.05 \n",
    "Y = binom(n = n, p = 0.4)\n",
    "\n",
    "func = lambda k, n: 0.95 - Y.cdf((1/2)*np.log(k)/np.log(3/2) + n/2)"
   ]
  },
  {
   "cell_type": "code",
   "execution_count": 5,
   "metadata": {},
   "outputs": [
    {
     "name": "stdout",
     "output_type": "stream",
     "text": [
      "Para k = 2, a diferença é 0.07752124614721656\n",
      "Para k = 3, a diferença é 0.006526367034253022\n",
      "Para k = 4, a diferença é 0.006526367034253022\n",
      "Para k = 5, a diferença é 0.006526367034253022\n",
      "Para k = 6, a diferença é -0.028971072522228858\n"
     ]
    }
   ],
   "source": [
    "print('Para k = {}, a diferença é {}'.format(2, func(2,n)))\n",
    "print('Para k = {}, a diferença é {}'.format(3, func(3,n)))\n",
    "print('Para k = {}, a diferença é {}'.format(4, func(4,n)))\n",
    "print('Para k = {}, a diferença é {}'.format(5, func(5,n)))\n",
    "print('Para k = {}, a diferença é {}'.format(6, func(6,n)))"
   ]
  },
  {
   "cell_type": "markdown",
   "metadata": {},
   "source": [
    "Por esse motivo, vamos tomar $k=6$. Pela Lema de Neyman Pearson, esse teste é o que minimiza o Erro do Tipo II.  "
   ]
  },
  {
   "cell_type": "code",
   "execution_count": 6,
   "metadata": {},
   "outputs": [],
   "source": [
    "k = 6"
   ]
  },
  {
   "cell_type": "markdown",
   "metadata": {},
   "source": [
    "Vamos ver se rejeitamos ou não a hipótese nula baseado nos dados obtidos. "
   ]
  },
  {
   "cell_type": "code",
   "execution_count": 7,
   "metadata": {},
   "outputs": [
    {
     "name": "stdout",
     "output_type": "stream",
     "text": [
      "Não rejeitamos H0.\n"
     ]
    }
   ],
   "source": [
    "f0 = lambda x: 0.4**(sum(x))*0.6**(len(x) - sum(x))\n",
    "f1 = lambda x: 0.6**(sum(x))*0.4**(len(x) - sum(x))\n",
    "\n",
    "if f1(X) > k*f0(X):\n",
    "    print(r'Rejeitamos H0.')\n",
    "else:\n",
    "    print(r'Não rejeitamos H0.')"
   ]
  },
  {
   "cell_type": "markdown",
   "metadata": {},
   "source": [
    "Vamos ver quem é $p$, então. "
   ]
  },
  {
   "cell_type": "code",
   "execution_count": 8,
   "metadata": {},
   "outputs": [
    {
     "name": "stdout",
     "output_type": "stream",
     "text": [
      "O valor de p é .... \n",
      "0.4\n"
     ]
    }
   ],
   "source": [
    "print('O valor de p é .... ')\n",
    "print(p)"
   ]
  },
  {
   "cell_type": "markdown",
   "metadata": {},
   "source": [
    "Fizemos bem em não rejeitar a hipótese nula!"
   ]
  },
  {
   "cell_type": "markdown",
   "metadata": {},
   "source": [
    "## Hipótese Alternativa Bilateral \n",
    "\n",
    "Seja $X = (X_1, ..., X_n)$ uma amostra aleatória de uma distribuição normal com média $\\mu$ desconhecida e variância $\\sigma^2$ conhecida e queremos testar a hipótese \n",
    "$$\n",
    "H_0: \\mu = \\mu_0\n",
    "$$\n",
    "$$\n",
    "H_1: \\mu \\neq \\mu_0\n",
    "$$\n",
    "\n",
    "Como $\\bar{X}_n$ é um estimador consistente de $\\mu$, faz sentido rejeitar a hipótese nula quando a média amostral se afasta de $\\mu_0$. Para isso, vamos escolher $c_1, c_2$ de forma que \n",
    "\n",
    "$\n",
    "P(\\bar{X}_n \\leq c_1|\\mu = \\mu_0) + P(\\bar{X}_n \\geq c_2|\\mu = \\mu_0) = \\alpha_0\n",
    "$\n",
    "\n",
    "$\n",
    "\\Rightarrow P\\left(Z \\leq \\sqrt{n}\\frac{c_1 - \\mu_0}{\\sigma}\\right) + P\\left(Z \\geq \\sqrt{n}\\frac{c_2 - \\mu_0}{\\sigma}\\right) = \\alpha_0\n",
    "$\n",
    "\n",
    "$\n",
    "\\Rightarrow \\Phi\\left(\\sqrt{n}\\frac{c_1 - \\mu_0}{\\sigma}\\right) + 1 -  \\Phi\\left(\\sqrt{n}\\frac{c_2 - \\mu_0}{\\sigma}\\right) = \\alpha_0 \n",
    "$\n",
    "\n",
    "$\n",
    "\\Rightarrow \\Phi\\left(\\sqrt{n}\\frac{c_1 - \\mu_0}{\\sigma}\\right) = \\alpha_1 \\text{ e } \\Phi\\left(\\sqrt{n}\\frac{c_2 - \\mu_0}{\\sigma}\\right) = 1 - \\alpha_2, \\text{ com } \\alpha_1 + \\alpha_2 = \\alpha_0 \n",
    "$\n",
    "\n",
    "*Observação:* $\\bar{X}_n \\sim N(\\mu, \\sigma^2/n) \\Rightarrow Z = \\sqrt{n}\\frac{\\bar{X}_n - \\mu}{\\sigma} \\sim N(0,1)$\n",
    "\n",
    "*Observação 2:* No cálculo substituimos $\\mu$ por $\\mu_0$, porque estamos \"condicionando\" no conhecimento deles serem iguais. \n",
    "\n",
    "Isto é, queremos que o tamanho do teste seja $\\alpha_0$, lembrando que o tamanho do teste é o supremo das probabilidades de se rejeitar a hipótese nula quando ela é verdadeira. "
   ]
  },
  {
   "cell_type": "markdown",
   "metadata": {},
   "source": [
    "## O Teste t\n",
    "\n",
    "Suponha que $(X_1,...,X_n)$ é uma amostra aleatória da distribuição $N(\\mu,\\sigma^2)$, com parâmetros desconhecidos e queremos testar a hipótese:\n",
    "$$\n",
    "H_0: \\mu \\le \\mu_0 \\implies \\Omega_0 = \\{(x,y) \\in \\mathbb{R}^2 | x \\le \\mu_0 \\text{ e } y > 0\\}\n",
    "$$\n",
    "$$\n",
    "H_1: \\mu > \\mu_0 \\implies \\Omega_1 = \\{(x,y) \\in \\mathbb{R}^2 | x > \\mu_0 \\text{ e } y > 0\\}\n",
    "$$\n",
    "\n",
    "Sabemos que $U = n^{1/2}\\frac{\\bar{X}_n - \\mu_0}{\\sigma '}$ é uma boa estatística de teste e rejeitamos $H_0$ se $U \\ge c$. Essa estatística é interessante porque quando $\\mu = \\mu_0, U \\sim t(n-1)$. Por isso chamamos de testes t quando baseados na estatística $U$. Podemos também inverter os sinais de desigualdade e rejeitar $H_0$ quando $U \\le c$. \n"
   ]
  },
  {
   "cell_type": "code",
   "execution_count": 9,
   "metadata": {},
   "outputs": [],
   "source": [
    "from pandas import DataFrame\n",
    "from scipy.stats import t\n",
    "import matplotlib.pyplot as plt\n",
    "import seaborn as sns"
   ]
  },
  {
   "cell_type": "code",
   "execution_count": 10,
   "metadata": {},
   "outputs": [],
   "source": [
    "mu0 = 10\n",
    "# Vamos escolher mu e sigma de forma aleatória, mas não significa que é uma variável aleatória. \n",
    "n = 20"
   ]
  },
  {
   "cell_type": "markdown",
   "metadata": {},
   "source": [
    "Vamos gerar uma aproximação para a distribuição de $U$ para um determinado $\\mu$. "
   ]
  },
  {
   "cell_type": "code",
   "execution_count": 11,
   "metadata": {},
   "outputs": [],
   "source": [
    "U_values = {}\n",
    "for i in range(6):\n",
    "    mu = ro.normal(mu0, 1) if i < 5 else 10\n",
    "    sigma = ro.exponential(mu0) \n",
    "    key = 'mu = {}, sigma = {}'.format(np.round(mu,2), np.round(sigma,2))\n",
    "    U_values[key] = np.zeros(10000)\n",
    "    for j in range(10000):\n",
    "        X = ro.normal(mu, sigma, size = n)\n",
    "        U = np.sqrt(n)*(np.mean(X) - mu0)/np.std(X, ddof = 1)\n",
    "        U_values[key][j] = U\n",
    "U_values = DataFrame(U_values)"
   ]
  },
  {
   "cell_type": "code",
   "execution_count": 12,
   "metadata": {},
   "outputs": [
    {
     "data": {
      "image/png": "[encoded data removed]",
      "text/plain": [
       "<Figure size 720x432 with 1 Axes>"
      ]
     },
     "metadata": {
      "needs_background": "light"
     },
     "output_type": "display_data"
    }
   ],
   "source": [
    "fig, ax = plt.subplots(figsize = (10,6))\n",
    "sns.kdeplot(data = U_values, ax = ax)\n",
    "ax.set_title('Distribuição aproximada de U')\n",
    "plt.show()"
   ]
  },
  {
   "cell_type": "markdown",
   "metadata": {},
   "source": [
    "### Teorema \n",
    "\n",
    "Seja $c$ o $1 - \\alpha_0$ quartil da distribuição $t$ com $n-1$ graus de liberdade. Então, segundo o teste citado acima, a função poder tem as seguintes propriedades: \n",
    "\n",
    "1. $\\pi(\\mu, \\sigma|\\delta) = \\alpha_0$, quando $\\mu = \\mu_0$.\n",
    "2. $\\pi(\\mu, \\sigma|\\delta) < \\alpha_0$, quando $\\mu < \\mu_0$.\n",
    "3. $\\pi(\\mu, \\sigma|\\delta) > \\alpha_0$, quando $\\mu > \\mu_0$.\n",
    "4. $\\pi(\\mu, \\sigma|\\delta) \\to 0$, quando $\\mu \\to -\\infty$.\n",
    "5. $\\pi(\\mu, \\sigma|\\delta) \\to 1$, quando $\\mu \\to \\infty$.\n",
    "\n",
    "O teste também é não enviesado como consequência."
   ]
  },
  {
   "cell_type": "markdown",
   "metadata": {},
   "source": [
    "### P-valores para testes t\n",
    "\n",
    "Seja $u$ a estatística $U$ quando observada. Seja $T_{n-1}(\\cdot)$ a cdf da distribuição t com $n-1$ graus de liberdade. Então o p-valor para $H_0: \\mu \\leq \\mu_0$ é $1 - T_{n-1}(u)$, enquanto o p-valor para $H_0: \\mu \\ge \\mu_0$ é $T_{n-1}(u)$. \n",
    "\n",
    "### Distribuição t não central \n",
    "\n",
    "O objetivo é encontrar a distribuição de $U$ mesmo quando $\\mu \\neq \\mu_0$. \n",
    "\n",
    "### Teorema  (Função Poder)"
   ]
  },
  {
   "cell_type": "code",
   "execution_count": null,
   "metadata": {},
   "outputs": [],
   "source": []
  }
 ],
 "metadata": {
  "kernelspec": {
   "display_name": "Python 3.7.3 64-bit ('base')",
   "language": "python",
   "name": "python37364bitbase6782713bed674ed7a26121bd52530782"
  },
  "language_info": {
   "codemirror_mode": {
    "name": "ipython",
    "version": 3
   },
   "file_extension": ".py",
   "mimetype": "text/x-python",
   "name": "python",
   "nbconvert_exporter": "python",
   "pygments_lexer": "ipython3",
   "version": "3.7.3"
  }
 },
 "nbformat": 4,
 "nbformat_minor": 4
}
