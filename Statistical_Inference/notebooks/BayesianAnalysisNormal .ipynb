{
 "cells": [
  {
   "cell_type": "markdown",
   "metadata": {},
   "source": [
    "# Análise Bayesiana de amostras da distribuição Normal \n",
    "\n",
    "## Precisão da distribuição normal\n",
    "\n",
    "Definimos $\\tau := 1/\\sigma^2$ como a precisão da distribuição normal.  \n",
    "\n",
    "A função da densidade de probabilidade da distribuição normal $f(x|\\mu,\\tau)$ é, $-\\infty < x < \\infty$:  \n",
    "\n",
    "$$\n",
    "f(x|\\mu,\\tau) = \\left(\\frac{\\tau}{2\\pi}\\right)^{1/2}\\exp\\left[-\\frac{1}{2}\\tau(x-\\mu)^2\\right]\n",
    "$$\n",
    "\n",
    "### Teorema \n",
    "\n",
    "Suponha que $X_1,...,X_n \\overset{iid}{\\sim}\n",
    "N_2(\\mu, \\tau)$, desconhecidos. Suponha que \n",
    "\n",
    "$$\n",
    "\\mu|\\tau \\sim N_2(\\mu_0, \\lambda_0 \\tau)\n",
    "$$\n",
    "$$\n",
    "\\tau \\sim \\text{Gamma}(\\alpha_0, \\beta_0)\n",
    "$$\n",
    "\n",
    "Então a distribuição conjunta de $\\mu$ e $\\tau$ a posteriori é dada por: \n",
    "\n",
    "$$\n",
    "\\mu|\\tau, X_1,...,X_n \\sim N_2(\\mu_1, \\lambda_1\\tau)\n",
    "$$\n",
    "$$\n",
    "\\tau|X_1,...,X_n \\sim \\text{Gamma}(\\alpha_1, \\beta_1),\n",
    "$$\n",
    "\n",
    "onde \n",
    "\n",
    "|Parâmetro|Valor a posteriori do parâmetro|\n",
    "|----||\n",
    "|$\\mu_1$|$\\frac{\\lambda_0 \\mu_0 + n\\bar{x}_n}{\\lambda_0 + n}$|\n",
    "|$\\lambda_1$|$\\lambda_0 + n$|\n",
    "|$\\alpha_1$|$\\alpha_0 + n/2$|\n",
    "|$\\beta_1$|$\\beta_0 + s_n^2/2 + \\frac{n\\lambda_0(\\bar{x}_n - \\mu_0)^2}{2(\\lambda_0 + n)}$|\n",
    "\n",
    "## Família Normal-Gamma\n",
    "\n",
    "Sejam $\\mu$ e $\\tau$ variáveis aleatórias. Suponha que a distribuição condicional de $\\mu$ dado $\\tau$ é normal com média $\\mu_0$ e precisão $\\lambda_0 \\tau$ e que a dstribuição marginal de $\\tau$ seja gamma com parâmetros $\\alpha_0, \\beta_0$. Então, falamos que a distribuição conjunta de $\\mu$ e $\\tau$ é a distribuição **normal-gamma** com hiperparâmeteros $\\mu_0, \\lambda_0, \\alpha_0$ e $\\beta_0$."
   ]
  },
  {
   "cell_type": "code",
   "execution_count": null,
   "metadata": {},
   "outputs": [],
   "source": [
    "# Continua!"
   ]
  }
 ],
 "metadata": {
  "kernelspec": {
   "display_name": "Python 3.7.3 64-bit ('base')",
   "language": "python",
   "name": "python37364bitbase6782713bed674ed7a26121bd52530782"
  },
  "language_info": {
   "codemirror_mode": {
    "name": "ipython",
    "version": 3
   },
   "file_extension": ".py",
   "mimetype": "text/x-python",
   "name": "python",
   "nbconvert_exporter": "python",
   "pygments_lexer": "ipython3",
   "version": "3.7.3"
  }
 },
 "nbformat": 4,
 "nbformat_minor": 4
}
