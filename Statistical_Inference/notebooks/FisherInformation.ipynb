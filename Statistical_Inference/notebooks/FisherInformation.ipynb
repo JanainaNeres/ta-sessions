{
 "cells": [
  {
   "cell_type": "markdown",
   "metadata": {},
   "source": [
    "# Informação de Fisher\n",
    "\n",
    "Seja $X$ uma amostra aleatória cuja distribuição depende de $\\theta$ e tem valores em $(a,b) \\subset \\mathbb{R}$. Seja $f_n(x|\\theta)$ a pdf conjunta de $X$. Assuma que $S = {x | f(x|\\theta) > 0}$ é o mesmo para todo $\\theta$. E $\\lambda_n(x|\\theta) = \\log f_n(x|\\theta)$ é duas vezes diferenciável em $\\theta$.  A informação é: \n",
    "\n",
    "$$\n",
    "I_n(\\theta) = E_{\\theta}\\{[\\lambda_n '(X|\\theta)]^2\\}\n",
    "$$\n",
    "\n",
    "Agora assuma que duas derivadas de $\\int_S f_n(x|\\theta)dx$ com respeito a $\\theta$ podemos [inverter a ordem de integração e diferenciação](https://en.wikipedia.org/wiki/Leibniz_integral_rule#:~:text=General%20form%3A%20Differentiation%20under%20the%20integral%20sign,-Theorem.&text=That%20is%2C%20it%20is%20related,as%20the%20Leibniz%20integral%20rule.&text=the%20change%20of%20order%20of%20integration%20(integration%20under%20the%20integral,%3B%20i.e.%2C%20Fubini's%20theorem).). Então:\n",
    "\n",
    "$$\n",
    "I_n(\\theta) = - E_{\\theta}[\\lambda_n ''(X|\\theta)]\n",
    "$$\n",
    "\n",
    "## Teorema\n",
    "\n",
    "$$I_n(\\theta) = nI(\\theta)$$"
   ]
  },
  {
   "cell_type": "markdown",
   "metadata": {},
   "source": [
    "## Desigualdade de Cramér-Rao\n",
    "\n",
    "Seja $X$ uma amostra aleatória com pdf $f(x| \\theta)$. Suponha as hipóteses acima acerca dessa distribuição. Seja $T = r(X)$ com variância finita e $m(\\theta) = E_{\\theta}(T)$ é diferenciável. Assim:\n",
    "\n",
    "$$\n",
    "Var_{\\theta}(T) \\geq \\frac{[m'(\\theta)]^2}{nI(\\theta)}\n",
    "$$\n",
    "\n",
    "A igualdade vale se, e somente se, existem funções $u(\\theta)$ e $v(\\theta)$ que podem depender em $\\theta$ mas não de $X$ tal que: \n",
    "\n",
    "$$\n",
    "T = u(\\theta)\\lambda_n'(X|\\theta) + v(\\theta)\n",
    "$$\n",
    "\n",
    "Se $T$ for não viesado $m(\\theta) = \\theta \\implies m'(\\theta) = 1$"
   ]
  },
  {
   "cell_type": "markdown",
   "metadata": {},
   "source": [
    "## Estimador Eficiente\n",
    "\n",
    "## Estimadores não viesados com variância mínima \n",
    "\n",
    "### Distribuição assintótica de um estimador eficiente \n",
    "\n",
    "### Distribuição assintótica do MLE\n",
    "\n",
    "### Estimação Eficiente "
   ]
  },
  {
   "cell_type": "code",
   "execution_count": null,
   "metadata": {},
   "outputs": [],
   "source": []
  }
 ],
 "metadata": {
  "kernelspec": {
   "display_name": "Python 3",
   "language": "python",
   "name": "python3"
  },
  "language_info": {
   "codemirror_mode": {
    "name": "ipython",
    "version": 3
   },
   "file_extension": ".py",
   "mimetype": "text/x-python",
   "name": "python",
   "nbconvert_exporter": "python",
   "pygments_lexer": "ipython3",
   "version": "3.7.3"
  }
 },
 "nbformat": 4,
 "nbformat_minor": 4
}
