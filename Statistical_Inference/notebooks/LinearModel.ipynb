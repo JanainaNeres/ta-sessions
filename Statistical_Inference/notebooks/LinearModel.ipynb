{
 "cells": [
  {
   "cell_type": "markdown",
   "metadata": {},
   "source": [
    "# Modelo Linear \n",
    "\n",
    "## Mínimos quadrados\n",
    "\n",
    "Sejam os pontos $(x_1, y_1), ..., (x_n,y_n)$. A reta que minimiza $\\sum_{i=1}^n (y_i - (\\beta_0 + \\beta_1 x_i))^2$ segundo $\\beta_0$ e $\\beta_1$ tem inclinação e intecepto\n",
    "\n",
    "$$\n",
    "\\hat{\\beta}_1 = \\dfrac{\\sum_{i=1}^n (y_i - \\bar{y})(x_i - \\bar{x})}{\\sum_{i=1}^n (x_i - \\bar{x})^2}\n",
    "$$\n",
    "\n",
    "$$\n",
    "\\hat{\\beta}_0 = \\bar{y} - \\hat{\\beta}_1\\bar{x}\n",
    "$$\n",
    "\n",
    "A verificação desse resultado é direta ao derivar o funcional objetivo com respeito aos parâmetros e igualando a 0. Além disso, observar que a Hessiana é definida positiva, o que garante a existência do mínimo local (que nesse caso será global). "
   ]
  },
  {
   "cell_type": "code",
   "execution_count": 26,
   "metadata": {},
   "outputs": [],
   "source": [
    "import numpy as np \n",
    "import matplotlib.pyplot as plt\n",
    "from scipy.stats import t\n",
    "from statsmodels.regression.linear_model import OLS\n",
    "plt.style.use('ggplot')\n",
    "\n",
    "ro = np.random.RandomState(10000)"
   ]
  },
  {
   "cell_type": "markdown",
   "metadata": {},
   "source": [
    "Vamos gerar os $n$ pontos e calcular a reta que minimiza os mínimos quadrados."
   ]
  },
  {
   "cell_type": "code",
   "execution_count": 2,
   "metadata": {},
   "outputs": [
    {
     "data": {
      "image/png": "[encoded data removed]",
      "text/plain": [
       "<Figure size 432x288 with 1 Axes>"
      ]
     },
     "metadata": {
      "needs_background": "light"
     },
     "output_type": "display_data"
    }
   ],
   "source": [
    "n = 20\n",
    "x = ro.uniform(0,10, size = n)\n",
    "epsilon = ro.normal(0, scale = 3, size = n)\n",
    "beta0, beta1 = ro.uniform(0,10, size = 2)\n",
    "y = beta0 + beta1*x + epsilon\n",
    "\n",
    "plt.scatter(x,y)\n",
    "plt.title('Pontos gerados')\n",
    "plt.show()"
   ]
  },
  {
   "cell_type": "markdown",
   "metadata": {},
   "source": [
    "Estimando os coeficientes"
   ]
  },
  {
   "cell_type": "code",
   "execution_count": 3,
   "metadata": {},
   "outputs": [
    {
     "data": {
      "image/png": "[encoded data removed]",
      "text/plain": [
       "<Figure size 432x288 with 1 Axes>"
      ]
     },
     "metadata": {
      "needs_background": "light"
     },
     "output_type": "display_data"
    }
   ],
   "source": [
    "beta1_hat = np.dot(y - y.mean(), x - x.mean())/np.dot(x - x.mean(), x - x.mean())\n",
    "beta0_hat = y.mean() - beta1_hat*x.mean()\n",
    "\n",
    "t = np.linspace(0,10,1000)\n",
    "plt.scatter(x,y, label = r'$\\beta_0$ = {:.2f}, $\\beta_1$ = {:.2f}'.format(beta0, beta1))\n",
    "plt.plot(t,beta0_hat + beta1_hat*t, color = 'blue', label = r'$\\beta_0$ = {:.2f}, $\\beta_1$ = {:.2f}'.format(beta0_hat, beta1_hat))\n",
    "plt.legend()\n",
    "plt.title('Reta mínimos quadrados')\n",
    "plt.show()"
   ]
  },
  {
   "cell_type": "markdown",
   "metadata": {},
   "source": [
    "Agora vamos usar numpy para a estimação. Observe que o resultado coincide com o calculado usando a fórmula derivada. "
   ]
  },
  {
   "cell_type": "code",
   "execution_count": 4,
   "metadata": {},
   "outputs": [
    {
     "name": "stdout",
     "output_type": "stream",
     "text": [
      "[3.40285283 3.52323316]\n"
     ]
    }
   ],
   "source": [
    "# adiciona coluna de 1 para lidar com o beta_0\n",
    "xlinha = np.c_[np.ones(n),x]   \n",
    "sol, _, _, _ = np.linalg.lstsq(xlinha, y, rcond = None)\n",
    "print(sol)"
   ]
  },
  {
   "cell_type": "markdown",
   "metadata": {},
   "source": [
    "### Várias variáveis \n",
    "\n",
    "Nesse caso, queremos encontrar um hiperplano que minimiza \n",
    "\n",
    "$$\n",
    "Q = \\sum_{i=1}^n (y_i - (\\beta_0 + \\beta_1 x_{i1} + \\dots + \\beta_k x_{ik}))^2\n",
    "$$\n",
    "\n",
    "Nesse caso teremos $k+1$ equações para resolver. "
   ]
  },
  {
   "cell_type": "markdown",
   "metadata": {},
   "source": [
    "## Regressão\n",
    "\n",
    "Dizemos que $X_1, \\dots, X_k$ são preditores e $Y$ é a resposta. A esperança condicional da resposta dados os preditores é chamada de função regressão. Assim a regressão de $Y$ sobre $X_1, \\dots, X_k$ depende dos valores $x_1, \\dots, x_k$ assumidos pelos preditores. Vamos assumir que estamos com uma regressão linear e, portanto, \n",
    "\n",
    "$$\n",
    "E[Y|x_1,\\dots,x_k] = \\beta_0 + \\beta_1 x_1 + \\dots \\beta_k x_k\n",
    "$$\n",
    "\n",
    "onde os coeficientes $\\beta_j$ são coeficientes de regressão, que são desconhecidos (parâmetros do modelo). \n",
    "\n",
    "### Regressão Linear Simples \n",
    "\n",
    "Nesse caso $Y = \\beta_0 + \\beta_1 x + \\varepsilon$ para cada $X = x$ e, em geral, $\\varepsilon \\sim N(0, \\sigma^2)$. \n",
    "\n",
    "Assumimos que \n",
    "\n",
    "1. Os preditores são conhecidos; \n",
    "2. A distribuição de $Y$ condicionada em $x_1, ..., x_n$ é normal. \n",
    "3. A média condicional é linear com parâmetros $\\beta_0$ e $\\beta_1$.\n",
    "4. Homoscedasticidade, isto é, variância constante. \n",
    "5. Independência das respostas dadas as covariáveis. "
   ]
  },
  {
   "cell_type": "markdown",
   "metadata": {},
   "source": [
    "**Teorema:** Os estimadores de máxima verossimilhança de $\\beta_0$ e $\\beta_1$ são os de mínimos quadrados e de $\\sigma^2$ é \n",
    "$$\n",
    "\\hat{\\sigma}^2 = \\frac{1}{n}\\sum_{i=1}^n (y_i - \\hat{\\beta}_0 - \\hat{\\beta}_1x_i)^2\n",
    "$$\n",
    "\n",
    "**Distribuição dos estimadores:** Considere os estimadores de mínimos quadrados como função das variáveis aleatórias $Y_1,...,Y_n$ dados os preditores $x_1,...,x_n$.\n",
    "\n",
    "$$\n",
    "\\hat{\\beta}_1 \\sim \\mathcal{N}(\\beta_1, \\sigma^2/s_x^2)\n",
    "$$\n",
    "\n",
    "$$\n",
    "\\hat{\\beta}_0 \\sim \\mathcal{N}\\left(\\beta_0, \\sigma^2\\left(\\frac{1}{n} + \\frac{\\bar{x}^2}{s_x^2}\\right)\\right)\n",
    "$$\n",
    "\n",
    "tal que $Cov(\\hat{\\beta}_0, \\hat{\\beta}_1) = \\frac{\\bar{x}\\sigma^2}{s_x^2}$. Em particular a distribuição conjunta desses parâmetros é uma normal bivariada com as médias, vaiâncias e covariância especificadas acima. *As distribuições são todas condicionadas em $X_i = x_i$.*\n",
    "\n",
    "Além disso, se $n \\ge 3, \\hat{\\sigma}^2$ é independente de $(\\hat{\\beta}_0, \\hat{\\beta}_1)$ e $n\\hat{\\sigma}^2/\\sigma^2$ tem distribuição $\\chi^2$ com $n-2$ graus de liberdade."
   ]
  },
  {
   "cell_type": "markdown",
   "metadata": {},
   "source": [
    "## Inferência sobre regressão linear simples\n",
    "\n",
    "### Teste de hipóteses sobre os coeficientes \n",
    "\n",
    "Defina \n",
    "$$\n",
    "S^2 = \\sum_{i=1}^n (Y_i - \\hat{\\beta}_0 - \\hat{\\beta}_1 x_i)^2\n",
    "$$\n",
    "$$\n",
    "\\sigma ' = \\left(\\dfrac{S^2}{n-2}\\right)^{1/2}\n",
    "$$\n",
    "\n",
    "Sejam $c_0, c_1$ e $\\bar{c}$ números especificados onde $c_i \\neq 0$ para algum $i$ e suponha que queiramos testar \n",
    "\n",
    "$$\n",
    "H_0: c_0 \\beta_0 + c_1 \\beta_1 = \\bar{c}\n",
    "$$\n",
    "$$\n",
    "H_1: c_0 \\beta_0 + c_1 \\beta_1 \\neq \\bar{c}\n",
    "$$\n",
    "\n",
    "Para cada $\\alpha_0 \\in (0,1)$ um teste de hipóteses com nível $\\alpha_0$ é rejeitar $H_0$ se $|U| \\ge T_{n-2}^{-1}(1 - \\alpha_0/2)$, onde \n",
    "$$\n",
    "U = \\left[\\frac{c_0^2}{n} + \\frac{(c_0\\bar{x} - c_1)^2}{s_x^2}\\right]^{-1/2}\\left(\\frac{c_0\\hat{\\beta}_0 + c_1\\hat{\\beta}_1 - \\bar{c}}{\\sigma '}\\right)\n",
    "$$\n",
    "\n",
    "Para ver isso, basta olhar a variável $W$ que tem distribuição normal padrão\n",
    "\n",
    "$$\n",
    "W = \\left[\\frac{c_0^2}{n} + \\frac{(c_0\\bar{x} - c_1)^2}{s_x^2}\\right]^{-1/2}\\left(\\frac{c_0\\hat{\\beta}_0 + c_1\\hat{\\beta}_1 - \\bar{c}}{\\sigma}\\right)\n",
    "$$\n",
    "\n",
    "e que $S^2/\\sigma^2 \\sim \\chi^2_{n-2}$ \n",
    "\n",
    "A mesma derivação pode ser usada para testes unilaterais. A diferença é que rejeitaremos quando \n",
    "$$\n",
    "U \\ge T_{n-2}^{-1}(1 - \\alpha_0)\n",
    "$$\n",
    "quando a hipótese nula é uma desiguldade do tipo menor igual ou \n",
    "$$\n",
    "U \\le -T_{n-2}^{-1}(1 - \\alpha_0)\n",
    "$$\n",
    "quando é do tipo maior ou igual. "
   ]
  },
  {
   "cell_type": "markdown",
   "metadata": {},
   "source": [
    "**Exemplo:** Vamos testar a hipótese de que $\\beta_1 = 0$ em relação a curva anterior. Só para lembrar: "
   ]
  },
  {
   "cell_type": "code",
   "execution_count": 5,
   "metadata": {},
   "outputs": [
    {
     "data": {
      "image/png": "[encoded data removed]",
      "text/plain": [
       "<Figure size 432x288 with 1 Axes>"
      ]
     },
     "metadata": {
      "needs_background": "light"
     },
     "output_type": "display_data"
    }
   ],
   "source": [
    "t = np.linspace(0,10,1000)\n",
    "plt.scatter(x,y, label = r'$\\beta_0$ = {:.2f}, $\\beta_1$ = {:.2f}'.format(beta0, beta1))\n",
    "plt.plot(t,beta0_hat + beta1_hat*t, color = 'blue', label = r'$\\beta_0$ = {:.2f}, $\\beta_1$ = {:.2f}'.format(beta0_hat, beta1_hat))\n",
    "plt.legend()\n",
    "plt.title('Reta mínimos quadrados')\n",
    "plt.show()"
   ]
  },
  {
   "cell_type": "markdown",
   "metadata": {},
   "source": [
    "Nesse caso temos $c_0 = \\bar{c} = 0$ e $c_1 = 1$. Assim:"
   ]
  },
  {
   "cell_type": "code",
   "execution_count": 19,
   "metadata": {},
   "outputs": [],
   "source": [
    "# O denominador da divisão é n - ddof\n",
    "sx2 = np.var(x, ddof = n - 1)\n",
    "S2 = sum((y - beta0_hat - beta1_hat*x)**2)\n",
    "sigma_prime = (S2/(n-2))**(1/2)\n",
    "# Estatística de teste\n",
    "U = np.sqrt(sx2)*beta1_hat/sigma_prime"
   ]
  },
  {
   "cell_type": "markdown",
   "metadata": {},
   "source": [
    "Seja $\\alpha_0 = 0.05$ o nível de significância"
   ]
  },
  {
   "cell_type": "code",
   "execution_count": 22,
   "metadata": {},
   "outputs": [
    {
     "data": {
      "text/plain": [
       "True"
      ]
     },
     "execution_count": 22,
     "metadata": {},
     "output_type": "execute_result"
    }
   ],
   "source": [
    "alpha0 = 0.05\n",
    "abs(U) >= t.ppf(1 - alpha0/2, df = n-2)"
   ]
  },
  {
   "cell_type": "markdown",
   "metadata": {},
   "source": [
    "Como isso é verdade, rejeitamos a hipótese nula!"
   ]
  },
  {
   "cell_type": "markdown",
   "metadata": {},
   "source": [
    "### Intervalos de confiança \n",
    "\n",
    "Temos que $c_0\\hat{\\beta}_0 + c_1\\hat{\\beta}_1 \\pm \\sigma '\\left[\\frac{c_0^2}{n} + \\frac{(c_0\\bar{x} - c_1)^2}{s_x^2}\\right]^{1/2}T_{n-2}^{-1}\\left(1 - \\frac{\\alpha_0}{2}\\right)$ é un intervalo de confiança $1 - \\alpha_0$ para $c_0\\beta_0 + c_1\\beta_1$. Para encontrar esse intervalo basta encontrar o conjunto de todos os valores $\\bar{c}$ para que a hipótese nula seja rejeitada a nível de significância $\\alpha_0$. "
   ]
  },
  {
   "cell_type": "markdown",
   "metadata": {},
   "source": [
    "No nosso exemplo, um intervalo para $\\beta_1$ é "
   ]
  },
  {
   "cell_type": "code",
   "execution_count": 24,
   "metadata": {},
   "outputs": [
    {
     "data": {
      "text/plain": [
       "[3.00233584703191, 4.044130469815932]"
      ]
     },
     "execution_count": 24,
     "metadata": {},
     "output_type": "execute_result"
    }
   ],
   "source": [
    "[beta1_hat - sigma_prime*(1/np.sqrt(sx2))*t.ppf(1 - alpha0/2, df = n-2), \n",
    " beta1_hat + sigma_prime*(1/np.sqrt(sx2))*t.ppf(1 - alpha0/2, df = n-2)]"
   ]
  },
  {
   "cell_type": "markdown",
   "metadata": {},
   "source": [
    "Usando o pacote `statsmodels`"
   ]
  },
  {
   "cell_type": "code",
   "execution_count": 37,
   "metadata": {},
   "outputs": [
    {
     "name": "stdout",
     "output_type": "stream",
     "text": [
      "[3.40285283 3.52323316]\n"
     ]
    }
   ],
   "source": [
    "model = OLS(y,xlinha)\n",
    "result = model.fit()\n",
    "print(result.params)"
   ]
  },
  {
   "cell_type": "markdown",
   "metadata": {},
   "source": [
    "Observe que os parâmetros estimados são os mesmo que encontramos com `numpy` e na mão. Também observe que o tvalor calculado coincide com nossa estatística U"
   ]
  },
  {
   "cell_type": "code",
   "execution_count": 47,
   "metadata": {},
   "outputs": [
    {
     "name": "stdout",
     "output_type": "stream",
     "text": [
      "Nossa: 14.210167788464632\n",
      "Statsmodels: 14.21016778846464\n"
     ]
    }
   ],
   "source": [
    "print('Nossa: {}'.format(U))\n",
    "print('Statsmodels: {}'.format(result.tvalues[1]))"
   ]
  },
  {
   "cell_type": "markdown",
   "metadata": {},
   "source": [
    "Podemos colocar $c_0 = 0$ e $c_1 = 1$ e obteremos o intervalo de confiança como desejávamos!"
   ]
  },
  {
   "cell_type": "code",
   "execution_count": 48,
   "metadata": {},
   "outputs": [
    {
     "data": {
      "text/plain": [
       "<class 'statsmodels.stats.contrast.ContrastResults'>\n",
       "                             Test for Constraints                             \n",
       "==============================================================================\n",
       "                 coef    std err          t      P>|t|      [0.025      0.975]\n",
       "------------------------------------------------------------------------------\n",
       "c0             3.5232      0.248     14.210      0.000       3.002       4.044\n",
       "=============================================================================="
      ]
     },
     "execution_count": 48,
     "metadata": {},
     "output_type": "execute_result"
    }
   ],
   "source": [
    "result.t_test([0,1])"
   ]
  }
 ],
 "metadata": {
  "kernelspec": {
   "display_name": "Python 3.7.3 64-bit ('base')",
   "language": "python",
   "name": "python37364bitbase6782713bed674ed7a26121bd52530782"
  },
  "language_info": {
   "codemirror_mode": {
    "name": "ipython",
    "version": 3
   },
   "file_extension": ".py",
   "mimetype": "text/x-python",
   "name": "python",
   "nbconvert_exporter": "python",
   "pygments_lexer": "ipython3",
   "version": "3.7.1"
  }
 },
 "nbformat": 4,
 "nbformat_minor": 4
}
