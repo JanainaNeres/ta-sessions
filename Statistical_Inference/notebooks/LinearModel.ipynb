{
 "cells": [
  {
   "cell_type": "markdown",
   "metadata": {},
   "source": [
    "# Modelo Linear \n",
    "\n",
    "## Mínimos quadrados\n",
    "\n",
    "Sejam os pontos $(x_1, y_1), ..., (x_n,y_n)$. A reta que minimiza $\\sum_{i=1}^n (y_i - (\\beta_0 + \\beta_1 x_i))^2$ segundo $\\beta_0$ e $\\beta_1$ tem inclinação e intecepto\n",
    "\n",
    "$$\n",
    "\\hat{\\beta}_1 = \\dfrac{\\sum_{i=1}^n (y_i - \\bar{y})(x_i - \\bar{x})}{\\sum_{i=1}^n (x_i - \\bar{x})^2}\n",
    "$$\n",
    "\n",
    "$$\n",
    "\\hat{\\beta}_0 = \\bar{y} - \\hat{\\beta}_1\\bar{x}\n",
    "$$\n",
    "\n",
    "A verificação desse resultado é direta ao derivar o funcional objetivo com respeito aos parâmetros e igualando a 0. Além disso, observar que a Hessiana é definida positiva, o que garante a existência do mínimo local (que nesse caso será global). "
   ]
  },
  {
   "cell_type": "code",
   "execution_count": 34,
   "metadata": {},
   "outputs": [],
   "source": [
    "import numpy as np \n",
    "import matplotlib.pyplot as plt\n",
    "plt.style.use('ggplot')\n",
    "\n",
    "ro = np.random.RandomState(10000)"
   ]
  },
  {
   "cell_type": "markdown",
   "metadata": {},
   "source": [
    "Vamos gerar os $n$ pontos e calcular a reta que minimiza os mínimos quadrados."
   ]
  },
  {
   "cell_type": "code",
   "execution_count": 35,
   "metadata": {},
   "outputs": [
    {
     "data": {
      "image/png": "[encoded data removed]",
      "text/plain": [
       "<Figure size 432x288 with 1 Axes>"
      ]
     },
     "metadata": {},
     "output_type": "display_data"
    }
   ],
   "source": [
    "n = 20\n",
    "x = ro.uniform(0,10, size = n)\n",
    "epsilon = ro.normal(0, scale = 3, size = n)\n",
    "beta0, beta1 = ro.uniform(0,10, size = 2)\n",
    "y = beta0 + beta1*x + epsilon\n",
    "\n",
    "plt.scatter(x,y)\n",
    "plt.title('Pontos gerados')\n",
    "plt.show()"
   ]
  },
  {
   "cell_type": "markdown",
   "metadata": {},
   "source": [
    "Estimando os coeficientes"
   ]
  },
  {
   "cell_type": "code",
   "execution_count": 36,
   "metadata": {},
   "outputs": [
    {
     "data": {
      "image/png": "[encoded data removed]",
      "text/plain": [
       "<Figure size 432x288 with 1 Axes>"
      ]
     },
     "metadata": {},
     "output_type": "display_data"
    }
   ],
   "source": [
    "beta1_hat = np.dot(y - y.mean(), x - x.mean())/np.dot(x - x.mean(), x - x.mean())\n",
    "beta0_hat = y.mean() - beta1_hat*x.mean()\n",
    "\n",
    "t = np.linspace(0,10,1000)\n",
    "plt.scatter(x,y, label = r'$\\beta_0$ = {:.2f}, $\\beta_1$ = {:.2f}'.format(beta0, beta1))\n",
    "plt.plot(t,beta0_hat + beta1_hat*t, color = 'blue', label = r'$\\beta_0$ = {:.2f}, $\\beta_1$ = {:.2f}'.format(beta0_hat, beta1_hat))\n",
    "plt.legend()\n",
    "plt.title('Reta mínimos quadrados')\n",
    "plt.show()"
   ]
  },
  {
   "cell_type": "markdown",
   "metadata": {},
   "source": [
    "Agora vamos usar numpy para a estimação. Observe que o resultado coincide com o calculado usando a fórmula derivada. "
   ]
  },
  {
   "cell_type": "code",
   "execution_count": 51,
   "metadata": {},
   "outputs": [
    {
     "name": "stdout",
     "output_type": "stream",
     "text": [
      "[3.40285283 3.52323316]\n"
     ]
    }
   ],
   "source": [
    "# adiciona coluna de 1 para lidar com o beta_0\n",
    "xlinha = np.c_[np.ones(n),x]   \n",
    "sol, _, _, _ = np.linalg.lstsq(xlinha, y, rcond = None)\n",
    "print(sol)"
   ]
  },
  {
   "cell_type": "markdown",
   "metadata": {},
   "source": [
    "### Várias variáveis \n",
    "\n",
    "Nesse caso, queremos encontrar um hiperplano que minimiza \n",
    "\n",
    "$$\n",
    "Q = \\sum_{i=1}^n (y_i - (\\beta_0 + \\beta_1 x_{i1} + \\dots + \\beta_k x_{ik}))^2\n",
    "$$\n",
    "\n",
    "Nesse caso teremos $k+1$ equações para resolver. "
   ]
  },
  {
   "cell_type": "markdown",
   "metadata": {},
   "source": [
    "## Regressão\n",
    "\n",
    "Dizemos que $X_1, \\dots, X_k$ são preditores e $Y$ é a resposta. A esperança condicional da resposta dados os preditores é chamada de função regressão. Assim a regressão de $Y$ sobre $X_1, \\dots, X_k$ depende dos valores $x_1, \\dots, x_k$ assumidos pelos preditores. Vamos assumir que estamos com uma regressão linear e, portanto, \n",
    "\n",
    "$$\n",
    "E[Y|x_1,\\dots,x_k] = \\beta_0 + \\beta_1 x_1 + \\dots \\beta_k x_k\n",
    "$$\n",
    "\n",
    "onde os coeficientes $\\beta_j$ são coeficientes de regressão, que são desconhecidos (parâmetros do modelo). \n",
    "\n",
    "### Regressão Linear Simples \n",
    "\n",
    "Nesse caso $Y = \\beta_0 + \\beta_1 x + \\varepsilon$ para cada $X = x$ e, em geral, $\\varepsilon \\sim N(0, \\sigma^2)$. \n",
    "\n",
    "Assumimos que \n",
    "\n",
    "1. Os preditores são conhecidos; \n",
    "2. A distribuição de $Y$ condicionada em $x_1, ..., x_n$ é normal. \n",
    "3. A média condicional é linear com parâmetros $\\beta_0$ e $\\beta_1$.\n",
    "4. Homoscedasticidade, isto é, variância constante. \n",
    "5. Independência das respostas dadas as covariáveis. "
   ]
  },
  {
   "cell_type": "markdown",
   "metadata": {},
   "source": [
    "**Teorema:** Os estimadores de máxima verossimilhança de $\\beta_0$ e $\\beta_1$ são os de mínimos quadrados e de $\\sigma^2$ é \n",
    "$$\n",
    "\\hat{\\sigma}^2 = \\frac{1}{n}\\sum_{i=1}^n (y_i - \\hat{\\beta}_0 - \\hat{\\beta}_1x_i)^2\n",
    "$$\n",
    "\n",
    "**Distribuição dos estimadores:** Considere os estimadores de mínimos quadrados como função das variáveis aleatórias $Y_1,...,Y_n$ dados os preditores $x_1,...,x_n$.\n",
    "\n",
    "$$\n",
    "\\hat{\\beta}_1 \\sim \\mathcal{N}(\\beta_1, \\sigma^2/s_x^2)\n",
    "$$\n",
    "\n",
    "$$\n",
    "\\hat{\\beta}_0 \\sim \\mathcal{N}\\left(\\beta_0, \\sigma^2\\left(\\frac{1}{n} + \\frac{\\bar{x}^2}{s_x^2}\\right)\\right)\n",
    "$$\n",
    "\n",
    "tal que $Cov(\\hat{\\beta}_0, \\hat{\\beta}_1) = \\frac{\\bar{x}\\sigma^2}{s_x^2}$. As distribuições são todas condicionadas em $X_i = x_i$. "
   ]
  },
  {
   "cell_type": "markdown",
   "metadata": {},
   "source": [
    "## Inferência sobre regressão linear simples"
   ]
  },
  {
   "cell_type": "code",
   "execution_count": null,
   "metadata": {},
   "outputs": [],
   "source": []
  }
 ],
 "metadata": {
  "kernelspec": {
   "display_name": "Python 3.7.3 64-bit ('base')",
   "language": "python",
   "name": "python37364bitbase6782713bed674ed7a26121bd52530782"
  },
  "language_info": {
   "codemirror_mode": {
    "name": "ipython",
    "version": 3
   },
   "file_extension": ".py",
   "mimetype": "text/x-python",
   "name": "python",
   "nbconvert_exporter": "python",
   "pygments_lexer": "ipython3",
   "version": "3.7.1"
  }
 },
 "nbformat": 4,
 "nbformat_minor": 4
}
