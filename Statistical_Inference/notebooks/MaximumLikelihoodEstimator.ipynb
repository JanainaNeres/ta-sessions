{
 "cells": [
  {
   "cell_type": "markdown",
   "metadata": {},
   "source": [
    "# Estimador de Máxima Verossimilhança\n",
    "\n",
    "## Introdução \n",
    "\n",
    "\"Tradicionalmente a inferência estatística sobre a média de uma população se apoia no Teorema Central do Limite para construir Intervalos de Confiança ou testar hipóteses sobre o valor do parâmetro. Esta abordagem da estatística tradicional pode ser extendida para inferências a respeito de qualquer parâmetro, não só a média. Da mesma forma que no caso da média populacional se usa a distribuição *t-Student* ou a distribuição *Normal Padrão*, no caso de outros parâmetros se  utiliza outras distribuições amostrais. Essas distribuições são **chamadas amostrais porque representam o comportamento das estimativas baseado na repetição\n",
    "incontável do processo de amostragem**.\n",
    "\n",
    "Na prática científica, no entanto, sempre se realiza uma **única amostragem**, o\n",
    "que resulta em uma única amostra. Assim, o conceito de distribuição amostral\n",
    "é até certo ponto artificial, pois em pesquisa científica **não raciocinamos em termos de repetições incontáveis de experimentos ou processos de observação**. O\n",
    "resultado disto é que o conceito de teste estatístico de hipótese e de intervalo de confiança são frequentemente mal compreendidos. \n",
    "\n",
    "O desenvolvimento da inferência estatística a partir do **conceito de verossimilhança tem sido utilizado como uma alternativa à abordagem estatística frequentista e, segundo alguns autores (como por exemplo Royall, 1997), é mais coerente\n",
    "com a prática científica**.\" (Batista, 2009)\n",
    "\n",
    "[Site de Referência](http://cmq.esalq.usp.br/BIE5781/lib/exe/fetch.php?media=leituras:verossim.pdf)\n",
    "\n",
    "![Image-meme](../images/meme.png)\n",
    "\n",
    "## Função Verossimilhança\n",
    "\n",
    "Quando a função de densidade de probabilidade $f_n(x|\\theta)$ das observações de uma amostra aleatória é vista como uma função de $\\theta$, chamamos ela de função de verossimilhança.\n",
    "\n",
    "$$\n",
    "\\theta \\mapsto f_n(x|\\theta) := L(\\theta|x)\n",
    "$$\n",
    "\n",
    "## Estimador de Máxima Verossimilhança (MLE)\n",
    "\n",
    "Para cada observação $x$, seja $\\delta(x)$ um valor de $\\theta \\in \\Omega$ tal que a função de verossimilhnaça seja **máxima**. Defina $\\hat{\\theta} = \\delta(X)$ o estimador. \n",
    "\n",
    "É importante observar que o máximo dessa função pode não estar em um ponto de $\\Omega$. Nesse caso, MLE não existe. Ele pode não estar unicamente definido, também. \n",
    "\n",
    "## Limitações \n",
    "\n",
    "- Não existência em todos os casos, isso depende muito da função e do espaço dos parâmetros. \n",
    "- Não unicidade em todos os casos.\n",
    "- Não podemos interpretar MLE como o parâmetro mais provável, pois teríamos que ter um espaço de probabilidade associado ao parâmetro, o que não é dado. \n",
    "\n",
    "## Implementação\n",
    "\n",
    "Como referência, estou utilizando [este site](https://towardsdatascience.com/a-gentle-introduction-to-maximum-likelihood-estimation-9fbff27ea12f)."
   ]
  },
  {
   "cell_type": "code",
   "execution_count": 1,
   "metadata": {},
   "outputs": [],
   "source": [
    "# importando bibliotecas\n",
    "\n",
    "import numpy as np, pandas as pd\n",
    "from matplotlib import pyplot as plt\n",
    "import seaborn as sns\n",
    "from scipy.optimize import minimize\n",
    "import scipy.stats as stats\n",
    "import pymc3 as pm3\n",
    "import numdifftools as ndt\n",
    "import statsmodels.api as sm\n",
    "from statsmodels.base.model import GenericLikelihoodModel\n",
    "%matplotlib inline"
   ]
  },
  {
   "cell_type": "code",
   "execution_count": 7,
   "metadata": {},
   "outputs": [],
   "source": [
    "np.random.normal?"
   ]
  },
  {
   "cell_type": "code",
   "execution_count": 5,
   "metadata": {},
   "outputs": [],
   "source": [
    "# Gerando os dados \n",
    "N = 100 \n",
    "x = np.linspace(0, 20, N)  # gerando lista igualmente espaçada\n",
    "\n",
    "beta1 = 3\n",
    "beta0 = 0\n",
    "sigma = 5 "
   ]
  },
  {
   "cell_type": "code",
   "execution_count": 6,
   "metadata": {},
   "outputs": [
    {
     "data": {
      "image/png": "[encoded data removed]",
      "text/plain": [
       "<Figure size 432x288 with 1 Axes>"
      ]
     },
     "metadata": {
      "needs_background": "light"
     },
     "output_type": "display_data"
    }
   ],
   "source": [
    "error = np.random.normal(0, sigma, size = N) \n",
    "y = 3*x + error \n",
    "\n",
    "data = pd.DataFrame({'y': y, 'x': x})\n",
    "data['constant'] = 1\n",
    "\n",
    "sns.regplot('x','y',data = data)  # Essa reta é uma estimativa dos dados feito por seaborn\n",
    "plt.title('Dados')\n",
    "plt.show()"
   ]
  },
  {
   "cell_type": "markdown",
   "metadata": {},
   "source": [
    "Nesse exemplo, o nosso problema será estimar a média. Observe que os dados tem um comportamento linear. Sem nos concentrarmos muito na modelagem e os problemas que ela pode trazer, eu vou já supor que temos um problema de **Regressão Linear**, onde os dados $Y \\sim N(\\mu, \\sigma^2)$, onde $\\sigma^2$ é a variância do erro no processo, e $\\mu = \\beta_0 + \\beta_1 x$, isto é, depende de x, nesse caso. Essa é uma dificuldade, as contas ficam mais difíceis e, por isso, vamos usar asrtifícios computacionais. Vamos supor que a variância é *conhecida*. Além disso, vamos upor que temos uma amostra aleatória $Y_i \\sim N(\\beta_0 + \\beta_1 x_i, \\sigma^2)$\n",
    "\n",
    "Temos que a verossimilhança é produto das pdfs(distribuição de densidade de probabilidade). Para otimizar podemos, entretanto, obter a **soma dos logaritmos das pdfs**. E por fim, vamos resolver um problema de minimizar o negativo desse valor. Veja que é equivalente a maximixar a soma!!"
   ]
  },
  {
   "cell_type": "code",
   "execution_count": 15,
   "metadata": {},
   "outputs": [],
   "source": [
    "# Função de verossimilhança. Chamamos de Função de Perda\n",
    "\n",
    "def MLE(params):\n",
    "    beta0, beta1 = params[0], params[1]\n",
    "    # Modelo Linear\n",
    "    yhat = beta0 + beta1*x \n",
    "    \n",
    "    #loc é a média e scale desvio padrão. Note que sigma é conhecido\n",
    "    negLikelihood = - np.sum(stats.norm.logpdf(y, loc = yhat, scale = sigma)) \n",
    "    \n",
    "    return negLikelihood"
   ]
  },
  {
   "cell_type": "code",
   "execution_count": 16,
   "metadata": {},
   "outputs": [
    {
     "name": "stdout",
     "output_type": "stream",
     "text": [
      "Optimization terminated successfully.\n",
      "         Current function value: 293.953991\n",
      "         Iterations: 55\n",
      "         Function evaluations: 103\n"
     ]
    }
   ],
   "source": [
    "# Esse é o chute inicial\n",
    "initial_guess = np.array([3, 6])\n",
    "\n",
    "results = minimize(MLE, initial_guess, method='Nelder-Mead', options = {'disp': True})"
   ]
  },
  {
   "cell_type": "code",
   "execution_count": 17,
   "metadata": {},
   "outputs": [
    {
     "name": "stdout",
     "output_type": "stream",
     "text": [
      " final_simplex: (array([[-1.03428809,  3.11012856],\n",
      "       [-1.0342294 ,  3.110121  ],\n",
      "       [-1.03433677,  3.11012912]]), array([293.95399071, 293.95399071, 293.95399071]))\n",
      "           fun: 293.95399070678394\n",
      "       message: 'Optimization terminated successfully.'\n",
      "          nfev: 103\n",
      "           nit: 55\n",
      "        status: 0\n",
      "       success: True\n",
      "             x: array([-1.03428809,  3.11012856])\n"
     ]
    }
   ],
   "source": [
    "print(results)"
   ]
  },
  {
   "cell_type": "code",
   "execution_count": 23,
   "metadata": {},
   "outputs": [
    {
     "data": {
      "text/html": [
       "<div>\n",
       "<style scoped>\n",
       "    .dataframe tbody tr th:only-of-type {\n",
       "        vertical-align: middle;\n",
       "    }\n",
       "\n",
       "    .dataframe tbody tr th {\n",
       "        vertical-align: top;\n",
       "    }\n",
       "\n",
       "    .dataframe thead th {\n",
       "        text-align: right;\n",
       "    }\n",
       "</style>\n",
       "<table border=\"1\" class=\"dataframe\">\n",
       "  <thead>\n",
       "    <tr style=\"text-align: right;\">\n",
       "      <th></th>\n",
       "      <th>coef</th>\n",
       "    </tr>\n",
       "  </thead>\n",
       "  <tbody>\n",
       "    <tr>\n",
       "      <th>$\\beta_0$</th>\n",
       "      <td>-1.0343</td>\n",
       "    </tr>\n",
       "    <tr>\n",
       "      <th>$\\beta_1$</th>\n",
       "      <td>3.1101</td>\n",
       "    </tr>\n",
       "  </tbody>\n",
       "</table>\n",
       "</div>"
      ],
      "text/plain": [
       "             coef\n",
       "$\\beta_0$ -1.0343\n",
       "$\\beta_1$  3.1101"
      ]
     },
     "execution_count": 23,
     "metadata": {},
     "output_type": "execute_result"
    }
   ],
   "source": [
    "resultsdf = pd.DataFrame({'coef': results['x']})\n",
    "resultsdf.index=[r'$\\beta_0$',r'$\\beta_1$']   \n",
    "np.round(resultsdf.head(2), 4)"
   ]
  },
  {
   "cell_type": "markdown",
   "metadata": {},
   "source": [
    "Vamos estimar usando a biblioteca OLS. Ela faz esse processo e muito mais internamente. "
   ]
  },
  {
   "cell_type": "code",
   "execution_count": 29,
   "metadata": {},
   "outputs": [
    {
     "data": {
      "text/html": [
       "<table class=\"simpletable\">\n",
       "<caption>OLS Regression Results</caption>\n",
       "<tr>\n",
       "  <th>Dep. Variable:</th>            <td>y</td>        <th>  R-squared:         </th> <td>   0.941</td>\n",
       "</tr>\n",
       "<tr>\n",
       "  <th>Model:</th>                   <td>OLS</td>       <th>  Adj. R-squared:    </th> <td>   0.941</td>\n",
       "</tr>\n",
       "<tr>\n",
       "  <th>Method:</th>             <td>Least Squares</td>  <th>  F-statistic:       </th> <td>   1568.</td>\n",
       "</tr>\n",
       "<tr>\n",
       "  <th>Date:</th>             <td>Wed, 26 Aug 2020</td> <th>  Prob (F-statistic):</th> <td>4.22e-62</td>\n",
       "</tr>\n",
       "<tr>\n",
       "  <th>Time:</th>                 <td>21:20:55</td>     <th>  Log-Likelihood:    </th> <td> -293.06</td>\n",
       "</tr>\n",
       "<tr>\n",
       "  <th>No. Observations:</th>      <td>   100</td>      <th>  AIC:               </th> <td>   590.1</td>\n",
       "</tr>\n",
       "<tr>\n",
       "  <th>Df Residuals:</th>          <td>    98</td>      <th>  BIC:               </th> <td>   595.3</td>\n",
       "</tr>\n",
       "<tr>\n",
       "  <th>Df Model:</th>              <td>     1</td>      <th>                     </th>     <td> </td>   \n",
       "</tr>\n",
       "<tr>\n",
       "  <th>Covariance Type:</th>      <td>nonrobust</td>    <th>                     </th>     <td> </td>   \n",
       "</tr>\n",
       "</table>\n",
       "<table class=\"simpletable\">\n",
       "<tr>\n",
       "      <td></td>        <th>coef</th>     <th>std err</th>      <th>t</th>      <th>P>|t|</th>  <th>[0.025</th>    <th>0.975]</th>  \n",
       "</tr>\n",
       "<tr>\n",
       "  <th>constant</th> <td>   -1.0343</td> <td>    0.909</td> <td>   -1.138</td> <td> 0.258</td> <td>   -2.839</td> <td>    0.770</td>\n",
       "</tr>\n",
       "<tr>\n",
       "  <th>x</th>        <td>    3.1101</td> <td>    0.079</td> <td>   39.599</td> <td> 0.000</td> <td>    2.954</td> <td>    3.266</td>\n",
       "</tr>\n",
       "</table>\n",
       "<table class=\"simpletable\">\n",
       "<tr>\n",
       "  <th>Omnibus:</th>       <td> 1.778</td> <th>  Durbin-Watson:     </th> <td>   2.306</td>\n",
       "</tr>\n",
       "<tr>\n",
       "  <th>Prob(Omnibus):</th> <td> 0.411</td> <th>  Jarque-Bera (JB):  </th> <td>   1.423</td>\n",
       "</tr>\n",
       "<tr>\n",
       "  <th>Skew:</th>          <td>-0.289</td> <th>  Prob(JB):          </th> <td>   0.491</td>\n",
       "</tr>\n",
       "<tr>\n",
       "  <th>Kurtosis:</th>      <td> 3.084</td> <th>  Cond. No.          </th> <td>    23.1</td>\n",
       "</tr>\n",
       "</table><br/><br/>Warnings:<br/>[1] Standard Errors assume that the covariance matrix of the errors is correctly specified."
      ],
      "text/plain": [
       "<class 'statsmodels.iolib.summary.Summary'>\n",
       "\"\"\"\n",
       "                            OLS Regression Results                            \n",
       "==============================================================================\n",
       "Dep. Variable:                      y   R-squared:                       0.941\n",
       "Model:                            OLS   Adj. R-squared:                  0.941\n",
       "Method:                 Least Squares   F-statistic:                     1568.\n",
       "Date:                Wed, 26 Aug 2020   Prob (F-statistic):           4.22e-62\n",
       "Time:                        21:20:55   Log-Likelihood:                -293.06\n",
       "No. Observations:                 100   AIC:                             590.1\n",
       "Df Residuals:                      98   BIC:                             595.3\n",
       "Df Model:                           1                                         \n",
       "Covariance Type:            nonrobust                                         \n",
       "==============================================================================\n",
       "                 coef    std err          t      P>|t|      [0.025      0.975]\n",
       "------------------------------------------------------------------------------\n",
       "constant      -1.0343      0.909     -1.138      0.258      -2.839       0.770\n",
       "x              3.1101      0.079     39.599      0.000       2.954       3.266\n",
       "==============================================================================\n",
       "Omnibus:                        1.778   Durbin-Watson:                   2.306\n",
       "Prob(Omnibus):                  0.411   Jarque-Bera (JB):                1.423\n",
       "Skew:                          -0.289   Prob(JB):                        0.491\n",
       "Kurtosis:                       3.084   Cond. No.                         23.1\n",
       "==============================================================================\n",
       "\n",
       "Warnings:\n",
       "[1] Standard Errors assume that the covariance matrix of the errors is correctly specified.\n",
       "\"\"\""
      ]
     },
     "execution_count": 29,
     "metadata": {},
     "output_type": "execute_result"
    }
   ],
   "source": [
    "results_ols = sm.OLS(data.y, data[['constant', 'x']]).fit()\n",
    "results_ols.summary()"
   ]
  },
  {
   "cell_type": "markdown",
   "metadata": {},
   "source": [
    "Veja que a estimação dos coeficientes foi a mesma! Apesar de ambas estarem erradas p para $\\beta_0$. Na verdade se olharmos o intervalo de confiança que OLS nos dá, vemos que de fato $0$ está nele. Mas ainda não esta na hora de vocês verem isso! \n",
    "\n",
    "## Conclusão \n",
    "\n",
    "Podemos usar uma função de perda (que no caso será menos a log-verossimilhança) e usar um algoritmo de otimização!"
   ]
  },
  {
   "cell_type": "markdown",
   "metadata": {},
   "source": [
    "\n",
    "## Propriedades \n",
    "\n",
    "### Invariância \n",
    "\n",
    "Se $\\hat{\\theta}$ é o estimador de máxima verossimilhança de $\\theta$ e $g$ é uma função injetiva, então $g(\\hat{\\theta})$ é o estimador de máxima verossimilhança de $g(\\theta)$. Na verdade, podemos retirar condição de injetividade.  \n",
    "\n",
    "#### MLE de uma Função\n",
    "\n",
    "### Consistência\n",
    "\n",
    "Suponha que \n",
    "\n",
    "### Método dos Momentos "
   ]
  }
 ],
 "metadata": {
  "kernelspec": {
   "display_name": "Python 3",
   "language": "python",
   "name": "python3"
  },
  "language_info": {
   "codemirror_mode": {
    "name": "ipython",
    "version": 3
   },
   "file_extension": ".py",
   "mimetype": "text/x-python",
   "name": "python",
   "nbconvert_exporter": "python",
   "pygments_lexer": "ipython3",
   "version": "3.7.3"
  }
 },
 "nbformat": 4,
 "nbformat_minor": 4
}
