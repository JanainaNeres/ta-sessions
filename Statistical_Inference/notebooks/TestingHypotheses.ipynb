{
 "cells": [
  {
   "cell_type": "markdown",
   "metadata": {},
   "source": [
    "# Teste de Hipóteses\n",
    "\n",
    "Temos um problema estatístico que envolve um parâmetro $\\theta$ tal que tenha valor desconhecido, mas reside em um espaço $\\Omega$. Suponha que particionemos $\\Omega = \\Omega_1 \\dot\\cup ~\\Omega_2$ e o estatístico está interessado se $\\theta$ está em $\\Omega_0$ ou está em $\\Omega_1$. \n",
    "\n",
    "## Hipótese Nula e Alternativa \n",
    "\n",
    "Dizemos que $H_0$ é a hipótese de que $\\theta \\in \\Omega_0$ e chamamos $H_0$ de **hipótese nula**, enquanto $H_1$ é a hipótese alternativa e representa $\\theta \\in H_1$. Queremos decidir qual das hipóteses é verdadeira (e só uma será, porque a partição é disjunta). Se decidimos que $\\theta \\in \\Omega_1$, rejeitamos $H_0$, e se $\\theta \\in \\Omega_0$, não rejeitamos $H_0$. \n",
    "\n",
    "## Hipótese Simples e Composta \n",
    "\n",
    "Suponha que $X_1, ..., X_n$ formam uma amostra aleatória com pdf $f(x|\\theta)$. Queremos testar a hipótese de que \n",
    "\n",
    "$$\n",
    "H_0: \\theta \\in \\Omega_0\n",
    "$$\n",
    "$$\n",
    "H_1: \\theta \\in \\Omega_1\n",
    "$$\n",
    "\n",
    "Se $\\Omega_i$ contem apenas um valor, então $H_i$ é dita hipótese simples. Se contém mais de um valor, dizemos que é composta. \n",
    "\n",
    "## Hipótese Unilateral e Bilateral "
   ]
  },
  {
   "cell_type": "code",
   "execution_count": null,
   "metadata": {},
   "outputs": [],
   "source": []
  }
 ],
 "metadata": {
  "kernelspec": {
   "display_name": "Python 3.7.3 64-bit ('base')",
   "language": "python",
   "name": "python37364bitbase6782713bed674ed7a26121bd52530782"
  },
  "language_info": {
   "codemirror_mode": {
    "name": "ipython",
    "version": 3
   },
   "file_extension": ".py",
   "mimetype": "text/x-python",
   "name": "python",
   "nbconvert_exporter": "python",
   "pygments_lexer": "ipython3",
   "version": "3.7.3"
  }
 },
 "nbformat": 4,
 "nbformat_minor": 4
}
