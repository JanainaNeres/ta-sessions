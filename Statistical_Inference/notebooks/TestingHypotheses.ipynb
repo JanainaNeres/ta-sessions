{
 "cells": [
  {
   "cell_type": "markdown",
   "metadata": {},
   "source": [
    "# Teste de Hipóteses\n",
    "\n",
    "Temos um problema estatístico que envolve um parâmetro $\\theta$ tal que tenha valor desconhecido, mas reside em um espaço $\\Omega$. Suponha que particionemos $\\Omega = \\Omega_1 \\dot\\cup ~\\Omega_2$ e o estatístico está interessado se $\\theta$ está em $\\Omega_0$ ou está em $\\Omega_1$. \n",
    "\n",
    "## Hipótese Nula e Alternativa \n",
    "\n",
    "Dizemos que $H_0$ é a hipótese de que $\\theta \\in \\Omega_0$ e chamamos $H_0$ de **hipótese nula**, enquanto $H_1$ é a hipótese alternativa e representa $\\theta \\in H_1$. Queremos decidir qual das hipóteses é verdadeira (e só uma será, porque a partição é disjunta). Se decidimos que $\\theta \\in \\Omega_1$, rejeitamos $H_0$, e se $\\theta \\in \\Omega_0$, não rejeitamos $H_0$. \n",
    "\n",
    "## Hipótese Simples e Composta \n",
    "\n",
    "Suponha que $X_1, ..., X_n$ formam uma amostra aleatória com pdf $f(x|\\theta)$. Queremos testar a hipótese de que \n",
    "\n",
    "$$\n",
    "H_0: \\theta \\in \\Omega_0\n",
    "$$\n",
    "$$\n",
    "H_1: \\theta \\in \\Omega_1\n",
    "$$\n",
    "\n",
    "Se $\\Omega_i$ contem apenas um valor, então $H_i$ é dita hipótese simples. Se contém mais de um valor, dizemos que é composta. \n",
    "\n",
    "## Hipótese Unilateral e Bilateral \n",
    "\n",
    "Seja $\\theta$ um parâmetro unidimensional. Dizemos que a hipótese $H_0$ é unilateral (ou *one tailed*) quando é da forma $\\theta \\leq \\theta_0$ ou $\\theta \\geq \\theta_0$. Ela será bilateral quando é do tipo $H_0 \\neq \\theta_0$. \n",
    "\n",
    "## Região Crítica \n",
    "\n",
    "Suponha que queremos testar a hipótese de que \n",
    "\n",
    "$$\n",
    "H_0: \\theta \\in \\Omega_0 \\text{ e } H_1: \\theta \\in \\Omega_1\n",
    "$$\n",
    "\n",
    "Quando queremos decidir qual hipótese escolher, observamos uma amostra dessa distribuição no espaço de amostras $S$. O dever do estatístico é especificar um procedimento que particione o conjunto em dois subconjuntos $S_0$ e $S_1$, onde $S_1$ contém os valores de $X$ que rejeitam $H_0$. \n",
    "\n",
    "**Região crítica** é o conjunto $S_1$, isto é, o conjunto de amostras que, a partir de um procedimento, rejeita $H_0$. \n",
    "\n",
    "![cr](../images/critical_region_draw.jpg)"
   ]
  },
  {
   "cell_type": "markdown",
   "metadata": {},
   "source": [
    "## Estatística de Teste\n",
    "\n",
    "Seja $X_1, ..., X_n \\overset{iid}{\\sim} F(\\theta)$. Sejam $T = r(X)$ uma estatística e $R$ um subconjunto da reta. Suponha que nosso procedimento de teste é o seguinte: \n",
    "\n",
    "> Rejeitamos $H_0$ se $T\\in R$.\n",
    "\n",
    "Chamamos $T$ de **estatística de teste** e $R$ de **região de rejeição**. Dessa forma a região crítica será: $S_1 = \\{x \\in S: r(x) \\in R\\}$. \n",
    "\n",
    "Na prática a maioria dos testes é do tipo\n",
    "\n",
    "> Rejeitamos $H_0$ se $T \\geq c, c \\in \\mathbb{R}$.\n",
    "\n",
    "### Observação sobre a divisão de conjuntos\n",
    "\n",
    "É importante lembrar que há duas diferentes divisões:\n",
    "$\\Omega = \\Omega_0 \\dot\\cup \\Omega_1$, que é a divisão do espaço dos parâmetros, e $S = S_1 \\dot\\cup S_1$ é a divisão do espaço das amostras. Mas qual a relação entre eles? Se $X \\in S_1$, então rejeitamos a hipótese $\\theta \\in \\Omega_0$. Além do mais, podemos encontrar $S_1$ e $S_2$, mas dificilmente saberemos em qual dos conjuntos $\\theta$ pertence. "
   ]
  },
  {
   "cell_type": "markdown",
   "metadata": {},
   "source": [
    "## Função de Poder e Tipos de Erro\n",
    "\n",
    "### Função Poder \n",
    "\n",
    "Seja $\\delta$ um procedimento de teste (como esse assinalado acima). Se $S_1$ é a região crítica, \n",
    "\n",
    "$$\n",
    "\\pi(\\theta|\\delta) = P(X \\in S_1|\\theta) = P(T \\in R|\\theta)\n",
    "$$\n",
    "\n",
    "Sendo que a última igualdade ocorre quando o proocedimento de teste é o citado acima. \n",
    "\n",
    "**O seu significado?**\n",
    "\n",
    "É a probabilidade, para cada valor de $\\theta$, de que $\\delta$ rejeita $H_0$. Queremos, intuitivamente que:\n",
    "\n",
    "$$\n",
    "\\theta \\in \\Omega_0 \\rightarrow \\text{ Queremos não rejeitar} H_0 \\rightarrow \\pi(\\theta|\\delta) = 0 \n",
    "$$\n",
    "$$\n",
    "\\theta \\in \\Omega_1 \\rightarrow \\text{ Queremos rejeitar} H_0 \\rightarrow \\pi(\\theta|\\delta) = 1 \n",
    "$$\n",
    "\n",
    "Entretanto isso não é em geral o que acontece. Por isso definimos:\n",
    "\n",
    "### Erros I e II\n",
    "\n",
    "||$\\theta \\in \\Omega_0$|$\\theta \\in \\Omega_1$|\n",
    "|-|-|-|\n",
    "|$\\delta$ rejeita $H_0$|Erro Tipo I|Certo|\n",
    "|$\\delta$ não rejeita $H_0$|Certo|Erro Tipo II|\n",
    "\n",
    "Portanto se $\\theta \\in \\Omega_0, \\pi(\\theta|\\delta)$ é a probabilidade de cometermos o erro do tipo I. Se $\\theta \\in \\Omega_1, 1 - \\pi(\\theta|\\delta)$ é a probabilidade de cometer o erro do tipo II. "
   ]
  },
  {
   "cell_type": "code",
   "execution_count": null,
   "metadata": {},
   "outputs": [],
   "source": []
  }
 ],
 "metadata": {
  "kernelspec": {
   "display_name": "Python 3.7.3 64-bit ('base')",
   "language": "python",
   "name": "python37364bitbase6782713bed674ed7a26121bd52530782"
  },
  "language_info": {
   "codemirror_mode": {
    "name": "ipython",
    "version": 3
   },
   "file_extension": ".py",
   "mimetype": "text/x-python",
   "name": "python",
   "nbconvert_exporter": "python",
   "pygments_lexer": "ipython3",
   "version": "3.7.3"
  }
 },
 "nbformat": 4,
 "nbformat_minor": 4
}
