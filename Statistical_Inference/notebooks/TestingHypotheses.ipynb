{
 "cells": [
  {
   "cell_type": "markdown",
   "metadata": {},
   "source": [
    "# Teste de Hipóteses: Definições\n",
    "\n",
    "1. Hipótese Nula e Alternativa \n",
    "2. Região Crítica \n",
    "3. Estatística de Teste\n",
    "4. Função de Poder\n",
    "5. Tipos de Erro \n",
    "6. Nível e tamanho do teste\n",
    "7. P-valor\n",
    "\n",
    "Temos um problema estatístico que envolve um parâmetro $\\theta$ tal que tenha valor desconhecido, mas reside em um espaço $\\Omega$. Suponha que particionemos $\\Omega = \\Omega_1 \\dot\\cup ~\\Omega_2$ e o estatístico está interessado se $\\theta$ está em $\\Omega_0$ ou está em $\\Omega_1$. \n",
    "\n",
    "## Hipótese Nula e Alternativa \n",
    "\n",
    "Dizemos que $H_0$ é a hipótese de que $\\theta \\in \\Omega_0$ e chamamos $H_0$ de **hipótese nula**, enquanto $H_1$ é a hipótese alternativa e representa $\\theta \\in H_1$. Queremos decidir qual das hipóteses é verdadeira (e só uma será, porque a partição é disjunta). Se decidimos que $\\theta \\in \\Omega_1$, rejeitamos $H_0$, e se $\\theta \\in \\Omega_0$, não rejeitamos $H_0$. \n",
    "\n",
    "## Hipótese Simples e Composta \n",
    "\n",
    "Suponha que $X_1, ..., X_n$ formam uma amostra aleatória com pdf $f(x|\\theta)$. Queremos testar a hipótese de que \n",
    "\n",
    "$$\n",
    "H_0: \\theta \\in \\Omega_0\n",
    "$$\n",
    "$$\n",
    "H_1: \\theta \\in \\Omega_1\n",
    "$$\n",
    "\n",
    "Se $\\Omega_i$ contem apenas um valor, então $H_i$ é dita hipótese simples. Se contém mais de um valor, dizemos que é composta. \n",
    "\n",
    "## Hipótese Unilateral e Bilateral \n",
    "\n",
    "Seja $\\theta$ um parâmetro unidimensional. Dizemos que a hipótese $H_0$ é unilateral (ou *one tailed*) quando é da forma $\\theta \\leq \\theta_0$ ou $\\theta \\geq \\theta_0$. Ela será bilateral quando é do tipo $H_0 \\neq \\theta_0$. \n",
    "\n",
    "## Região Crítica \n",
    "\n",
    "Suponha que queremos testar a hipótese de que \n",
    "\n",
    "$$\n",
    "H_0: \\theta \\in \\Omega_0 \\text{ e } H_1: \\theta \\in \\Omega_1\n",
    "$$\n",
    "\n",
    "Quando queremos decidir qual hipótese escolher, observamos uma amostra dessa distribuição no espaço de amostras $S$. O dever do estatístico é especificar um procedimento que particione o conjunto em dois subconjuntos $S_0$ e $S_1$, onde $S_1$ contém os valores de $X$ que rejeitam $H_0$. \n",
    "\n",
    "**Região crítica** é o conjunto $S_1$, isto é, o conjunto de amostras que, a partir de um procedimento, rejeita $H_0$. \n",
    "\n",
    "![cr](../images/critical_region_draw.jpg)"
   ]
  },
  {
   "cell_type": "markdown",
   "metadata": {},
   "source": [
    "## Estatística de Teste\n",
    "\n",
    "Seja $X_1, ..., X_n \\overset{iid}{\\sim} F(\\theta)$. Sejam $T = r(X)$ uma estatística e $R$ um subconjunto da reta. Suponha que nosso procedimento de teste é o seguinte: \n",
    "\n",
    "> Rejeitamos $H_0$ se $T\\in R$.\n",
    "\n",
    "Chamamos $T$ de **estatística de teste** e $R$ de **região de rejeição**. Dessa forma a região crítica será: $S_1 = \\{x \\in S: r(x) \\in R\\}$. \n",
    "\n",
    "Na prática a maioria dos testes é do tipo\n",
    "\n",
    "> Rejeitamos $H_0$ se $T \\geq c, c \\in \\mathbb{R}$.\n",
    "\n",
    "### Observação sobre a divisão de conjuntos\n",
    "\n",
    "É importante lembrar que há duas diferentes divisões:\n",
    "$\\Omega = \\Omega_0 \\dot\\cup \\Omega_1$, que é a divisão do espaço dos parâmetros, e $S = S_1 \\dot\\cup S_1$ é a divisão do espaço das amostras. Mas qual a relação entre eles? Se $X \\in S_1$, então rejeitamos a hipótese $\\theta \\in \\Omega_0$. Além do mais, podemos encontrar $S_1$ e $S_2$, mas dificilmente saberemos em qual dos conjuntos $\\theta$ pertence. "
   ]
  },
  {
   "cell_type": "markdown",
   "metadata": {},
   "source": [
    "## Função de Poder e Tipos de Erro\n",
    "\n",
    "### Função Poder \n",
    "\n",
    "Seja $\\delta$ um procedimento de teste (como esse assinalado acima). Se $S_1$ é a região crítica, \n",
    "\n",
    "$$\n",
    "\\pi(\\theta|\\delta) = P(X \\in S_1|\\theta) = P(T \\in R|\\theta)\n",
    "$$\n",
    "\n",
    "Sendo que a última igualdade ocorre quando o proocedimento de teste é o citado acima. \n",
    "\n",
    "**O seu significado?**\n",
    "\n",
    "É a probabilidade, para cada valor de $\\theta$, de que $\\delta$ rejeita $H_0$. Queremos, intuitivamente que:\n",
    "\n",
    "$$\n",
    "\\theta \\in \\Omega_0 \\rightarrow \\text{ Queremos não rejeitar} H_0 \\rightarrow \\pi(\\theta|\\delta) = 0 \n",
    "$$\n",
    "$$\n",
    "\\theta \\in \\Omega_1 \\rightarrow \\text{ Queremos rejeitar} H_0 \\rightarrow \\pi(\\theta|\\delta) = 1 \n",
    "$$\n",
    "\n",
    "Entretanto isso não é em geral o que acontece. Por isso definimos:\n",
    "\n",
    "### Erros I e II\n",
    "\n",
    "||$\\theta \\in \\Omega_0$|$\\theta \\in \\Omega_1$|\n",
    "|-|-|-|\n",
    "|$\\delta$ rejeita $H_0$|Erro Tipo I|Certo|\n",
    "|$\\delta$ não rejeita $H_0$|Certo|Erro Tipo II|\n",
    "\n",
    "Portanto se $\\theta \\in \\Omega_0, \\pi(\\theta|\\delta)$ é a probabilidade de cometermos o erro do tipo I. Se $\\theta \\in \\Omega_1, 1 - \\pi(\\theta|\\delta)$ é a probabilidade de cometer o erro do tipo II. "
   ]
  },
  {
   "cell_type": "markdown",
   "metadata": {},
   "source": [
    "## Nível/Tamanho \n",
    "\n",
    "Um teste que satisfaz $\\pi(\\theta|\\delta) \\leq \\alpha_0, \\forall \\theta \\in \\Omega_0$ é chamado de teste **nível** $\\alpha_0$, ou que o teste tem nível de significância $\\alpha_0$.  O **tamanho** de um teste é\n",
    "$\\alpha(\\delta) = \\sup_{\\theta \\in \\Omega_0} \\pi(\\theta, \\delta)$. Um teste terá nível $\\alpha_0$ se, e só se, seu tamanho for no máximo $\\alpha_0$. \n",
    "\n",
    "## P-valor\n",
    "\n",
    "É o menor nível $\\alpha_0$ tal que rejeitaríamos a hipótese nula a nível $\\alpha_0$ com os dados observados. \n",
    "\n",
    "> Se rejeitamos a hipótese nula se, e somente se, o p-valor é no máximo $\\alpha_0$, estamos usando um teste com nível de significância $\\alpha_0$."
   ]
  },
  {
   "cell_type": "markdown",
   "metadata": {},
   "source": [
    "# Equivalência entre Testes e Conjuntos de Confiança \n",
    "\n",
    "### Teorema\n",
    "\n",
    "Seja $\\vec{X} = (X_1,...,X_n) \\overset{iid}{\\sim} F(\\theta)$. Seja $g(\\theta)$, e suponha que para todo valor $c$ na imagem de $g$ (ou seja, $c = g(x)$, para algum $x$), exista um teste $\\delta_c$ de nível $\\alpha_0$ para a hipótese \n",
    "\n",
    "$$\n",
    "H_{0,c}:g(\\theta) = c, ~ H_{1,c}: g(\\theta) \\neq c\n",
    "$$\n",
    "\n",
    "Defina \n",
    "\n",
    "$\\omega(x) := \\{c: \\delta_c \\text{ não rejeita } H_{0,c} \\text{ se } \\vec{X} = \\vec{x} \\text{ é observado } \\}$. \n",
    "\n",
    "Então:\n",
    "$$\n",
    "P[g(\\theta_0) \\in \\omega(\\vec{X})|\\theta = \\theta_0] \\geq 1 - \\alpha_0,\n",
    "$$\n",
    "\n",
    "para todo valor $\\theta \\in \\Omega$. "
   ]
  },
  {
   "cell_type": "markdown",
   "metadata": {},
   "source": [
    "# Compreensão e Implementação \n",
    "\n",
    "Teste de hipótese é um método para que façamos decisões estatísticas a partir dos dados. É uma forma de compreender (fazer inferância sobre) um parâmetro. \n",
    "\n",
    "> **Exemplo:** Belgas tem, em média, maior altura do que peruanos. \n",
    "\n",
    "> **Exemplo 2:** Temperatura não é um fator relevante para o processo de cultivo de uva.\n",
    "\n",
    "Estamos avaliando afirmações mutualmente exclusivas, *ou os belgas tem maior altura do que os peruanos, ou não tem!* Queremos saber qual dessas afirmações é suportada pelos dados que obtivermos. \n",
    "\n",
    "A hipótese nula é a afirmação a ser testada e muitas vezes estabelece uma conjectura de que as características observadas em uma população são por um acaso, isto é, o fator a ser estudado \"não existe\". Por exemplo: o número de voos entre Rio de Janeiro e São Paulo não tem correlação com o nível do mar no Japão. \n",
    "\n",
    "Em geral queremos anulá-la, rejeitá-la (daí o nome). "
   ]
  },
  {
   "cell_type": "markdown",
   "metadata": {},
   "source": [
    "### Exemplo \n",
    "\n",
    "Vamos considerar um exemplo simples utilizando a distribuição normal. É a distribuição com cálculos simples e uma boa visualização. A ideia nesse exemplo vai ser a seguinte: \n",
    "\n",
    "> O preço do quilo ouro varia diariamente e essa variação em unidade de dólares será nosso objeto de interesse. Por exemplo: Se no dia 1 o preço mil e no dia 2 o preço era 1 050 e no dia 3 o preço é 1 025 temos que $X_1 = 50$ e $X_2 = -25$. Vamos supor que as variações entre dois diferentes pares de dias são independentes (essa já uma simplificação da realidade!)\n",
    "\n",
    "Primeiro vamos importar os dados. "
   ]
  },
  {
   "cell_type": "code",
   "execution_count": 1,
   "metadata": {},
   "outputs": [],
   "source": [
    "import pandas as pd\n",
    "import numpy as np\n",
    "\n",
    "import matplotlib.pyplot as plt\n",
    "import matplotlib.patches as mpatches\n",
    "import seaborn as sns\n",
    "sns.set()"
   ]
  },
  {
   "cell_type": "code",
   "execution_count": 2,
   "metadata": {},
   "outputs": [
    {
     "data": {
      "text/html": [
       "<div>\n",
       "<style scoped>\n",
       "    .dataframe tbody tr th:only-of-type {\n",
       "        vertical-align: middle;\n",
       "    }\n",
       "\n",
       "    .dataframe tbody tr th {\n",
       "        vertical-align: top;\n",
       "    }\n",
       "\n",
       "    .dataframe thead th {\n",
       "        text-align: right;\n",
       "    }\n",
       "</style>\n",
       "<table border=\"1\" class=\"dataframe\">\n",
       "  <thead>\n",
       "    <tr style=\"text-align: right;\">\n",
       "      <th></th>\n",
       "      <th>Day</th>\n",
       "      <th>Price</th>\n",
       "    </tr>\n",
       "  </thead>\n",
       "  <tbody>\n",
       "    <tr>\n",
       "      <th>0</th>\n",
       "      <td>1/01/68</td>\n",
       "      <td>NaN</td>\n",
       "    </tr>\n",
       "    <tr>\n",
       "      <th>1</th>\n",
       "      <td>2/01/68</td>\n",
       "      <td>NaN</td>\n",
       "    </tr>\n",
       "    <tr>\n",
       "      <th>2</th>\n",
       "      <td>3/01/68</td>\n",
       "      <td>NaN</td>\n",
       "    </tr>\n",
       "    <tr>\n",
       "      <th>3</th>\n",
       "      <td>4/01/68</td>\n",
       "      <td>NaN</td>\n",
       "    </tr>\n",
       "    <tr>\n",
       "      <th>4</th>\n",
       "      <td>5/01/68</td>\n",
       "      <td>NaN</td>\n",
       "    </tr>\n",
       "  </tbody>\n",
       "</table>\n",
       "</div>"
      ],
      "text/plain": [
       "       Day Price\n",
       "0  1/01/68   NaN\n",
       "1  2/01/68   NaN\n",
       "2  3/01/68   NaN\n",
       "3  4/01/68   NaN\n",
       "4  5/01/68   NaN"
      ]
     },
     "execution_count": 2,
     "metadata": {},
     "output_type": "execute_result"
    }
   ],
   "source": [
    "gold_df = pd.read_csv('../data/gold.csv', low_memory = False, header=[2,3,4])\n",
    "# There has a lot of data. I will get average diary from USD price \n",
    "gold_df = gold_df[[('Priced In', 'Price Type', 'Summary'), ('USD', 'Ask', 'Average')]]\n",
    "gold_df.columns = ['Day', 'Price']\n",
    "gold_df.head()"
   ]
  },
  {
   "cell_type": "markdown",
   "metadata": {},
   "source": [
    "Observe que existem diversos Nan values. Na prática eu teria que fazer alguma espécie de limpeza rigorosa. Nesse caso, para tornar tudo bem simples, vou apenas limpar. Também precisamos garantir que as informações estejam em formato `float`. "
   ]
  },
  {
   "cell_type": "code",
   "execution_count": 3,
   "metadata": {},
   "outputs": [],
   "source": [
    "# Inplace assegura que eu não crie outro DataFrame\n",
    "gold_df.dropna(inplace = True)\n",
    "gold_df.Price = gold_df.Price.apply(lambda x: float(x.strip().replace(',', '')))"
   ]
  },
  {
   "cell_type": "code",
   "execution_count": 4,
   "metadata": {},
   "outputs": [
    {
     "data": {
      "image/png": "[encoded data removed]",
      "text/plain": [
       "<Figure size 432x288 with 1 Axes>"
      ]
     },
     "metadata": {
      "needs_background": "light"
     },
     "output_type": "display_data"
    }
   ],
   "source": [
    "plt.plot(gold_df['Price'])\n",
    "plt.title('Preço do Ouro em Dólares')\n",
    "plt.show()"
   ]
  },
  {
   "cell_type": "code",
   "execution_count": 5,
   "metadata": {},
   "outputs": [
    {
     "data": {
      "image/png": "[encoded data removed]",
      "text/plain": [
       "<Figure size 432x288 with 1 Axes>"
      ]
     },
     "metadata": {
      "needs_background": "light"
     },
     "output_type": "display_data"
    }
   ],
   "source": [
    "variation = gold_df.Price.diff()\n",
    "sns.violinplot(x = variation)\n",
    "plt.xlim((-50,50))\n",
    "plt.title('Distribuição da variação diária')\n",
    "plt.show()"
   ]
  },
  {
   "cell_type": "markdown",
   "metadata": {},
   "source": [
    "De fato não parece uma normal (na verdade uma distribuição de cauda mais pesada talvez fosse interessante. Mas tudo bem!), mas vamos modelar dessa forma. A partir de agora vamos nos preocupar mais com as definições para dar a devida interpretação. O exemplo é só motivador. "
   ]
  },
  {
   "cell_type": "markdown",
   "metadata": {},
   "source": [
    "**Qual hipótese queremos testar? O que queremos saber sobre a variação?**\n",
    "\n",
    "A pergunta que nasce é o seguinte: será que a média dessa distribuição é 0? Isto é, será que se calcularmos as médias das variações, teremos que com infinitas observações, o resultado seria 0? Isso é importante porque vai nos ajudar a identificar se existe uma tendência de crescimento nas variações diárias. \n",
    "\n",
    "> **Hipótese Nula:** $\\mu = 0$, onde $X_1, ..., X_n \\sim N(\\mu, \\sigma^2)$.\n",
    "\n",
    "> **Hipótese Alternativa:** $\\mu \\neq 0$. \n",
    "\n",
    "Vamos supor que $\\sigma$ é conhecido e que $\\sigma^2 = 73$, mas a média é desconhecida. \n",
    "\n",
    "1. **Quem é $\\Omega_0$ e $\\Omega_1$?**\n",
    "\n",
    "$\\Omega_0$ é a região dos parâmetros onde a hipótese nula é verdadeira, isto é $\\Omega_0 = \\{0\\}$, é um conjunto unitário. Por outro lado $\\Omega_1 = \\mathbb{R} - \\{0\\}$, por que a média pode assumir, em teoria, qualquer valor real. \n",
    "\n",
    "2. **Qual é a região crítica?**\n",
    "\n",
    "Bom, ainda não podemos determinar essa resposta, afinal para determinar a região crítica (subconjunto do espaço dos estados em que se rejeita a hipótese nula), precisamos de um procedimento de teste. Mas vamos imaginar que o espaço de estados é $S = \\mathbb{R}^2$, pois vamos considerar apenas duas amostras, inicialmente (queremos visualizar S). \n",
    "\n",
    "3. **Qual será nosso procedimento de teste?**\n",
    "\n",
    "Procedimento de teste é uma maneira de tomarmos uma decisão. Ele tem a forma: rejeitamos $H_0$ se isso acontecer. \n",
    "\n",
    "Um exemplo bobo seria: Rejeitamos a hipótese nula se $0 \\not \\in (\\min(X_1, X_2), \\max(X_1, X_2))$\n",
    "\n",
    "O problema é que em geral esse tipo de procedimento não é interessante. Para isso estabelecemos uma **estatística de teste** $T$ e uma **Região de Rejeição** $T$, tal que nosso procedimento seja: \n",
    "\n",
    "> Rejeitamos $H_0$ se $T \\geq R$. \n",
    "\n",
    "Nesse caso vamos considerar $T = \\left|\\frac{X_1 + X_2}{2}\\right|$ e vamos rejeitar a hipótese se $T$ estiver muito longe de $0$, isto é, se $T \\geq c$. Portanto definimor nossa **Região de Rejeição** como $[c, + \\infty]$, o que reduz nosso problema a determinar $c$. \n",
    "\n",
    "Qual $c$ seria razoável? 4, 5, 1? Essa pergunta não vai ser respondida. Antes vamos visualizar como fica a região crítica (2). Rejeitamos a hipótese se \n",
    "\n",
    "$$\n",
    "\\left|\\frac{X_1 + X_2}{2}\\right| \\geq c \\rightarrow |X_1 + X_2| \\geq 2c \\rightarrow X_1 + X_2 \\geq 2c \\text{ ou } X_1 + X_2 \\leq -2c\n",
    "$$\n",
    "\n",
    "Assim: $S_1 = \\{(x_1, x_2): x_1 + x_2 \\geq 2c \\text{ ou } x_1 + x_2 \\leq -2c\\}$"
   ]
  },
  {
   "cell_type": "code",
   "execution_count": 6,
   "metadata": {},
   "outputs": [
    {
     "data": {
      "image/png": "[encoded data removed]",
      "text/plain": [
       "<Figure size 1512x504 with 3 Axes>"
      ]
     },
     "metadata": {
      "needs_background": "light"
     },
     "output_type": "display_data"
    }
   ],
   "source": [
    "C = [1, 10, 30]\n",
    "decision = lambda x1, x2, c: 1*np.logical_or(x1 + x2 >= 2*c, x1 + x2 <= -2*c)\n",
    "x1,x2 = np.meshgrid(np.arange(-50,50,0.5),np.arange(-50,50,0.5))\n",
    "\n",
    "fig, ax = plt.subplots(1,3, figsize = (21, 7))\n",
    "for i, c in enumerate(C):\n",
    "    ax[i].contourf(x1,x2,decision(x1,x2, c), levels = [0, 0.5, 1], colors = ['#fdcdac', '#cbd5e8'])\n",
    "    ax[i].set_xlabel(r'$x_1$', fontsize = 20)\n",
    "    ax[i].set_ylabel(r'$x_2$', fontsize = 20)\n",
    "    ax[i].set_title('Região Crítica quando c = {}'.format(c), fontsize = 20)\n",
    "    ax[i].legend(handles = [mpatches.Patch(color='#fdcdac', label=r'$S_0$'),\n",
    "                            mpatches.Patch(color='#cbd5e8', label=r'$S_1$')])\n",
    "    \n",
    "    sample = gold_df.Price.diff().sample(n = 2)\n",
    "    X1, X2 = sample.iloc[0], sample.iloc[1]\n",
    "    ax[i].scatter(X1, X2, color = 'black')\n",
    "    ax[i].text(X1 + 1, X2 + 1, s = r'$(X_1, X_2)$', fontsize = 15)"
   ]
  },
  {
   "cell_type": "markdown",
   "metadata": {},
   "source": [
    "4. **Como a função poder entra nessa história?**\n",
    "\n",
    "A função poder é uma função do parâmetro, no caso $\\mu$, e retorna a probabilidade de rejeitarmos a hipótese, considerando esse parâmetro. Isto é, \n",
    "\n",
    "$$\n",
    "\\pi(\\mu) = P_{\\mu}((X_1, X_2) \\in S_1)\n",
    "$$\n",
    "\n",
    "O que poderíamos fazer, então, é obter a distribuição conjunta de $(X_1, X_2)$ e integrar na região $S_1$. \n",
    "\n",
    "Vamos considerar dois casos separados:\n",
    "\n",
    "- $\\mu \\in \\Omega_0$: Não sabemos disso, e em geral não é possível sabermos. Nesse caso $\\pi(\\mu)$ indica a probabilidade de rejeitarmos a hipótese nula, mesmo ela sendo verdadeira (chamamos isso de Erro do Tipo I).\n",
    "\n",
    "- $\\mu \\in \\Omega_1$: Nesse caso $\\pi(\\mu)$ indica a probabilidade de rejeitarmos a hipótese nula, quando de ela é falsa. Nesse caso $1 - \\pi(\\mu)$ é a probabilidade de não rejeitarmos a hipótese nula, quando de fato deveríamos (chamamos de Erro do Tipo II). ]\n",
    "\n",
    "A função poder se trata mais do teste que estamos usando do que os dados em si. Por isso, podemos comparar testes usando essa função poder. Então vamos ver nesse caso quem é a função poder! Vou calcular usando um método numérico para que peguem a ideia. Agora é possível fazer as contas, mas nem sempre é trivial. Assim teremos apenas aproximação da função poder. "
   ]
  },
  {
   "cell_type": "code",
   "execution_count": 7,
   "metadata": {},
   "outputs": [
    {
     "data": {
      "image/png": "[encoded data removed]",
      "text/plain": [
       "<Figure size 432x288 with 1 Axes>"
      ]
     },
     "metadata": {
      "needs_background": "light"
     },
     "output_type": "display_data"
    }
   ],
   "source": [
    "C = [1, 10, 30]\n",
    "mu_v = np.arange(-100, 100, 1)\n",
    "n = 10000\n",
    "power = np.zeros((len(C),len(mu_v)))\n",
    "\n",
    "for i, c in enumerate(C):\n",
    "    for j, mu in enumerate(mu_v): \n",
    "        X1 = np.random.normal(loc = mu, scale = 73, size = n)\n",
    "        X2 = np.random.normal(loc = mu, scale = 73, size = n)\n",
    "        p = (sum(X1 + X2 >= 2*c) + sum(X1 + X2 <= -2*c))/n\n",
    "        power[i,j] = p\n",
    "\n",
    "    plt.plot(mu_v, power[i,:], label = 'c = {}'.format(c))\n",
    "\n",
    "plt.title('Função poder')\n",
    "plt.xlabel(r'$\\mu$')\n",
    "plt.ylabel('Prob')\n",
    "plt.legend()\n",
    "plt.show()"
   ]
  },
  {
   "cell_type": "markdown",
   "metadata": {},
   "source": [
    "5. Vamos definir $c$ agora? \n",
    "\n",
    "Sim, vamos. Para isso vamos usar o ponto (4) e a definição de tamanho do teste. Uma forma possível de se fazer isso é a seguinte: limitamos o Erro I por $\\alpha_0$ e miniminizamos o Erro II, isso é minimizamos $1 - \\pi(\\mu)$ quando $\\mu \\neq 0$, ou melhor, maximizamos $\\pi(\\mu)$. \n",
    "\n",
    "Para isso dizemos que o tamanho do teste é o máximo da função poder, quando $\\theta \\in \\Omega_0$. Nesse caso $\\alpha(\\delta) = \\pi(0)$. Queremos, então que:\n",
    "\n",
    "$$\n",
    "\\pi(0) = P_{\\mu = 0}(T \\geq c) \\leq \\alpha_0\n",
    "$$\n",
    "\n",
    "Precisamos então encontrar $c$ tal que $\\pi(\\mu) = P_{\\mu \\neq 0}(T \\ge c)$ seja maximado. \n",
    "\n",
    "Observamos que $T \\sim N(0, \\sigma^2/2) \\rightarrow \\sqrt{2}T/\\sigma = Z \\sim N(0,1)$, quando $\\mu = 0$. Logo $P(T \\ge c) = P(Z \\ge \\sqrt{2}c/\\sigma) = 1 - \\Phi(\\sqrt{2}c/\\sigma) \\leq \\alpha_0$ \n",
    "\n",
    "Para maximizar $\\pi(\\mu)$ em $\\Omega_1$, observamos que $\\pi(\\mu)$ decresce com $c$ (os gráficos acima representam bem isso). Como queremos maximizar, gostaríamos de tomar $c$ o mínimo possível, restrito a $1 - \\Phi(\\sqrt{2}c/\\sigma) \\leq \\alpha_0 \\rightarrow 1 - \\alpha_0 \\leq \\Phi(\\sqrt{2}c/\\sigma)$ como vimos acima. Estamos lidando com uma função inversível, então \n",
    "$$\n",
    "\\frac{\\sigma}{\\sqrt{2}}\\Phi^{-1}(1 - \\alpha_0) \\leq c\n",
    "$$\n",
    "\n",
    "O melhor valor de $c$ que respeita essa condição e maximiza a relação é, portanto \n",
    "\n",
    "$$\n",
    "c = \\frac{\\sigma}{\\sqrt{2}}\\Phi^{-1}(1 - \\alpha_0) \n",
    "$$"
   ]
  },
  {
   "cell_type": "code",
   "execution_count": 8,
   "metadata": {},
   "outputs": [],
   "source": [
    "from scipy.stats import norm"
   ]
  },
  {
   "cell_type": "markdown",
   "metadata": {},
   "source": [
    "Lembre que $\\alpha_0$ indica o máximo de Erro I que aceitamos. "
   ]
  },
  {
   "cell_type": "code",
   "execution_count": 9,
   "metadata": {},
   "outputs": [
    {
     "name": "stdout",
     "output_type": "stream",
     "text": [
      "9.937420997144207\n"
     ]
    }
   ],
   "source": [
    "alpha0 = 0.05\n",
    "c = np.sqrt(73)/np.sqrt(2)*norm.ppf(1 - alpha0)\n",
    "print(c)"
   ]
  },
  {
   "cell_type": "markdown",
   "metadata": {},
   "source": [
    "É bem próximo do gráfico acima mostrado, quando testamos para $c = 10$. "
   ]
  },
  {
   "cell_type": "code",
   "execution_count": 10,
   "metadata": {},
   "outputs": [
    {
     "data": {
      "image/png": "[encoded data removed]",
      "text/plain": [
       "<Figure size 432x288 with 1 Axes>"
      ]
     },
     "metadata": {
      "needs_background": "light"
     },
     "output_type": "display_data"
    }
   ],
   "source": [
    "t = np.arange(-20,20,0.1)\n",
    "X = norm(loc = 0, scale = np.sqrt(73)/np.sqrt(2))\n",
    "plt.plot(t, X.pdf(t))\n",
    "plt.fill_between(t[(t < -c)], X.pdf(t[(t < -c)]), color = 'blue')\n",
    "plt.fill_between(t[(t > c)], X.pdf(t[(t > c)]), color = 'blue')\n",
    "plt.title('Distribuição Normal e Região de Rejeição')\n",
    "plt.show()"
   ]
  },
  {
   "cell_type": "markdown",
   "metadata": {},
   "source": [
    "Por exemplo vamos tirar duas amostras de nossa distribuição"
   ]
  },
  {
   "cell_type": "code",
   "execution_count": 11,
   "metadata": {},
   "outputs": [
    {
     "data": {
      "text/plain": [
       "False"
      ]
     },
     "execution_count": 11,
     "metadata": {},
     "output_type": "execute_result"
    }
   ],
   "source": [
    "X1, X2 = gold_df.Price.diff().sample(2)\n",
    "T = np.abs(X1 + X2)/2\n",
    "T >= c"
   ]
  },
  {
   "cell_type": "markdown",
   "metadata": {},
   "source": [
    "6. Mas como escolher $\\alpha_0$ agora? \n",
    "\n",
    "Agora entra o conceito mais complexo, o do p-valor. Ele está associado à ideia de escolher o menor $\\alpha_0$ possível, para que rejeitemos a hipótese nula. Isso significa o seguinte:\n",
    "\n",
    "> Queremos minimizar o Erro do Tipo I e rejeitar a Hipótese Nula com os dados que obtivemos. Se o p-valor for muito alto, significa que o Erro do Tipo I é grande se rejeitarmos a hipótese nula. Você apostaria que podemos rejeitar a hipótese nula nesse caso? Agora, se o p-valor for pequeno e rejeitarmos nossa hipótese nula, o erro do tipo I vai ser pequeno, então apostar que a hipótese nula deva ser rejeitada é mais confortável.\n",
    "\n",
    "Assim não escolhemos $\\alpha_0$, só observamos seu menor valor e vemos se faz sentido. Em geral se p-valor < 0.05, as pessoas rejeitam a hipótese nula. \n",
    "\n",
    "No nosso caso calcular o p-valor é tranquilo. Para calcular o p-valor, **precisamos dos dados**. Queremos rejeitar a hipótese nula, isto é, queremos que $t \\geq c$ que $\\alpha_0$ seja o menor possível, onde $t$ é o valor observado de $T$. Vamos diminuindo $\\alpha_0$ e para cada $\\alpha_0$ podemos calcular $c$ e verificamos se $t \\ge c$. Podemos fazer isso até que $c = t$, assim:\n",
    "$$\n",
    "t = \\frac{\\sigma}{\\sqrt{2}}\\Phi^{-1}(1 - \\alpha_0) \\rightarrow \\alpha_0 = 1 - \\Phi\\left(\\frac{\\sqrt{2}}{\\sigma}t\\right)\n",
    "$$\n",
    "\n"
   ]
  },
  {
   "cell_type": "code",
   "execution_count": 12,
   "metadata": {},
   "outputs": [
    {
     "name": "stdout",
     "output_type": "stream",
     "text": [
      "0.24842181754953252\n"
     ]
    }
   ],
   "source": [
    "p_value = 1 - norm.cdf(np.sqrt(2)/np.sqrt(73)*T)\n",
    "print(p_value)"
   ]
  },
  {
   "cell_type": "markdown",
   "metadata": {},
   "source": [
    "Como o p-valor é alto, não faz sentido rejeitar a hipótese nula. \n",
    "\n",
    "Encerramos a atividade aqui!"
   ]
  },
  {
   "cell_type": "markdown",
   "metadata": {},
   "source": [
    "# Testes de Razão Verossimilhança \n",
    "\n",
    "São testes baseados na [verossimilhaça](https://lucasmoschen.github.io/TA_sessions/infestatistica/MaximumLikelihoodEstimator/MaximumLikelihoodEstimator/#funcao-verossimilhanca) do modelo $f_n(x|\\theta)$. Suponha que queremos testar a hipótese: \n",
    "\n",
    "$$\n",
    "H_0: \\theta \\in \\Omega_0\n",
    "$$\n",
    "$$\n",
    "H_1: \\theta \\in \\Omega_1\n",
    "$$\n",
    "\n",
    "Vamos lembrar que a função de verossimilhança tende a ser mais alta próximo do valor verdadeiro do parâmetro. Com isso em mente, gostaríamos de saber se a verossimilhança é maior em $\\Omega_0$ ou em $\\Omega_1$. Para isso, definimos a **estatística de razão de verossimilhança**:\n",
    "$$\n",
    "\\Lambda(x) = \\frac{\\sup_{\\theta \\in \\Omega_0}f_n(x|\\theta)}{\\sup_{\\theta \\in \\Omega}f_n(x|\\theta)}\n",
    "$$\n",
    "Observe que o denominador é o valor da função de verossimilhança no Estimador de Máxima Verossimilhança. Se o parâmetro verdadeiro estiver em $\\Omega_0$, o númerador deve ser mais alto em $\\Omega_0$, então a estatística se aproxima de 1. Baseado nisso, o **teste de razão de verossimilhança** é:\n",
    "\n",
    "> Rejeitamos $H_0$ se $\\Lambda(x) \\le k$, para algum $k$. \n",
    "\n",
    "### Teorema:\n",
    "\n",
    "Seja $\\Omega \\in \\mathbb{R}^p$ aberto e suponha que $H_0$ seja $\\theta_{i_1} = \\theta_{01}, ..., \\theta_{i_k} = \\theta_{0k}$, onde $\\theta = (\\theta_1, ..., \\theta_p)$. Assuma que $H_0$ seja verdadeira e a função de verossimilhança satisfaça as condições para que o MLE seja assintoticamente normal e assintoticamente eficiente. Então:\n",
    "$$\n",
    "-2\\log\\Lambda(x) \\overset{d}{\\to} \\chi^2(k)\n",
    "$$\n",
    "(converge em distribuição quando $n \\to \\infty$).\n",
    "\n",
    "A demonstração pode ser encontrada no [StatLect](https://www.statlect.com/fundamentals-of-statistics/likelihood-ratio-test)"
   ]
  }
 ],
 "metadata": {
  "kernelspec": {
   "display_name": "Python 3.7.3 64-bit ('base')",
   "language": "python",
   "name": "python37364bitbase6782713bed674ed7a26121bd52530782"
  },
  "language_info": {
   "codemirror_mode": {
    "name": "ipython",
    "version": 3
   },
   "file_extension": ".py",
   "mimetype": "text/x-python",
   "name": "python",
   "nbconvert_exporter": "python",
   "pygments_lexer": "ipython3",
   "version": "3.7.3"
  }
 },
 "nbformat": 4,
 "nbformat_minor": 4
}
