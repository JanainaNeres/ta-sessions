{
 "cells": [
  {
   "cell_type": "markdown",
   "metadata": {},
   "source": [
    "# Análise Bayesiana de amostras da distribuição Normal \n",
    "\n",
    "## Referências\n",
    "\n",
    "[[1]](http://www.stat.columbia.edu/~gelman/book/BDA3.pdf) Andrew Gelman. Bayesian Data Analysis. Parte I, Seção 3.3: essa referência usa a variância ao invés da precisão. \n",
    "\n",
    "[[2]](https://www.cs.ubc.ca/~murphyk/Papers/bayesGauss.pdf) Kevin P. Murphy. Conjugate Bayesian analysis of the Gaussian distribution: Não muito simples, mas possui todas as contas. "
   ]
  },
  {
   "cell_type": "markdown",
   "metadata": {},
   "source": [
    "## Precisão da distribuição normal\n",
    "\n",
    "Definimos $\\tau := 1/\\sigma^2$ como a precisão da distribuição normal.  \n",
    "\n",
    "A função da densidade de probabilidade da distribuição normal $f(x|\\mu,\\tau)$ é, $-\\infty < x < \\infty$:  \n",
    "\n",
    "$$\n",
    "f(x|\\mu,\\tau) = \\left(\\frac{\\tau}{2\\pi}\\right)^{1/2}\\exp\\left[-\\frac{1}{2}\\tau(x-\\mu)^2\\right]\n",
    "$$\n",
    "\n",
    "### Teorema \n",
    "\n",
    "Suponha que $X_1,...,X_n \\overset{iid}{\\sim}\n",
    "N_2(\\mu, \\tau)$, desconhecidos. Suponha que \n",
    "\n",
    "$$\n",
    "\\mu|\\tau \\sim N_2(\\mu_0, \\lambda_0 \\tau)\n",
    "$$\n",
    "$$\n",
    "\\tau \\sim \\text{Gamma}(\\alpha_0, \\beta_0)\n",
    "$$\n",
    "\n",
    "Então a distribuição conjunta de $\\mu$ e $\\tau$ a posteriori é dada por: \n",
    "\n",
    "$$\n",
    "\\mu|\\tau, X_1,...,X_n \\sim N_2(\\mu_1, \\lambda_1\\tau)\n",
    "$$\n",
    "$$\n",
    "\\tau|X_1,...,X_n \\sim \\text{Gamma}(\\alpha_1, \\beta_1),\n",
    "$$\n",
    "\n",
    "onde \n",
    "\n",
    "|Parâmetro|Valor a posteriori do parâmetro|\n",
    "|----||\n",
    "|$\\mu_1$|$\\frac{\\lambda_0 \\mu_0 + n\\bar{x}_n}{\\lambda_0 + n}$|\n",
    "|$\\lambda_1$|$\\lambda_0 + n$|\n",
    "|$\\alpha_1$|$\\alpha_0 + n/2$|\n",
    "|$\\beta_1$|$\\beta_0 + s_n^2/2 + \\frac{n\\lambda_0(\\bar{x}_n - \\mu_0)^2}{2(\\lambda_0 + n)}$|\n",
    "\n",
    "## Família Normal-Gamma\n",
    "\n",
    "Sejam $\\mu$ e $\\tau$ variáveis aleatórias. Suponha que a distribuição condicional de $\\mu$ dado $\\tau$ é normal com média $\\mu_0$ e precisão $\\lambda_0 \\tau$ e que a distribuição marginal de $\\tau$ seja gamma com parâmetros $\\alpha_0, \\beta_0$. Então, falamos que a distribuição conjunta de $\\mu$ e $\\tau$ é a distribuição **normal-gamma** com hiperparâmeteros $\\mu_0, \\lambda_0, \\alpha_0$ e $\\beta_0$."
   ]
  },
  {
   "cell_type": "markdown",
   "metadata": {},
   "source": [
    "## A distribuição marginal da média $\\mu$ \n",
    "\n",
    "Suponha que a distribuição a priori $\\mu$ e $\\tau$ seja *normal-gamma* com hiperparâmetros $\\mu_0, \\lambda_0, \\alpha_0$ e $\\beta_0$. Então\n",
    "\n",
    "$$\n",
    "\\left(\\frac{\\lambda_0\\alpha_0}{\\beta_0}\\right)^{1/2}(\\mu - \\mu_0)\n",
    "$$\n",
    "\n",
    "tem a distribuição $t$ com $2\\alpha_0$ graus de liberdade. \n",
    "\n",
    "Nesse caso, se $\\alpha_0 > 1/2$, $E(\\mu) = \\mu_0$. Se $\\alpha_0 > 1$, $Var(\\mu) \\frac{\\beta_0}{\\lambda_0(\\alpha_0 - 1)}$\n",
    "\n",
    "**Obs.:** As condições sobre $\\alpha_0$, vem da existência do $k$ momento somente se o grau de liberdade da distribuição $t$ é maior do que $k$, isto é, $2\\alpha_0 > k$. "
   ]
  },
  {
   "cell_type": "markdown",
   "metadata": {},
   "source": [
    "## Comparação com Intervalos de Confiança\n",
    "\n",
    "Podemos construir intervalos de confiança para $\\mu$ no mundo Bayesiano, pois ela é uma variável aleatória. Nesse caso, podemos fazer da seguinte maneira: \n",
    "\n",
    "$$\n",
    "\\begin{split}\n",
    "&P(-c < \\left(\\frac{\\lambda_0\\alpha_0}{\\beta_0}\\right)^{1/2}(\\mu - \\mu_0) < c) = \\gamma \\\\\n",
    "&P(\\mu_0 - c\\left(\\frac{\\beta_0}{\\lambda_0\\alpha_0}\\right)^{1/2} < \\mu < \\mu_0 + c\\left(\\frac{\\beta_0}{\\lambda_0\\alpha_0}\\right)^{1/2}) &= \\gamma \n",
    "\\end{split}\n",
    "$$\n",
    "\n",
    "Ou seja, ganhamos um intervalo de confiança de graça!"
   ]
  },
  {
   "cell_type": "markdown",
   "metadata": {},
   "source": [
    "## Implementação \n",
    "\n",
    "Quando temos dados, $X_1, ..., X_n \\sim N(\\mu, \\sigma^2)$, podemos fazer $\\hat{\\mu} = \\bar{X}_n$ que é uma pontual (só para um valor de $\\mu$). Mas isso nem sempre é o melhor, e às vezes nem tão prazeroso. Por isso precisamos trazer Bayes para nossa análise. "
   ]
  },
  {
   "cell_type": "code",
   "execution_count": 36,
   "metadata": {},
   "outputs": [],
   "source": [
    "import numpy as np \n",
    "from scipy.stats import norm, gamma,t\n",
    "import pandas as pd\n",
    "import matplotlib.pyplot as plt\n",
    "import seaborn as sns\n",
    "\n",
    "sns.set()"
   ]
  },
  {
   "cell_type": "markdown",
   "metadata": {},
   "source": [
    "Nesse exemplos, vamos estudar o exemplo **Casas de Enfermagem em Novo México**, tema estudado por [Howard L. Smith,  Neill F. Piland e Nancy Fisher](https://onlinelibrary.wiley.com/doi/abs/10.1111/j.1748-0361.1992.tb00324.x). Nesse trabalho explora os desafios da enfermagem na área rural, para que se mantenha a viabilidade. Vamos utilizar o banco de dados deles, que incluem as seguintes informações: \n",
    "\n",
    "1. BED: números de camas na casa. \n",
    "2. MCDAYS: dias anuais de internação médica (centenas)\n",
    "3. TDAYS: total anual de pacientes dias (centenas)\n",
    "4. PCREV: receita anual total de atendimento ao paciente (centenas)\n",
    "5. NSAL: salário das enfermeiras anual (centenas)\n",
    "6. FEXP: despesas anuais com instalações (centenas)\n",
    "7. RURAL: 1, se rural, 0, se urbano\n",
    "\n",
    "Os dados se encontram [nesse site](https://math.tntech.edu/ISR/Statistical_Methods_I/Data_and_Story_Library/nursinghome.txt). "
   ]
  },
  {
   "cell_type": "code",
   "execution_count": 2,
   "metadata": {},
   "outputs": [],
   "source": [
    "table = []\n",
    "with open('../data/nursinghome.txt', 'r') as f:\n",
    "    line = f.readline()\n",
    "    table.append(line.split())\n",
    "    line = f.readline()\n",
    "    while line != '':\n",
    "        table.append([int(i) for i in line.split()])\n",
    "        line = f.readline()\n",
    "nurse_df = pd.DataFrame(data = table[1:], columns = table[0], dtype = np.int)"
   ]
  },
  {
   "cell_type": "markdown",
   "metadata": {},
   "source": [
    "Vamos considerar nesse exemplo a coluna MCDAYS, restrita às casas urbanas, que denotaremos por $X$. Antes de observarmos os dados, vamos modelar o valor de $X$ para cada casa como uma variável aleatória normal com média $\\mu$ e precisão $\\tau$. "
   ]
  },
  {
   "cell_type": "code",
   "execution_count": 3,
   "metadata": {},
   "outputs": [],
   "source": [
    "urban_nurse_df = nurse_df[nurse_df.RURAL == 0]"
   ]
  },
  {
   "cell_type": "code",
   "execution_count": 37,
   "metadata": {},
   "outputs": [
    {
     "data": {
      "image/png": "[encoded data removed]",
      "text/plain": [
       "<Figure size 432x288 with 1 Axes>"
      ]
     },
     "metadata": {},
     "output_type": "display_data"
    }
   ],
   "source": [
    "plt.bar(x = range(len(urban_nurse_df)), height = urban_nurse_df.MCDAYS)\n",
    "plt.title('MCDAYS por casa urbana de enfermeiras')\n",
    "plt.show()"
   ]
  },
  {
   "cell_type": "markdown",
   "metadata": {},
   "source": [
    "Para calcular nossa priori, deveríamos conversar com especialistas. Como não é o caso, vamos usar as informações de camas. Temos:"
   ]
  },
  {
   "cell_type": "code",
   "execution_count": 10,
   "metadata": {},
   "outputs": [
    {
     "name": "stdout",
     "output_type": "stream",
     "text": [
      "Média: 111.4, Desvio-Padrão: 42.3\n"
     ]
    }
   ],
   "source": [
    "print('Média: {:.1f}, Desvio-Padrão: {:.1f}'. format(np.mean(urban_nurse_df.BED), np.std(urban_nurse_df.BED)))"
   ]
  },
  {
   "cell_type": "markdown",
   "metadata": {},
   "source": [
    "Podemos supor, a priori, que a taxa de ocupação é de 50%. Logo, em um ano, podemos obter que os dias anuais de internação médica são: "
   ]
  },
  {
   "cell_type": "code",
   "execution_count": 11,
   "metadata": {},
   "outputs": [],
   "source": [
    "media = 0.5*365*np.mean(urban_nurse_df.BED)/100 # unidade em centenas\n",
    "std = 0.5*365*np.std(urban_nurse_df.BED)/100"
   ]
  },
  {
   "cell_type": "markdown",
   "metadata": {},
   "source": [
    "Agora precisamos mapear esses valores para os hiperparâmetros a priori $\\alpha_0, \\beta_0, \\lambda_0, \\mu_0$. \n",
    "\n",
    "Vamos dibidir a variância obtida acima (usando o número de camas), como incerteza, e dividiremos igualmente essa incerteza sobre a média e a precisão, isto é, \n",
    "\n",
    "$$\n",
    "Var(\\mu) = std^2/2\n",
    "$$\n",
    "\n",
    "$$\n",
    "E(\\tau) = 1/(std^2/2)\n",
    "$$\n",
    "\n",
    "Escolhemos $\\alpha_0 = 2$ (arbitrário, mas preferível a ser pequeno, porque esse parâmetro tem a interpretação de ser o conhecimento sobre o valor. \n",
    "\n",
    "Logo \n",
    "$$\n",
    "E[\\tau] = \\alpha_0/\\beta_0 \\implies \\beta_0 = \\alpha_0/E[\\tau]\n",
    "$$\n",
    "\n",
    "$$\n",
    "E[\\mu] = \\mu_0\n",
    "$$\n",
    "\n",
    "$$\n",
    "Var(\\mu) = \\frac{\\beta_0}{\\lambda_0(\\alpha_0 - 1)} \\implies \\lambda_0 = \\frac{\\beta_0}{Var(\\mu)(\\alpha_0 - 1)}\n",
    "$$"
   ]
  },
  {
   "cell_type": "code",
   "execution_count": 83,
   "metadata": {},
   "outputs": [],
   "source": [
    "alpha0 = 2\n",
    "beta0 = alpha*std**2/2\n",
    "mu0 = media\n",
    "lambda0 = beta*2/(std**2*(alpha - 1))"
   ]
  },
  {
   "cell_type": "markdown",
   "metadata": {},
   "source": [
    "Agora conseguimos expressar nosso conhecimento a priori para construir o primeiro intervalo de confiança.  Vamos usar a expressão construída anteriormente. \n",
    "\n",
    "Primeiro, vamos ver, numericamente, a distribuição de $\\mu$"
   ]
  },
  {
   "cell_type": "code",
   "execution_count": 78,
   "metadata": {},
   "outputs": [],
   "source": [
    "def draw_samples(alpha0, beta0, lambda0, mu0, seed = 10000):\n",
    "    \n",
    "    r = np.random.RandomState(seed)\n",
    "    tau = r.gamma(shape = alpha0, scale = 1/beta0, size = 100000)\n",
    "    mu = r.normal(mu0, scale = np.sqrt(1/(lambda0*tau)))\n",
    "    \n",
    "    return mu, tau"
   ]
  },
  {
   "cell_type": "code",
   "execution_count": 79,
   "metadata": {},
   "outputs": [],
   "source": [
    "mu_samples, tau_samples = draw_samples(alpha0, beta0, lambda0, mu0)"
   ]
  },
  {
   "cell_type": "code",
   "execution_count": 80,
   "metadata": {},
   "outputs": [
    {
     "data": {
      "image/png": "[encoded data removed]",
      "text/plain": [
       "<Figure size 720x360 with 2 Axes>"
      ]
     },
     "metadata": {},
     "output_type": "display_data"
    }
   ],
   "source": [
    "fig, ax = plt.subplots(1,2, figsize = (10,5))\n",
    "sns.histplot(mu_samples, ax = ax[0])\n",
    "sns.histplot(tau_samples, ax = ax[1])\n",
    "ax[0].set_title(r'$\\mu$ a priori')\n",
    "ax[1].set_title(r'$\\tau$ a priori')\n",
    "ax[0].set_xlim((0,500))\n",
    "plt.show()"
   ]
  },
  {
   "cell_type": "code",
   "execution_count": 81,
   "metadata": {},
   "outputs": [
    {
     "name": "stdout",
     "output_type": "stream",
     "text": [
      "(95.85458277508882, 309.0974651995673)\n"
     ]
    }
   ],
   "source": [
    "ci_mu = (np.quantile(mu_samples, 0.025), np.quantile(mu_samples, 0.975))\n",
    "print(ci_mu)"
   ]
  },
  {
   "cell_type": "markdown",
   "metadata": {},
   "source": [
    "Agora, vamos observar os dados e calcular nossa posteriori! Vamos atualizar como demonstrado no Teorema. \n",
    "\n",
    "|Parâmetro|Valor a posteriori do parâmetro|\n",
    "|----||\n",
    "|$\\mu_1$|$\\frac{\\lambda_0 \\mu_0 + n\\bar{x}_n}{\\lambda_0 + n}$|\n",
    "|$\\lambda_1$|$\\lambda_0 + n$|\n",
    "|$\\alpha_1$|$\\alpha_0 + n/2$|\n",
    "|$\\beta_1$|$\\beta_0 + s_n^2/2 + \\frac{n\\lambda_0(\\bar{x}_n - \\mu_0)^2}{2(\\lambda_0 + n)}$|"
   ]
  },
  {
   "cell_type": "code",
   "execution_count": 84,
   "metadata": {},
   "outputs": [],
   "source": [
    "n = len(urban_nurse_df)\n",
    "mom1 = np.mean(urban_nurse_df.MCDAYS)\n",
    "mom2 = np.var(urban_nurse_df.MCDAYS)*n\n",
    "\n",
    "mu1 = (lambda0*mu0 + n*mom1)/(lambda0 + n)\n",
    "lambda1 = lambda0 + n\n",
    "alpha1 = alpha0 + n/2\n",
    "beta1 = beta0 + mom2/2 + (n*lambda0*(mom1 - mu0)**2)/(2*(lambda0 + n))"
   ]
  },
  {
   "cell_type": "code",
   "execution_count": 85,
   "metadata": {},
   "outputs": [],
   "source": [
    "mu_samples_post, tau_samples_post = draw_samples(alpha1, beta1, lambda1, mu1)"
   ]
  },
  {
   "cell_type": "code",
   "execution_count": 90,
   "metadata": {},
   "outputs": [
    {
     "data": {
      "image/png": "[encoded data removed]",
      "text/plain": [
       "<Figure size 720x360 with 2 Axes>"
      ]
     },
     "metadata": {},
     "output_type": "display_data"
    }
   ],
   "source": [
    "fig, ax = plt.subplots(1,2, figsize = (10,5))\n",
    "sns.histplot(mu_samples_post, ax = ax[0])\n",
    "sns.histplot(tau_samples_post, ax = ax[1])\n",
    "ax[0].set_title(r'$\\mu$ a posteriori')\n",
    "ax[1].set_title(r'$\\tau$ a posteriori')\n",
    "ax[0].set_xlim((100,300))\n",
    "plt.show()"
   ]
  },
  {
   "cell_type": "code",
   "execution_count": 91,
   "metadata": {},
   "outputs": [
    {
     "name": "stdout",
     "output_type": "stream",
     "text": [
      "(152.61993663355443, 215.58303707725233)\n"
     ]
    }
   ],
   "source": [
    "ci_mu = (np.quantile(mu_samples_post, 0.025), np.quantile(mu_samples_post, 0.975))\n",
    "print(ci_mu)"
   ]
  },
  {
   "cell_type": "markdown",
   "metadata": {},
   "source": [
    "Observe como o intervalo de confiança está bem menor! Ou seja, os dados aumentaram nossa certeza sobre o parâmetro. Vamos comparar os valores. "
   ]
  },
  {
   "cell_type": "code",
   "execution_count": 100,
   "metadata": {},
   "outputs": [
    {
     "data": {
      "image/png": "[encoded data removed]",
      "text/plain": [
       "<Figure size 720x360 with 1 Axes>"
      ]
     },
     "metadata": {},
     "output_type": "display_data"
    }
   ],
   "source": [
    "fig, ax = plt.subplots(figsize = (10,5))\n",
    "sns.histplot(mu_samples_post, ax = ax, kde = True, stat = 'density', label = 'Posteriori')\n",
    "sns.histplot(mu_samples, ax = ax, kde = True, stat = 'density', label = 'Priori', color = 'red')\n",
    "ax.set_title(r'$\\mu$')\n",
    "ax.set_xlim((-200,400))\n",
    "ax.legend()\n",
    "plt.show()"
   ]
  },
  {
   "cell_type": "markdown",
   "metadata": {},
   "source": [
    "Por fim, vamos comparar o estimador de Bayes com o de Máxima Verossimilhança: "
   ]
  },
  {
   "cell_type": "code",
   "execution_count": 101,
   "metadata": {},
   "outputs": [
    {
     "name": "stdout",
     "output_type": "stream",
     "text": [
      "MLE: 182.16666666666666\n",
      "Bayes Estimator: 184.21760983937554\n"
     ]
    }
   ],
   "source": [
    "mle = mom1 \n",
    "eb = np.mean(mu_samples_post)\n",
    "print('MLE: {}'.format(mle))\n",
    "print('Bayes Estimator: {}'.format(eb))"
   ]
  }
 ],
 "metadata": {
  "kernelspec": {
   "display_name": "Python 3.7.3 64-bit ('base')",
   "language": "python",
   "name": "python37364bitbase6782713bed674ed7a26121bd52530782"
  },
  "language_info": {
   "codemirror_mode": {
    "name": "ipython",
    "version": 3
   },
   "file_extension": ".py",
   "mimetype": "text/x-python",
   "name": "python",
   "nbconvert_exporter": "python",
   "pygments_lexer": "ipython3",
   "version": "3.7.3"
  }
 },
 "nbformat": 4,
 "nbformat_minor": 4
}
