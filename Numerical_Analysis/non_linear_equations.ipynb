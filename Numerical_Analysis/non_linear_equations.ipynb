{
 "cells": [
  {
   "cell_type": "markdown",
   "metadata": {},
   "source": [
    "# Métodos numéricos para solução de equações não lineares\n",
    "\n",
    "Escrevemos em XXX o resumo dos algoritmos de alguns métodos para solução de equações não lineares, e não são os únicos. Modificações desses métodos, em especial do Método de Newton são constantemente sugeridas para melhorar a\n",
    "convergência. Fica claro que muitos sistemas no mundo real são não lineares. Uma aplicação comum é resolver problemas de otimização. Por exemplo, quando queremos maximizar em conjuntos abertos, se conseguirmos provar algumas condições, podemos assegurar que o máximo se encontra quando $f'(x) = 0$. Logo, o problema de otimização se resume a um problema de encontrar raízes. "
   ]
  },
  {
   "cell_type": "code",
   "execution_count": 1,
   "metadata": {},
   "outputs": [],
   "source": [
    "import numpy as np\n",
    "import scipy.special as scis\n",
    "import scipy.optimize as scop\n",
    "import matplotlib.pyplot as plt\n",
    "\n",
    "%matplotlib inline"
   ]
  },
  {
   "cell_type": "markdown",
   "metadata": {},
   "source": [
    "Um jogador A ganha com placar (21-0) do jogador B em um jogo de [raquetebol](https://pt.wikipedia.org/wiki/Raquetebol) com [probabilidade](https://dokumen.tips/documents/probability-of-a-shutout-in-racquetball-58dea76bc2677.html). \n",
    "\n",
    "$$\n",
    "P = \\frac{p+1}{2}\\left(\\frac{p}{1-p+p^2}\\right)^{21},\n",
    "$$\n",
    "\n",
    "em que $p$ é a probabilidade de $A$ ganhar um rally qualquer. Qual o valor de $p$ que assegura que $A$ vencerá com esse placar em pelo menos metade dos jogos? Esse é um problema real proposto por Ralph Levine para Joseph Keller."
   ]
  },
  {
   "cell_type": "code",
   "execution_count": 2,
   "metadata": {},
   "outputs": [],
   "source": [
    "def P(p):\n",
    "    return (p+1)/2 * (p/(1 + p**2-p))**(21)"
   ]
  },
  {
   "cell_type": "code",
   "execution_count": 3,
   "metadata": {},
   "outputs": [
    {
     "data": {
      "image/png": "[encoded data removed]",
      "text/plain": [
       "<Figure size 432x288 with 1 Axes>"
      ]
     },
     "metadata": {
      "needs_background": "light"
     },
     "output_type": "display_data"
    }
   ],
   "source": [
    "p_values = np.linspace(0, 1, 50)\n",
    "P_values = P(p_values)\n",
    "plt.plot(p_values, P_values, color='r')\n",
    "plt.axhline(0.5, linestyle = '--', color = 'darkblue')\n",
    "plt.title('Probabilidade de 21-0 para cada p')\n",
    "plt.text(0.7, 0.55, '$P = 0.5$', fontsize=12)\n",
    "plt.xlabel('$p$')\n",
    "plt.ylabel('$P$')\n",
    "plt.show()"
   ]
  },
  {
   "cell_type": "markdown",
   "metadata": {},
   "source": [
    "Vamos explorar métodos de resolver a equação $P(p) = 0.5$ para $p$, isto é, $P(p) - 0.5 = 0$, através do método do Ponto Fixo e do Método de Newton.  \n",
    "\n",
    "## Iteração de Ponto Fixo\n",
    "\n",
    "Temos que \n",
    "\n",
    "$$\n",
    "f(p) = 0.5 - \\frac{p+1}{2}\\left(\\frac{p}{1-p+p^2}\\right)^{21} + p = p,\n",
    "$$\n",
    "\n",
    "é a função que admite o ponto fixo que queremos. Um ponto importante seria provar as condições de funcionamento do método. Porém, não é difícil ver que $f([0,1]) \\not \\subseteq [0,1]$, o que já quebra nosso teorema."
   ]
  },
  {
   "cell_type": "code",
   "execution_count": 4,
   "metadata": {},
   "outputs": [
    {
     "name": "stdout",
     "output_type": "stream",
     "text": [
      "1.1329638832103943\n"
     ]
    }
   ],
   "source": [
    "def f(p): \n",
    "    return 0.5 - P(p) + p\n",
    "\n",
    "def fixed_point(x0, tol = 1e-5, max_ite = 1e4): \n",
    "    \n",
    "    x1 = f(x0)\n",
    "    err = [abs(x1 - x0)]\n",
    "    sols = [x0, x1]\n",
    "    \n",
    "    while err[-1] > tol and len(err) <= max_ite: \n",
    "        \n",
    "        sols.append(f(sols[-1]))\n",
    "        err.append(abs(sols[-1] - sols[-2]))\n",
    "        \n",
    "    return {'sol': sols, 'errors': err}\n",
    "\n",
    "print(f(0.7))"
   ]
  },
  {
   "cell_type": "markdown",
   "metadata": {},
   "source": [
    "Bom, mas vamos supor que mesmo assim quiséssemos usar esse método."
   ]
  },
  {
   "cell_type": "code",
   "execution_count": 5,
   "metadata": {},
   "outputs": [
    {
     "data": {
      "text/plain": [
       "<matplotlib.collections.PathCollection at 0x7f6a17b5eb38>"
      ]
     },
     "execution_count": 5,
     "metadata": {},
     "output_type": "execute_result"
    },
    {
     "data": {
      "image/png": "[encoded data removed]",
      "text/plain": [
       "<Figure size 432x288 with 1 Axes>"
      ]
     },
     "metadata": {
      "needs_background": "light"
     },
     "output_type": "display_data"
    }
   ],
   "source": [
    "res = fixed_point(0.7)\n",
    "plt.scatter(range(len(res['sol'])), res['sol'])"
   ]
  },
  {
   "cell_type": "markdown",
   "metadata": {},
   "source": [
    "Ele não converge! Mas a gente já devia ter ficado desconfiado, pois justamente as condições do Teorema não functionavam. Em particular, é fácil ver que ele não é nem não expansivo. Usando Scipy:"
   ]
  },
  {
   "cell_type": "code",
   "execution_count": 6,
   "metadata": {},
   "outputs": [
    {
     "ename": "RuntimeError",
     "evalue": "Failed to converge after 500 iterations, value is 0.4998542288112865",
     "output_type": "error",
     "traceback": [
      "\u001b[0;31m---------------------------------------------------------------------------\u001b[0m",
      "\u001b[0;31mRuntimeError\u001b[0m                              Traceback (most recent call last)",
      "\u001b[0;32m<ipython-input-6-93ff8160efab>\u001b[0m in \u001b[0;36m<module>\u001b[0;34m\u001b[0m\n\u001b[0;32m----> 1\u001b[0;31m \u001b[0mscop\u001b[0m\u001b[0;34m.\u001b[0m\u001b[0mfixed_point\u001b[0m\u001b[0;34m(\u001b[0m\u001b[0mfunc\u001b[0m \u001b[0;34m=\u001b[0m \u001b[0mf\u001b[0m\u001b[0;34m,\u001b[0m \u001b[0mx0\u001b[0m \u001b[0;34m=\u001b[0m \u001b[0;36m0.81\u001b[0m\u001b[0;34m,\u001b[0m \u001b[0mmethod\u001b[0m \u001b[0;34m=\u001b[0m \u001b[0;34m'iteration'\u001b[0m\u001b[0;34m)\u001b[0m\u001b[0;34m\u001b[0m\u001b[0;34m\u001b[0m\u001b[0m\n\u001b[0m",
      "\u001b[0;32m~/anaconda3/lib/python3.7/site-packages/scipy/optimize/minpack.py\u001b[0m in \u001b[0;36mfixed_point\u001b[0;34m(func, x0, args, xtol, maxiter, method)\u001b[0m\n\u001b[1;32m    935\u001b[0m     \u001b[0muse_accel\u001b[0m \u001b[0;34m=\u001b[0m \u001b[0;34m{\u001b[0m\u001b[0;34m'del2'\u001b[0m\u001b[0;34m:\u001b[0m \u001b[0;32mTrue\u001b[0m\u001b[0;34m,\u001b[0m \u001b[0;34m'iteration'\u001b[0m\u001b[0;34m:\u001b[0m \u001b[0;32mFalse\u001b[0m\u001b[0;34m}\u001b[0m\u001b[0;34m[\u001b[0m\u001b[0mmethod\u001b[0m\u001b[0;34m]\u001b[0m\u001b[0;34m\u001b[0m\u001b[0;34m\u001b[0m\u001b[0m\n\u001b[1;32m    936\u001b[0m     \u001b[0mx0\u001b[0m \u001b[0;34m=\u001b[0m \u001b[0m_asarray_validated\u001b[0m\u001b[0;34m(\u001b[0m\u001b[0mx0\u001b[0m\u001b[0;34m,\u001b[0m \u001b[0mas_inexact\u001b[0m\u001b[0;34m=\u001b[0m\u001b[0;32mTrue\u001b[0m\u001b[0;34m)\u001b[0m\u001b[0;34m\u001b[0m\u001b[0;34m\u001b[0m\u001b[0m\n\u001b[0;32m--> 937\u001b[0;31m     \u001b[0;32mreturn\u001b[0m \u001b[0m_fixed_point_helper\u001b[0m\u001b[0;34m(\u001b[0m\u001b[0mfunc\u001b[0m\u001b[0;34m,\u001b[0m \u001b[0mx0\u001b[0m\u001b[0;34m,\u001b[0m \u001b[0margs\u001b[0m\u001b[0;34m,\u001b[0m \u001b[0mxtol\u001b[0m\u001b[0;34m,\u001b[0m \u001b[0mmaxiter\u001b[0m\u001b[0;34m,\u001b[0m \u001b[0muse_accel\u001b[0m\u001b[0;34m)\u001b[0m\u001b[0;34m\u001b[0m\u001b[0;34m\u001b[0m\u001b[0m\n\u001b[0m",
      "\u001b[0;32m~/anaconda3/lib/python3.7/site-packages/scipy/optimize/minpack.py\u001b[0m in \u001b[0;36m_fixed_point_helper\u001b[0;34m(func, x0, args, xtol, maxiter, use_accel)\u001b[0m\n\u001b[1;32m    889\u001b[0m         \u001b[0mp0\u001b[0m \u001b[0;34m=\u001b[0m \u001b[0mp\u001b[0m\u001b[0;34m\u001b[0m\u001b[0;34m\u001b[0m\u001b[0m\n\u001b[1;32m    890\u001b[0m     \u001b[0mmsg\u001b[0m \u001b[0;34m=\u001b[0m \u001b[0;34m\"Failed to converge after %d iterations, value is %s\"\u001b[0m \u001b[0;34m%\u001b[0m \u001b[0;34m(\u001b[0m\u001b[0mmaxiter\u001b[0m\u001b[0;34m,\u001b[0m \u001b[0mp\u001b[0m\u001b[0;34m)\u001b[0m\u001b[0;34m\u001b[0m\u001b[0;34m\u001b[0m\u001b[0m\n\u001b[0;32m--> 891\u001b[0;31m     \u001b[0;32mraise\u001b[0m \u001b[0mRuntimeError\u001b[0m\u001b[0;34m(\u001b[0m\u001b[0mmsg\u001b[0m\u001b[0;34m)\u001b[0m\u001b[0;34m\u001b[0m\u001b[0;34m\u001b[0m\u001b[0m\n\u001b[0m\u001b[1;32m    892\u001b[0m \u001b[0;34m\u001b[0m\u001b[0m\n\u001b[1;32m    893\u001b[0m \u001b[0;34m\u001b[0m\u001b[0m\n",
      "\u001b[0;31mRuntimeError\u001b[0m: Failed to converge after 500 iterations, value is 0.4998542288112865"
     ]
    }
   ],
   "source": [
    "scop.fixed_point(func = f, x0 = 0.81, method = 'iteration')"
   ]
  },
  {
   "cell_type": "markdown",
   "metadata": {},
   "source": [
    "Existe uma variação desse dado pelo método Steffensen com Aitken's $\\Delta^2$, que constrói uma sequência com onvergência mais rápida, a partir da inicial. "
   ]
  },
  {
   "cell_type": "code",
   "execution_count": 7,
   "metadata": {},
   "outputs": [
    {
     "name": "stdout",
     "output_type": "stream",
     "text": [
      "1.08 ms ± 120 µs per loop (mean ± std. dev. of 7 runs, 1000 loops each)\n"
     ]
    }
   ],
   "source": [
    "%timeit scop.fixed_point(func = f, x0 = 0.3, method = 'del2')"
   ]
  },
  {
   "cell_type": "code",
   "execution_count": 8,
   "metadata": {},
   "outputs": [
    {
     "data": {
      "text/plain": [
       "array(0.84230479)"
      ]
     },
     "execution_count": 8,
     "metadata": {},
     "output_type": "execute_result"
    }
   ],
   "source": [
    "scop.fixed_point(func = f, x0 = 0.3, method = 'del2')"
   ]
  },
  {
   "cell_type": "code",
   "execution_count": 9,
   "metadata": {},
   "outputs": [
    {
     "name": "stdout",
     "output_type": "stream",
     "text": [
      "1.21 ms ± 165 µs per loop (mean ± std. dev. of 7 runs, 1000 loops each)\n"
     ]
    }
   ],
   "source": [
    "%timeit scop.fixed_point(func = f, x0 = 0.8, method = 'del2')"
   ]
  },
  {
   "cell_type": "code",
   "execution_count": 10,
   "metadata": {},
   "outputs": [
    {
     "data": {
      "text/plain": [
       "array(0.84230479)"
      ]
     },
     "execution_count": 10,
     "metadata": {},
     "output_type": "execute_result"
    }
   ],
   "source": [
    "scop.fixed_point(func = f, x0 = 0.8, method = 'del2')"
   ]
  },
  {
   "cell_type": "markdown",
   "metadata": {},
   "source": [
    "Olhe o que acontece com $x_0 = 0.1$. "
   ]
  },
  {
   "cell_type": "code",
   "execution_count": 11,
   "metadata": {},
   "outputs": [
    {
     "data": {
      "text/plain": [
       "array(-3.51843721e+13)"
      ]
     },
     "execution_count": 11,
     "metadata": {},
     "output_type": "execute_result"
    }
   ],
   "source": [
    "scop.fixed_point(func = f, x0 = 0.1, method = 'del2')"
   ]
  },
  {
   "cell_type": "markdown",
   "metadata": {},
   "source": [
    "## Método de Newton \n",
    "\n",
    "Agora vamos usar informação da derivada de $P$ para nos ajudar com o problema de encontrar a raíz de $P(p) - 0.5 = 0$. Note que $P(0) < 0.5$ e $P(1) > 0.5$. }Para nos ajudar com as contas, vamos considerar a versão com log, isto é, $\\log(P(p)) = - \\log(2)$. Assim, \n",
    "\n",
    "$$ \n",
    "\\log(p+1) - \\log(2) + 21(\\log(p) - \\log(1 - p + p^2)) = -\\log(2), \n",
    "$$\n",
    "\n",
    "o que simplica para $g(p) = \\log(p+1) + 21(\\log(p) - \\log(1 - p + p^2)) = 0$. Aí temos que \n",
    "\n",
    "$$\n",
    "g'(p) = \\frac{1}{p+1} + \\frac{21}{p} - \\frac{21}{1 - p + p^2}(2p - 1)\n",
    "$$"
   ]
  },
  {
   "cell_type": "code",
   "execution_count": 12,
   "metadata": {},
   "outputs": [],
   "source": [
    "def g(p): \n",
    "    return np.log(p+1) + 21*(np.log(p) - np.log1p(p**2 - p))\n",
    "\n",
    "def g_prime(p): \n",
    "    return 1 / (p+1) + 21 / p - 21 * (2*p - 1) / (1 - p + p**2)"
   ]
  },
  {
   "cell_type": "markdown",
   "metadata": {},
   "source": [
    "Podemos provar analiticamente que a derivada é estritamente positiva, mas faremos a observação numérica através do seguinte gráfico. "
   ]
  },
  {
   "cell_type": "code",
   "execution_count": 13,
   "metadata": {},
   "outputs": [
    {
     "data": {
      "image/png": "[encoded data removed]",
      "text/plain": [
       "<Figure size 432x288 with 1 Axes>"
      ]
     },
     "metadata": {
      "needs_background": "light"
     },
     "output_type": "display_data"
    }
   ],
   "source": [
    "g_values = g_prime(p_values[1:])\n",
    "plt.plot(p_values[1:], g_values, color='r')\n",
    "plt.title('Derivada da função derivada')\n",
    "plt.xlabel('$p$')\n",
    "plt.ylabel(\"$g\\'(p)$\")\n",
    "plt.show()"
   ]
  },
  {
   "cell_type": "markdown",
   "metadata": {},
   "source": [
    "Aplicando o método de newton através do Scipy. Observe que o seu tempo deu bem menor que o anterior, mesmo com um valor de $x_0$ bem distante. "
   ]
  },
  {
   "cell_type": "code",
   "execution_count": 14,
   "metadata": {},
   "outputs": [
    {
     "name": "stdout",
     "output_type": "stream",
     "text": [
      "836 µs ± 117 µs per loop (mean ± std. dev. of 7 runs, 1000 loops each)\n"
     ]
    }
   ],
   "source": [
    "%timeit scop.newton(func = g, x0 = 0.1, fprime = g_prime)"
   ]
  },
  {
   "cell_type": "code",
   "execution_count": 15,
   "metadata": {},
   "outputs": [
    {
     "data": {
      "text/plain": [
       "0.8423047910355657"
      ]
     },
     "execution_count": 15,
     "metadata": {},
     "output_type": "execute_result"
    }
   ],
   "source": [
    "scop.newton(func = g, x0 = 0.1, fprime = g_prime)"
   ]
  },
  {
   "cell_type": "markdown",
   "metadata": {},
   "source": [
    "Observe o método da Secante, um método que também usa a ideia de tangente, mas sem consultar a derivada. "
   ]
  },
  {
   "cell_type": "code",
   "execution_count": 16,
   "metadata": {},
   "outputs": [
    {
     "name": "stdout",
     "output_type": "stream",
     "text": [
      "631 µs ± 111 µs per loop (mean ± std. dev. of 7 runs, 1000 loops each)\n"
     ]
    }
   ],
   "source": [
    "%timeit scop.newton(func = g, x0 = 0.1)"
   ]
  },
  {
   "cell_type": "code",
   "execution_count": 17,
   "metadata": {},
   "outputs": [
    {
     "data": {
      "text/plain": [
       "0.8423047910355633"
      ]
     },
     "execution_count": 17,
     "metadata": {},
     "output_type": "execute_result"
    }
   ],
   "source": [
    "scop.newton(func = g, x0 = 0.1)"
   ]
  },
  {
   "cell_type": "markdown",
   "metadata": {},
   "source": [
    "### Exemplo adicional \n",
    "\n",
    "Nesse exemplo, a ideia é verificar que Newton pode dar errado. Considere: \n",
    "\n",
    "$$\n",
    "f(x) = x\\sin(\\pi x) - \\exp(-x)\n",
    "$$"
   ]
  },
  {
   "cell_type": "code",
   "execution_count": 18,
   "metadata": {},
   "outputs": [],
   "source": [
    "f = lambda x: x * np.sin(np.pi * x) - np.exp(-x)"
   ]
  },
  {
   "cell_type": "code",
   "execution_count": 19,
   "metadata": {},
   "outputs": [
    {
     "data": {
      "image/png": "[encoded data removed]",
      "text/plain": [
       "<Figure size 432x288 with 1 Axes>"
      ]
     },
     "metadata": {
      "needs_background": "light"
     },
     "output_type": "display_data"
    }
   ],
   "source": [
    "x = np.linspace(-1, 2, 100)\n",
    "y = f(x)\n",
    "\n",
    "fig, ax = plt.subplots()\n",
    "ax.plot(x, y, color='r',zorder=0)\n",
    "xs = [0.57, 0.83, -0.27]\n",
    "texts = ['raiz$_1$', 'raiz$_2$', 'mínimo local']\n",
    "for i in range(len(xs)):\n",
    "    ax.scatter([xs[i]], [f(xs[i])],marker='x',s=60)\n",
    "    ax.text(xs[i]+0.05, f(xs[i])-0.1, texts[i])\n",
    "ax.plot(x,np.zeros_like(x),color='gray',ls='-.',alpha=0.75)\n",
    "ax.set_xlabel('$x$')\n",
    "ax.set_ylabel('$f(x)$')\n",
    "plt.title('$f(x)= x sin(\\pi x) - exp(-x)$')\n",
    "plt.show()"
   ]
  },
  {
   "cell_type": "code",
   "execution_count": 20,
   "metadata": {},
   "outputs": [
    {
     "name": "stdout",
     "output_type": "stream",
     "text": [
      "Com x_0 = -0.70, a raíz é  2.02\n",
      "Com x_0 = -0.60, a raíz é  0.58\n",
      "Com x_0 = -0.50, a raíz é  1.27\n",
      "Com x_0 = -0.40, a raíz é  0.82\n",
      "Com x_0 = -0.30, a raíz é -0.30\n",
      "Com x_0 = -0.20, a raíz é  0.82\n",
      "Com x_0 = -0.10, a raíz é  2.02\n",
      "Com x_0 =  0.00, a raíz é  0.82\n",
      "Com x_0 =  0.10, a raíz é  0.58\n",
      "Com x_0 =  0.20, a raíz é  0.58\n",
      "Com x_0 =  0.30, a raíz é  0.58\n",
      "Com x_0 =  0.40, a raíz é  0.58\n",
      "Com x_0 =  0.50, a raíz é  0.58\n",
      "Com x_0 =  0.60, a raíz é  0.58\n",
      "Com x_0 =  0.70, a raíz é  0.58\n"
     ]
    }
   ],
   "source": [
    "xspace = np.linspace(-0.7, 0.7, 15)\n",
    "\n",
    "for x in xspace:\n",
    "    print('Com x_0 = {0:5.2f}, a raíz é {1:5.2f}'.format(x, scop.newton(f,x)))"
   ]
  },
  {
   "cell_type": "markdown",
   "metadata": {},
   "source": [
    "### Um outro exemplo \n",
    "\n",
    "Vamos comparar os métodos agora com a função $f(x) = x - \\cos(x)$. Para o\n",
    "método do ponto fixo, vamos utilizar a função $g(x) = \\cos(x)$, naturalmente.\n",
    "Note que $g([0,1]) \\subseteq [0,1]$ e $|g'([0,1])| \\subseteq [0,0.9]$, isto é,\n",
    "temos que as hipóteses para a iteração do ponto fixo são válidas. "
   ]
  },
  {
   "cell_type": "code",
   "execution_count": 51,
   "metadata": {},
   "outputs": [],
   "source": [
    "def f(x, info):\n",
    "    res = x - np.cos(x)\n",
    "    if info['print']: \n",
    "        info['iter_x'].append(x)\n",
    "        info['iter_res'].append(res)\n",
    "    return res\n",
    "\n",
    "def g(x, info):\n",
    "    res = np.cos(x)\n",
    "    if info['print']: \n",
    "        info['iter_x'].append(x)\n",
    "        info['iter_res'].append(res)\n",
    "    return res"
   ]
  },
  {
   "cell_type": "code",
   "execution_count": 38,
   "metadata": {},
   "outputs": [
    {
     "data": {
      "image/png": "[encoded data removed]",
      "text/plain": [
       "<Figure size 432x288 with 1 Axes>"
      ]
     },
     "metadata": {
      "needs_background": "light"
     },
     "output_type": "display_data"
    }
   ],
   "source": [
    "x = np.linspace(0, 1, 100)\n",
    "y = f(x, {'iter_x': [], 'iter_res': [], 'print': False})\n",
    "\n",
    "fig, ax = plt.subplots()\n",
    "ax.plot(x, y, color='r', zorder=0)\n",
    "ax.axhline(0, color = 'k', linestyle = '-.')\n",
    "ax.set_title('$f(x)= x - cos(x)$')\n",
    "plt.show()"
   ]
  },
  {
   "cell_type": "code",
   "execution_count": 61,
   "metadata": {},
   "outputs": [],
   "source": [
    "info_newton = {'iter_x': [], 'iter_res': [], 'print': True}\n",
    "info_secant = {'iter_x': [], 'iter_res': [], 'print': True}\n",
    "info_bisect = {'iter_x': [], 'iter_res': [], 'print': True}\n",
    "info_fixed = {'iter_x': [], 'iter_res': [], 'print': True}\n",
    "\n",
    "newton = scop.newton(func = f, \n",
    "                     x0 = 0.5, \n",
    "                     fprime = lambda x, info: 1 + np.sin(x), \n",
    "                     tol = 1e-10, \n",
    "                     maxiter = 200, \n",
    "                     args = (info_newton,))\n",
    "\n",
    "secant = scop.newton(func = f, \n",
    "                     x0 = 0.5, \n",
    "                     tol = 1e-10, \n",
    "                     maxiter = 200, \n",
    "                     args = (info_secant,))\n",
    "\n",
    "bisect = scop.bisect(f = f, \n",
    "                     a = 0,\n",
    "                     b = 1,\n",
    "                     xtol = 1e-10, \n",
    "                     maxiter = 200, \n",
    "                     args = (info_bisect,))\n",
    "\n",
    "fixed_point = scop.fixed_point(func = g, \n",
    "                               x0 =0.5, \n",
    "                               xtol = 1e-10, \n",
    "                               bisectmethod = 'iteration', \n",
    "                               maxiter = 200, \n",
    "                               args = (info_fixed,))"
   ]
  },
  {
   "cell_type": "code",
   "execution_count": 65,
   "metadata": {},
   "outputs": [
    {
     "data": {
      "image/png": "[encoded data removed]",
      "text/plain": [
       "<Figure size 432x288 with 1 Axes>"
      ]
     },
     "metadata": {
      "needs_background": "light"
     },
     "output_type": "display_data"
    }
   ],
   "source": [
    "plt.plot(info_bisect['iter_x'], label = 'bisect: {}'.format(len(info_bisect['iter_x'])))\n",
    "plt.plot(info_newton['iter_x'], label = 'newton: {}'.format(len(info_newton['iter_x'])))\n",
    "plt.plot(np.array(info_fixed['iter_x']), label = 'fixed point: {}'.format(len(info_fixed['iter_x'])))\n",
    "plt.plot(info_secant['iter_x'], label = 'secant: {}'.format(len(info_secant['iter_x'])))\n",
    "plt.legend()\n",
    "plt.title('Comparando alguns métodos')\n",
    "plt.xscale('log')\n",
    "plt.show()"
   ]
  }
 ],
 "metadata": {
  "interpreter": {
   "hash": "b71f14f28ae4ddaac4ba9d1ac64a825af8fd98afb80045800581782b533a026d"
  },
  "kernelspec": {
   "display_name": "Python 3",
   "language": "python",
   "name": "python3"
  },
  "language_info": {
   "codemirror_mode": {
    "name": "ipython",
    "version": 3
   },
   "file_extension": ".py",
   "mimetype": "text/x-python",
   "name": "python",
   "nbconvert_exporter": "python",
   "pygments_lexer": "ipython3",
   "version": "3.7.1"
  }
 },
 "nbformat": 4,
 "nbformat_minor": 4
}
