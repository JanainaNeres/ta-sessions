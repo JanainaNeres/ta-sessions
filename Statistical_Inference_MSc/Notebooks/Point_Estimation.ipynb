{
 "cells": [
  {
   "cell_type": "markdown",
   "id": "d712763e-d934-410c-b8ef-7c98807af9c1",
   "metadata": {},
   "source": [
    "# Estimação pontual\n",
    "\n",
    "Este notebook contém os experimentos de estimação pontual."
   ]
  },
  {
   "cell_type": "code",
   "execution_count": 4,
   "id": "b682d63d-a0b3-4f22-a81d-f2fed80b996f",
   "metadata": {},
   "outputs": [],
   "source": [
    "import numpy as np\n",
    "from scipy.special import hyp2f1\n",
    "import matplotlib.pyplot as plt"
   ]
  },
  {
   "cell_type": "markdown",
   "id": "bc1ff18b-df68-486f-9463-c18e01559bf6",
   "metadata": {},
   "source": [
    "## Correlação normal multivariada"
   ]
  },
  {
   "cell_type": "code",
   "execution_count": 26,
   "id": "da3de77a-ca77-49fe-99cc-1d70a871c83b",
   "metadata": {},
   "outputs": [
    {
     "data": {
      "image/png": "[encoded data removed]",
      "text/plain": [
       "<Figure size 432x288 with 1 Axes>"
      ]
     },
     "metadata": {
      "needs_background": "light"
     },
     "output_type": "display_data"
    }
   ],
   "source": [
    "# Parâmetros\n",
    "rho = 0.1\n",
    "n = 30\n",
    "M = 100000\n",
    "phi_samples = np.zeros(M)\n",
    "psi_samples = np.zeros(M)\n",
    "# Gerando os dados de acordo com a distribuição especificada\n",
    "rng = np.random.RandomState(1001)\n",
    "for i in range(M):\n",
    "    Z = rng.multivariate_normal(mean=[0,0], cov=[[1,rho], [rho,1]], size=n)\n",
    "    X = Z[:,0]\n",
    "    Y = Z[:,1]\n",
    "    # Calculando ~ correlação de Pearson\n",
    "    phi_samples[i] = np.corrcoef(X,Y)[0,1]\n",
    "    psi_samples[i] = phi_samples[i] * hyp2f1(1/2, 1/2, (n-1)/2, 1 - phi_samples[i]**2)\n",
    "\n",
    "# Desenhando as distribuições\n",
    "plt.hist(phi_samples, label=r'$\\phi$', color='pink', bins=50)\n",
    "plt.hist(psi_samples, label=r'$\\psi$', color='blue', bins=50)\n",
    "plt.legend()\n",
    "plt.show()"
   ]
  },
  {
   "cell_type": "markdown",
   "id": "0134890f-c079-4d4c-ad9c-6eb329745e23",
   "metadata": {},
   "source": [
    "Nesse caso, temos que o Erro Absoluto Percentual Médio do estimador $\\psi$ é, aproximadamente,  \n",
    "$$\n",
    "\\mathbb{E}_{\\rho}\\left[\\bigg|\\frac{\\psi - \\rho}{\\rho}\\bigg|\\right] \\approx 150\\%.\n",
    "$$"
   ]
  },
  {
   "cell_type": "code",
   "execution_count": null,
   "id": "bb4914fc-afd3-4358-b822-72bc8dbfc06e",
   "metadata": {},
   "outputs": [],
   "source": []
  }
 ],
 "metadata": {
  "kernelspec": {
   "display_name": "Python 3 (ipykernel)",
   "language": "python",
   "name": "python3"
  },
  "language_info": {
   "codemirror_mode": {
    "name": "ipython",
    "version": 3
   },
   "file_extension": ".py",
   "mimetype": "text/x-python",
   "name": "python",
   "nbconvert_exporter": "python",
   "pygments_lexer": "ipython3",
   "version": "3.9.7"
  }
 },
 "nbformat": 4,
 "nbformat_minor": 5
}
