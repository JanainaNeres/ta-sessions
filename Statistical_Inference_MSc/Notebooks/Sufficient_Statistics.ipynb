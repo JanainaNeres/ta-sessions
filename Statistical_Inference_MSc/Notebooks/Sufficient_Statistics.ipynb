{
 "cells": [
  {
   "cell_type": "markdown",
   "id": "805fa04f-4458-4d08-b2b5-b00b42307b77",
   "metadata": {},
   "source": [
    "# Estatística suficiente \n",
    "\n",
    "Nesse notebook, faremos alguns poucos experimentos para ilustrar fatos verificados no capítulo de Estatística Suficiente."
   ]
  },
  {
   "cell_type": "code",
   "execution_count": 30,
   "id": "fdf3bf49-bfe9-4925-8e73-a7da296fc3f2",
   "metadata": {},
   "outputs": [],
   "source": [
    "import numpy as np\n",
    "import matplotlib.pyplot as plt\n",
    "from scipy import stats\n",
    "from tqdm import tqdm"
   ]
  },
  {
   "cell_type": "markdown",
   "id": "3f74ef19-d1eb-4ab0-b2cc-aa64d6cbef2e",
   "metadata": {},
   "source": [
    "## Amostrando!\n",
    "\n",
    "Seja $X_1, \\dots, X_n$ uma amostra aleatória de uma distribuição $P_{\\theta}$. \n",
    "Seja $T(X)$ uma estatística suficiente. \n",
    "Sabemos que $\\mathbb{P}(X_1, \\dots, X_n | T(X) = t)$ independe de $\\theta$.\n",
    "Suponha então que temos dois experimentadores. \n",
    "O primeiro captura todas as amostras e passa para o segundo experimentador apenas o valor de $T(X)$ para economizar!\n",
    "Vamos verificar que o segundo experimentador consegue, agora, obter amostras fake da amostra original.\n",
    "\n",
    "Vamos começar com um exemplo simples: $X_1, \\dots, X_n \\sim \\operatorname{Normal}(\\mu, 1)$. Uma estatística suficiente (mínima, inclusive) nesse caso é $\\bar{X} = n^{-1}(X_1 + \\dots + X_n)$.\n",
    "\n",
    "Sabemos que $\\bar{X} \\sim \\operatorname{Normal}(\\mu, n^{-1})$. Assim, \n",
    "$$\n",
    "f(X_1, \\dots, X_n | \\bar{X} = t) = \\frac{(2\\pi)^{-n/2}\\exp\\{-1/2 \\sum_{i=1}^n(x_i-\\mu)^2\\}}{(2\\pi n^{-1})^{-1/2}\\exp\\{-n/2(t-\\mu)^2\\}} \\propto \\exp\\left\\{-\\frac{1}{2}(S_x^2 - 2\\mu n t + n\\mu^2 - nt^2 + 2\\mu n t - n\\mu^2).\\right\\} = \\exp\\left\\{-\\frac{1}{2}\\sum_{i=1}^n (x_i^2 - t^2)\\right\\},\n",
    "$$\n",
    "em que $S_x^2 = \\sum_{i=1}^n x_i^2$ e $X_n = nt - \\sum_{i=1}^{n-1} X_i$."
   ]
  },
  {
   "cell_type": "markdown",
   "id": "924cb00d-8c4a-42fe-8f3e-c7b74128016e",
   "metadata": {},
   "source": [
    "Note que podemos escrever \n",
    "$$\n",
    "f(X_1, \\dots, X_{n-1} | \\bar{X} = t) \\propto \\exp\\left\\{nt^2/2\\right\\}\\exp\\left\\{-\\frac{1}{2}\\left[\\sum_{i=1}^{n-1} x_i^2 + \\left(nt - \\sum_{i=1}^{n-1} x_i\\right)^2 \\right]\\right\\} = \\exp\\left\\{nt^2/2\\right\\}\\exp\\left\\{-\\frac{1}{2}\\left[\\sum_{i=1}^{n-1} x_i^2 + n^2t^2 - 2nt\\sum_{i=1}^{n-1} x_i + \\left(\\sum_{i=1}^{n-1} x_i\\right)^2\\right]\\right\\}\n",
    "$$"
   ]
  },
  {
   "cell_type": "markdown",
   "id": "baa75718-ab67-4975-b286-d826e246ee1e",
   "metadata": {},
   "source": [
    "Assim, \n",
    "$$\n",
    "\\begin{split}\n",
    "f(X_1, \\dots, X_{n-1} | \\bar{X} = t) &\\propto \\exp\\left\\{nt^2/2\\right\\}\\exp\\left\\{-\\frac{1}{2}\\left[\\sum_{i=1}^{n-1} (x_i^2 - 2nt x_i + nt^2) +nt^2 + \\left(\\sum_{i=1}^{n-1} x_i\\right)^2\\right]\\right\\} \\\\\n",
    "&= \\exp\\left\\{-\\frac{1}{2}\\left[\\sum_{i=1}^{n-1} (x_i^2 - 2t x_i + t^2) - 2(n-1)t\\sum_{i=1}^{n-1} x_i + (n-1)^2t^2 + \\left(\\sum_{i=1}^{n-1} x_i\\right)^2\\right]\\right\\} \\\\\n",
    "&= \\exp\\left\\{-\\frac{1}{2}\\left[\\sum_{i=1}^{n-1} (x_i - t)^2 + \\left(\\sum_{i=1}^{n-1} (x_i - t)\\right)^2 \\right]\\right\\} \\\\\n",
    "&= \\exp\\left\\{-\\frac{1}{2}\\left[\\sum_{i=1}^{n-1} (x_i - t)^2 + \\sum_{j=1}^{n-1} \\sum_{i=1}^{n-1} (x_j-t)(x_i - t) \\right]\\right\\}\n",
    "\\end{split}\n",
    "$$\n",
    "\n",
    "Com isso, observamos que $X_1, \\dots, X_n | \\bar{X} = t$ tem distribuição Normal Multivariada com $\\mathbb{E}[X_i] = t$ para $i=1,\\dots,n-1$\n",
    "e matriz de covariância (dada pela inversa) \n",
    "$$\n",
    "\\Sigma^{-1} = I_{n-1} + \\begin{bmatrix}\n",
    "1 & \\cdots & 1 \\\\\n",
    "\\vdots & \\ddots & \\vdots \\\\\n",
    "1 & \\cdots & 1\n",
    "\\end{bmatrix} := I + A\n",
    "$$\n",
    "\n",
    "Veja que $\\Sigma = I - A/n$ (mostre!). \n",
    "\n",
    "Assim, $X_1, \\dots, X_{n-1} | \\bar{X} = t \\sim \\operatorname{Normal}((t,\\dots,t), I - A/n)$."
   ]
  },
  {
   "cell_type": "code",
   "execution_count": 29,
   "id": "c7733ad0-1c6f-48de-9ce7-f219efa02810",
   "metadata": {},
   "outputs": [],
   "source": [
    "mu = 2\n",
    "n = 10\n",
    "Sigma = np.eye(n-1) - np.ones((n-1,n-1))/n"
   ]
  },
  {
   "cell_type": "markdown",
   "id": "bc807c80-b905-4524-b75e-2eba8429cdf6",
   "metadata": {},
   "source": [
    "Façamos um exemplo em que $\\mu = 2$ verdadeiro (e desconhecido para os dois estatísticos). Vamos fazer o seguinte experimento $M$ vezes, com $M = 100000$. Para o primeiro estatístico, oferecemos $n$ amostras. Para o segundo estatístico, só oferecemos a média dessas amostras e ele vai utilizar as contas acima para gerar outras $n$ amostras, isto, ele gerará amostras novas a partir de $X_1, \\dots, X_{n-1} | \\bar{X} = t \\sim \\operatorname{Normal}((t,\\dots,t), I - A/n)$, pois ele conhecerá $\\bar{X}$. \n",
    "\n",
    "Como faremos esses experimentos diversas vezes, vamos obter $M$ amostras de $X_1$ para o estatístico 1, e o estatístico 2 vai produzir outras $M$ a partir da distribuição calculada. Provamos que a distribuição delas será a mesma. Vamos verificar graficamente através do histograma."
   ]
  },
  {
   "cell_type": "code",
   "execution_count": 31,
   "id": "a99d1951-8cb7-41b4-af6f-f24afb54438d",
   "metadata": {},
   "outputs": [
    {
     "name": "stderr",
     "output_type": "stream",
     "text": [
      "100%|█████████████████████████████████| 100000/100000 [00:19<00:00, 5034.15it/s]\n"
     ]
    }
   ],
   "source": [
    "mu = 2\n",
    "n = 10\n",
    "M = 100000\n",
    "\n",
    "estatistico1 = np.zeros((monte_carlo_simulation, n))\n",
    "estatistico2 = np.zeros_like(samples)\n",
    "\n",
    "for k in tqdm(range(monte_carlo_simulation)):\n",
    "    x = np.random.normal(loc=mu, scale=1, size=n)\n",
    "    t = x.mean()\n",
    "\n",
    "    x_fake = np.random.multivariate_normal(mean=t*np.ones(n-1), cov=np.eye(n-1) - np.ones((n-1, n-1))/n)\n",
    "    x_n = n * t - x_fake.sum()\n",
    "    x_fake = np.hstack([x_fake, x_n])\n",
    "    \n",
    "    estatistico1[k] = x\n",
    "    estatistico2[k] = x_fake"
   ]
  },
  {
   "cell_type": "markdown",
   "id": "967d5e60-e763-4505-84c8-2f9ade191866",
   "metadata": {},
   "source": [
    "Veja que de fato os histogramas são muito similares, como esperávamos! Assim, apenas tendo o valor da média, o estatístico 2 foi capaz de produzir novas amostras a partir da mesma distribuição do estatístico 1!"
   ]
  },
  {
   "cell_type": "code",
   "execution_count": 33,
   "id": "9834ab7b-a36e-42ad-8439-2e9635e83153",
   "metadata": {},
   "outputs": [
    {
     "data": {
      "image/png": "[encoded data removed]",
      "text/plain": [
       "<Figure size 432x288 with 1 Axes>"
      ]
     },
     "metadata": {
      "needs_background": "light"
     },
     "output_type": "display_data"
    }
   ],
   "source": [
    "plt.hist(estatistico1[:,0], bins=50, label='Estatístico 1')\n",
    "plt.hist(estatistico2[:,0], alpha=0.5, bins=50, label='Estatístico 2')\n",
    "plt.title('Comparando a distribuição do dado contra o dado falso')\n",
    "plt.legend()\n",
    "plt.show()"
   ]
  },
  {
   "cell_type": "markdown",
   "id": "c55e70f1-8eeb-4b27-91ee-772209029ce2",
   "metadata": {},
   "source": [
    "## Ancilaridade\n",
    "\n",
    "Uma estatística anciliar não depende do parâmetro, então não pode atualizar a informação sobre ele. \n",
    "Será que significa que ela pode ser ignorada? \n",
    "Vamos verificar isso com um exemplo numérico. Seja $X_1, \\dots, X_n \\overset{iid}{\\sim} \\operatorname{Unif}[\\theta-1/2, \\theta+1/2]$. Assim \n",
    "$$\n",
    "f(x_1, \\dots, x_n | \\theta) = \\prod_{i=1}^n 1\\{\\theta -1/2 < x_i < \\theta+1/2\\} = 1\\{\\theta - 1/2 < \\min\\{x_i\\}\\}1\\{\\theta + 1/2 > \\max\\{x_i\\}\\}\n",
    "$$\n",
    "Portanto $T(X) = (\\min(X_i), \\max(X_i))$ é estatística suficiente mínima.\n",
    "Seja $U(X) = \\max(X_i) - \\min(X_i)$.\n",
    "Vamos verificar que $U$ é estatística anciliar \n",
    "\n",
    "Defina $Y_i = X_i - \\theta + 1/2 \\sim \\operatorname{Uniform}(0,1)$. Assim, \n",
    "$$\n",
    "U = \\max(X_i) - \\min(X_i) = \\max(X_i-\\theta+1/2) - \\min(X_i-\\theta+1/2) = \\max(Y_i) - \\min(Y_i).\n",
    "$$\n",
    "Como a distribuição de $Y$ independe de $\\theta$, temos que a distribuição de $U$ também independe, o que mostra que $U$ é estatística anciliar.\n",
    "\n",
    "Vamos visualizar a distribuição de $U$ de duas formas: partindo de $X$ e partido de $Y$."
   ]
  },
  {
   "cell_type": "code",
   "execution_count": 37,
   "id": "e3d2fe2d-640e-46d0-90d9-5b7744243d96",
   "metadata": {},
   "outputs": [],
   "source": [
    "theta = 5\n",
    "n = 10\n",
    "\n",
    "X = np.random.uniform(theta-1/2, theta+1/2, size=(100000, n))\n",
    "Y = np.random.uniform(size=(100000, n))\n",
    "\n",
    "# Estamos tomando o máximo de cada linha de X e obtendo 100000 amostras para X.\n",
    "U1 = X.max(axis=1) - X.min(axis=1)\n",
    "U2 = Y.max(axis=1) - Y.min(axis=1)"
   ]
  },
  {
   "cell_type": "markdown",
   "id": "b9f5a6b8-6bae-4c9b-9b1f-6110eec49707",
   "metadata": {},
   "source": [
    "Note que de fato as distribuições são muito similares."
   ]
  },
  {
   "cell_type": "code",
   "execution_count": 39,
   "id": "2842f903-0e99-4d1d-acf7-2c6c5f1b8be6",
   "metadata": {},
   "outputs": [
    {
     "data": {
      "image/png": "[encoded data removed]",
      "text/plain": [
       "<Figure size 432x288 with 1 Axes>"
      ]
     },
     "metadata": {
      "needs_background": "light"
     },
     "output_type": "display_data"
    }
   ],
   "source": [
    "plt.hist(U1,  bins=50, label='U = max(X_i) - min(X_i)')\n",
    "plt.hist(U2, alpha=0.5, bins=50, label='U = max(Y_i) - min(Y_i)')\n",
    "plt.title('Comparando a distribuição de U')\n",
    "plt.legend()\n",
    "plt.show()"
   ]
  },
  {
   "cell_type": "markdown",
   "id": "42c8786f-7bec-43bc-a395-99864a39e12e",
   "metadata": {},
   "source": [
    "Se observamos que $U(X) = u$, podemos calcular que $\\max(x_i) | U = u \\sim \\operatorname{Unif}(\\theta-1/2+u, \\theta+1/2)$. \n",
    "Assim, a distribuição de uma estatística muda com outra anciliar."
   ]
  }
 ],
 "metadata": {
  "kernelspec": {
   "display_name": "Python 3 (ipykernel)",
   "language": "python",
   "name": "python3"
  },
  "language_info": {
   "codemirror_mode": {
    "name": "ipython",
    "version": 3
   },
   "file_extension": ".py",
   "mimetype": "text/x-python",
   "name": "python",
   "nbconvert_exporter": "python",
   "pygments_lexer": "ipython3",
   "version": "3.9.7"
  }
 },
 "nbformat": 4,
 "nbformat_minor": 5
}
