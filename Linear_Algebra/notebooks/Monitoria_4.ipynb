{
 "cells": [
  {
   "cell_type": "markdown",
   "metadata": {},
   "source": [
    "# Álgebra Linear\n",
    "\n",
    "#### Monitoria\n",
    "#### Lucas Moschen\n",
    "\n",
    "---\n",
    "\n",
    "## Tópicos já estudados \n",
    "\n",
    "- Matrizes e suas propriedade\n",
    "     - Notação\n",
    "     - Operações com matrizes e suas propriedades\n",
    "     - A transposta e suas propriedades: $ (AB)^T = B^TA^T $\n",
    "     - Simétrica e Antissimétrica: $ (A + A^T) $ é simétrica e $ (A - A^T) $ é antissimétrica, $\\forall A$. \n",
    "     - A inversa, quando existe, e suas propriedades\n",
    "     - Método para obtenção da inversa utilizando matrizes elementares\n",
    "     - Matrizes em outros conjuntos, como $Z_5$. \n",
    "     - Matriz singular: matriz não invertível.\n",
    "     - Decomposição LU\n",
    "     \n",
    "     \n",
    "- Sistemas Lineares e sua representação matricial\n",
    "     - Escalonamento: método de Gauss e método de Gauss-Jordan\n",
    "     - A é equivalente a B se, e só se, existe uma sequência de operações elementares que transformam A em B.\n",
    "     - Posto de uma matriz e grau de liberdade (Teorema do Posto)\n",
    "     - Posto (rank em inglês) pode ser definido como a dimensão do espaço linha ou a dimensão do espaço coluna de uma matriz.\n",
    "     - Sistema homogêneo: sempre existe solução (trivial)\n",
    "     - $Posto(A) = Posto(A^T)$\n",
    "     - Matrizes Elementares: representantes matriciais das três operações elementares, trocar linha, multiplicação por constante e somar a linha a um múltiplo de outra linha\n",
    "     - Matriz Completa: $[A|b]$\n",
    "     \n",
    "     \n",
    "- Espaços Vetorias e vetores\n",
    "    - Combinação Linear de vetores\n",
    "    - O produto escalar -> módulo \n",
    "    - Projeção: $\\vec{z} = \\frac{\\vec{v}\\cdot\\vec{u}}{\\vec{u}\\cdot\\vec{u}}\\cdot u$\n",
    "    - Desigualdade de Cauchy-Schwarz e cosseno: $\\|u\\|\\|v\\| \\geq \\|u\\cdot v\\| $ \n",
    "    - Conjuntos geradores: $S = \\{v_1,v_2,...,v_k\\} \\subset\\mathbb{R}^n $. O conjunto de todas as combinações dos elementos de S é $ger(S)$. \n",
    "    - Depenência: um conjunto é linearmente dependente se um vetor do conjunto pode ser escrito como combinação linear de outros. Independente, caso contrário. Lembrar que se $\\alpha_1\\vec{v_1} + \\alpha_2\\vec{v_2} + ... + \\alpha_k\\vec{v_k} = 0 \\implies \\alpha_1 = \\alpha_2 = ... = \\alpha_k = 0$, o conjuntos dos vetores é linearmente independente. \n",
    "    - Espaços vetorias dotam-se de: comutatividade e associatividade da soma, existência do nulo e da identidade, existência do simétrico, distribuitividade com real. \n",
    "    - Subespaços vetoriais: tem o vetor nulo e a soma e produto por real são fechados.\n",
    "    - Subespaços associados a matrizes: \n",
    "        - Espaço linha: conjunto gerado por suas linhas: $lin(A) = ger(\\{L_1,L_2,...,L_m\\})$\n",
    "        - Espaço coluna: conjunto gerado por suas colunas: $col(A) = ger(\\{c_1,c_2,...,c_m\\})$\n",
    "    - Espaço anulado por uma matriz: Também chamado de núcleo, é o conjunto solução do sistema $Ax = 0$\n",
    "    - Bases de um espaço vetorial: É um conjunto LIque gera um espaço vetorial --- Próxima monitoria"
   ]
  },
  {
   "cell_type": "code",
   "execution_count": 6,
   "metadata": {},
   "outputs": [],
   "source": [
    "import numpy as np\n",
    "import scipy as sp\n",
    "import scipy.linalg as splin\n",
    "import sympy as sc"
   ]
  },
  {
   "cell_type": "markdown",
   "metadata": {},
   "source": [
    "#### Exemplo 1.4: Espaços Vetorias\n",
    "\n",
    "Seja $X$ um conjunto não vazio. O símbolo $\\mathbb{F}(X;\\mathbb{R}) $ representa o conjunto das funções reais $f,g: X \\to \\mathbb{R} $. Defino a soma: $f + g$ como $(f + g)(x) = f(x) + g(x) $ e o produto $\\alpha\\cdot f $ como $ (\\alpha f)(x) = \\alpha\\cdot f(x) $\n",
    "\n",
    "#### Exercício 2.13: Combinação Linear\n",
    "\n",
    "Mostre que a matriz $d = \\begin{pmatrix} 4 & -4 \\\\ -6 & 16 \\end{pmatrix} $ pode ser escrita como combinação linear das matrizes:\n",
    "$$\n",
    "a = \\begin{pmatrix} 1 & 2 \\\\ 3 & 4 \\end{pmatrix}, b = \\begin{pmatrix} -1 & 2 \\\\ 3 & -4\\end{pmatrix},  \n",
    "c =\\begin{pmatrix} 1 & -2 \\\\ -3 & 4 \\end{pmatrix}\n",
    "$$\n",
    "\n",
    "#### Exemplo: Subespaços\n",
    "\n",
    "Seja $P_4$ o espaço vetorial de todos os polinômios de grau 4 ou menos com coeficientes reais. A soma e o produto por real são definidos naturalmente. $S_5$ é um subespaço? \n",
    "$$ S_5 = \\{f(x) \\in P_4 \\| f(1)~ is~ a ~rational~ number\\} $$\n",
    "\n",
    "#### Questão Teste 2: Operações com matrizes\n",
    "\n",
    "A matriz $A = \\frac{1}{\\sqrt{2}} \\begin{pmatrix} 1 & -1 \\\\ 1 & 1 \\end{pmatrix} $. Questão: $\\exists n \\in \\mathbb{N} $, tal que $A^n = A$? \n",
    "\n",
    "Obs.: Observe que $\\frac{1}{\\sqrt{2}} = \\frac{\\sqrt{2}}{2} $, e se eu tratar $\\theta = \\frac{\\pi}{4}$, temos que $A$ é matriz de rotação. Logo, basta encontrar $n$ tal que $n\\cdot\\frac{\\pi}{4} = k\\cdot2\\cdot\\pi \\to n = 8\\cdot k \\to n = 8 $ é solução, logo $A^8 = I \\to A^9 = A $\n",
    "\n",
    "#### Questão 2.37 \n",
    "\n",
    "Dado $X \\subset E $, seja $Y$ o conjunto obtido de $X$ substituindo um dos seus elementos $v$ por $v + \\alpha u$, onde $u\\in X$ e $\\alpha \\in \\mathbb{R} $. Prove que X e Y geram o mesmo subespaço vetorial de $E$. Conclua, então que $\\{v_1,...,v_k\\} \\subset E$ e $\\{v_1, v_2 - v_1, ..., v_k - v_1\\} \\subset E $ geram o mesmo subespaço vetorial de $E$. \n",
    "\n",
    "Alguém percebe a implicação prática dessa questão? "
   ]
  },
  {
   "cell_type": "markdown",
   "metadata": {},
   "source": [
    "1. Lembre que $S(Y)$ é o subespaço gerado por Y. \n",
    "2. Uma ajuda para desenvolver essa questão é reconhecer que $X \\subset S(Y) \\implies S(X) \\subset S(Y) $. Você consegue demonstrar? "
   ]
  },
  {
   "cell_type": "markdown",
   "metadata": {},
   "source": [
    "### Conjuntos Geradores \n",
    "\n",
    "$ u_1 = (1,1,2,3) $\n",
    "\n",
    "$ u_2 = (2,-1,1,2) $\n",
    "\n",
    "$ \\pi = ger(\\{u_1, u_2\\}) $\n",
    "\n",
    "$ w = (-2,7,5,6) \\in \\pi $\n",
    "\n",
    "Queremos saber se, $ \\exists ~\\alpha, \\beta $, tal que: \n",
    "\n",
    "$$ \\alpha \\begin{pmatrix} 1 \\\\ 1 \\\\ 2 \\\\ 3 \\end{pmatrix} + \\beta \n",
    "\\begin{pmatrix} 2 \\\\ -1 \\\\ 1 \\\\ 2 \\end{pmatrix} = \n",
    "\\begin{pmatrix} -2 \\\\ 7 \\\\ 5 \\\\ 6 \\end{pmatrix} $$"
   ]
  },
  {
   "cell_type": "markdown",
   "metadata": {},
   "source": [
    "## Teste 1 2018\n",
    "\n",
    "### Exercício 1:\n",
    "\n",
    "Escreva a seguinte matriz como a soma de uma matriz simétrica e uma antissimétrica:\n",
    "$\n",
    "A = \\begin{pmatrix} \n",
    "4 & 6 & 3\\\\ -2 & 0 & 5 \\\\ 5 & -1 & 2 \n",
    "\\end{pmatrix} $\n",
    "\n",
    "### Resolução\n",
    "\n",
    "$$ A = \\frac{1}{2}((A + A^T) + (A - A^T)) $$\n",
    "\n",
    "Ora, mas $ A + A^T $ e $A - A^T$ são simétrica e antissimétrica, respectivamente.\n",
    "\n",
    "Logo:"
   ]
  },
  {
   "cell_type": "code",
   "execution_count": 7,
   "metadata": {},
   "outputs": [
    {
     "data": {
      "text/latex": [
       "$\\displaystyle \\left[\\begin{matrix}4.0 & 2.0 & 4.0\\\\2.0 & 0 & 2.0\\\\4.0 & 2.0 & 2.0\\end{matrix}\\right]$"
      ],
      "text/plain": [
       "Matrix([\n",
       "[4.0, 2.0, 4.0],\n",
       "[2.0,   0, 2.0],\n",
       "[4.0, 2.0, 2.0]])"
      ]
     },
     "execution_count": 7,
     "metadata": {},
     "output_type": "execute_result"
    }
   ],
   "source": [
    "A = np.array([[4,6,3],[-2,0,5],[5,-1,2]])\n",
    "A = sc.Matrix(A)\n",
    "A_T = A.T\n",
    "1/2*(A + A_T)"
   ]
  },
  {
   "cell_type": "code",
   "execution_count": 8,
   "metadata": {},
   "outputs": [
    {
     "data": {
      "text/latex": [
       "$\\displaystyle \\left[\\begin{matrix}0 & 4.0 & -1.0\\\\-4.0 & 0 & 3.0\\\\1.0 & -3.0 & 0\\end{matrix}\\right]$"
      ],
      "text/plain": [
       "Matrix([\n",
       "[   0,  4.0, -1.0],\n",
       "[-4.0,    0,  3.0],\n",
       "[ 1.0, -3.0,    0]])"
      ]
     },
     "execution_count": 8,
     "metadata": {},
     "output_type": "execute_result"
    }
   ],
   "source": [
    "1/2*(A - A_T)"
   ]
  },
  {
   "cell_type": "markdown",
   "metadata": {},
   "source": [
    "### Exercício 2:\n",
    "\n",
    "Encontre a inversa da seguinte matriz e depois resolva $AX = B$:\n",
    "$$\n",
    "A = \\begin{pmatrix} \n",
    "4 & 6 & 3\\\\ -2 & 0 & 5 \\\\ 5 & -1 & 2 \n",
    "\\end{pmatrix} \\\\\n",
    "B = \\begin{pmatrix} \n",
    "7 & 1 & 4\\\\ -5 & 2 & 4 \\\\ 9 & 3 & -1 \n",
    "\\end{pmatrix}\n",
    "$$\n",
    "\n",
    "\n",
    "### Resolução"
   ]
  },
  {
   "cell_type": "code",
   "execution_count": 9,
   "metadata": {},
   "outputs": [
    {
     "data": {
      "text/latex": [
       "$\\displaystyle \\left[\\begin{matrix}0.025 & -0.075 & 0.15\\\\0.145 & -0.035 & -0.13\\\\0.01 & 0.17 & 0.06\\end{matrix}\\right]$"
      ],
      "text/plain": [
       "Matrix([\n",
       "[0.025, -0.075,  0.15],\n",
       "[0.145, -0.035, -0.13],\n",
       "[ 0.01,   0.17,  0.06]])"
      ]
     },
     "execution_count": 9,
     "metadata": {},
     "output_type": "execute_result"
    }
   ],
   "source": [
    "A = np.array([[4,6,3],[-2,0 , 5], [5, -1, 2]])\n",
    "B = np.array([[7,1,4],[-5,2,5],[9,3,1]])\n",
    "A_inv = np.linalg.inv(A)\n",
    "X = np.matmul(A_inv,B)\n",
    "sc.Matrix(A_inv)"
   ]
  },
  {
   "cell_type": "code",
   "execution_count": 10,
   "metadata": {},
   "outputs": [
    {
     "data": {
      "text/latex": [
       "$\\displaystyle \\left[\\begin{matrix}1.9 & 0.325 & -0.125\\\\0.0199999999999999 & -0.315 & 0.275\\\\-0.24 & 0.53 & 0.95\\end{matrix}\\right]$"
      ],
      "text/plain": [
       "Matrix([\n",
       "[               1.9,  0.325, -0.125],\n",
       "[0.0199999999999999, -0.315,  0.275],\n",
       "[             -0.24,   0.53,   0.95]])"
      ]
     },
     "execution_count": 10,
     "metadata": {},
     "output_type": "execute_result"
    }
   ],
   "source": [
    "sc.Matrix(X)"
   ]
  },
  {
   "cell_type": "markdown",
   "metadata": {},
   "source": [
    "### Exercício 3:\n",
    "\n",
    "Resolva o sistema em $\\mathbb{Z}_5$:\n",
    "$$\n",
    "\\begin{pmatrix} \n",
    "4 & 1 & 3\\\\ 3 & 0 & 2 \\\\ 0 & 4 & 2 \n",
    "\\end{pmatrix}\n",
    "\\begin{pmatrix}\n",
    "x \\\\ y \\\\ z \n",
    "\\end{pmatrix} =\n",
    "\\begin{pmatrix}\n",
    "1 \\\\ 2 \\\\ 4\n",
    "\\end{pmatrix}\n",
    "$$\n",
    "\n",
    "### Exercício 4:\n",
    "\n",
    "Uma <b> rede </b> consiste em um número finito de <b> nós </b> conectados por <b> arestas </b>. Cada aresta é rotulada com um <b> fluxo </b>, que relaciona uma direção e uma quantidade. A regra fundamental é a <b> conservação de fluxo </b>, isto é, em cada nó, o fluxo de entrada é igual ao fluxo de saída. \n",
    "\n",
    "Considere a seguinte rede: \n",
    "\n",
    "<img src=\"rede.png\">\n",
    "\n",
    "Encontre os intervalos de $f_1, f_2, f_3, f_4 $\n",
    "\n",
    "### Exercício 5:\n",
    "\n",
    "Faça a fatoração LU da matriz $$ \\begin{pmatrix} 1 & 2 & 4 \\\\ 3 & 8 & 14 \\\\ 2 & 6 & 13 \\end{pmatrix} $$\n",
    "\n",
    "### Resolução:"
   ]
  },
  {
   "cell_type": "code",
   "execution_count": 16,
   "metadata": {},
   "outputs": [
    {
     "name": "stdout",
     "output_type": "stream",
     "text": [
      "L:\n"
     ]
    },
    {
     "data": {
      "text/latex": [
       "$\\displaystyle \\left[\\begin{matrix}1.0 & 0.0 & 0.0\\\\0.666666666666667 & 1.0 & 0.0\\\\0.333333333333333 & -0.999999999999999 & 1.0\\end{matrix}\\right]$"
      ],
      "text/plain": [
       "Matrix([\n",
       "[              1.0,                0.0, 0.0],\n",
       "[0.666666666666667,                1.0, 0.0],\n",
       "[0.333333333333333, -0.999999999999999, 1.0]])"
      ]
     },
     "execution_count": 16,
     "metadata": {},
     "output_type": "execute_result"
    }
   ],
   "source": [
    "A = sp.array([[1,2,4], [3,8,14], [2,6,13]])\n",
    "P, L, U = sp.linalg.lu(A)\n",
    "print(\"L:\")\n",
    "sc.Matrix(L)"
   ]
  },
  {
   "cell_type": "code",
   "execution_count": 17,
   "metadata": {},
   "outputs": [
    {
     "name": "stdout",
     "output_type": "stream",
     "text": [
      "U:\n"
     ]
    },
    {
     "data": {
      "text/latex": [
       "$\\displaystyle \\left[\\begin{matrix}3.0 & 8.0 & 14.0\\\\0.0 & 0.666666666666667 & 3.66666666666667\\\\0.0 & 0.0 & 3.0\\end{matrix}\\right]$"
      ],
      "text/plain": [
       "Matrix([\n",
       "[3.0,               8.0,             14.0],\n",
       "[0.0, 0.666666666666667, 3.66666666666667],\n",
       "[0.0,               0.0,              3.0]])"
      ]
     },
     "execution_count": 17,
     "metadata": {},
     "output_type": "execute_result"
    }
   ],
   "source": [
    "print(\"U:\")\n",
    "sc.Matrix(U)"
   ]
  },
  {
   "cell_type": "markdown",
   "metadata": {},
   "source": [
    "### Curiosidades\n",
    "\n",
    "1. O conjunto $H$ dos pontos $x = (x_1,...,x_n) \\in \\mathbb{R^n} $, tais que $a_1x_1 + ... + a_nx+n = b $ é uma <b> variedade afim </b>. Se $a_i$ não são todos nulos, $H$ é um hiperplano. \n",
    "2. Por que é necessário que $0 \\in F$, sendo $F \\subset E$ um subespaço? Essa condição pode ser alterada po outra? Sugestão: Demonstrar que essa condição pode ser alterada por $ F \\neq \\emptyset $\n",
    "3. Definição de segmento de reta: $[u,v] = \\{(1 - t)\\cdot u + t\\cdot v ~; ~ 0 \\leq t \\leq 1\\} $, sendo $u, v \\in E$, espaço vetorial. "
   ]
  }
 ],
 "metadata": {
  "kernelspec": {
   "display_name": "Python 3",
   "language": "python",
   "name": "python3"
  },
  "language_info": {
   "codemirror_mode": {
    "name": "ipython",
    "version": 3
   },
   "file_extension": ".py",
   "mimetype": "text/x-python",
   "name": "python",
   "nbconvert_exporter": "python",
   "pygments_lexer": "ipython3",
   "version": "3.7.1"
  }
 },
 "nbformat": 4,
 "nbformat_minor": 2
}