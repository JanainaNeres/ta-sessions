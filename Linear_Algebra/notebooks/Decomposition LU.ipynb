{
 "cells": [
  {
   "source": [
    "# Decomposição LU\n",
    "\n",
    "Fatorização de uma matriz $A$ como um produto $P\\cdot A = L\\cdot U$, onde a primeira matrix é triangular inferior (lower), enquanto a segunda é triangular superior (upper). A matriz $P$ é uma matriz de permutação que garante a existência dessa fatorização. "
   ],
   "cell_type": "markdown",
   "metadata": {}
  },
  {
   "cell_type": "code",
   "execution_count": 1,
   "metadata": {},
   "outputs": [],
   "source": [
    "import scipy.linalg"
   ]
  },
  {
   "cell_type": "code",
   "execution_count": 2,
   "metadata": {},
   "outputs": [
    {
     "output_type": "stream",
     "name": "stdout",
     "text": [
      "[[ 7  3 -1  2]\n [ 3  8  1 -4]\n [-1  1  4 -1]\n [ 2 -4 -1  6]]\n"
     ]
    }
   ],
   "source": [
    "A = scipy.array([ [7, 3, -1, 2], [3, 8, 1, -4], [-1, 1, 4, -1], [2, -4, -1, 6] ])\n",
    "print(A)"
   ]
  },
  {
   "cell_type": "code",
   "execution_count": 3,
   "metadata": {},
   "outputs": [
    {
     "output_type": "stream",
     "name": "stdout",
     "text": [
      "[[1. 0. 0. 0.]\n [0. 1. 0. 0.]\n [0. 0. 1. 0.]\n [0. 0. 0. 1.]]\n[[ 1.          0.          0.          0.        ]\n [ 0.42857143  1.          0.          0.        ]\n [-0.14285714  0.21276596  1.          0.        ]\n [ 0.28571429 -0.72340426  0.08982036  1.        ]]\n[[ 7.          3.         -1.          2.        ]\n [ 0.          6.71428571  1.42857143 -4.85714286]\n [ 0.          0.          3.55319149  0.31914894]\n [ 0.          0.          0.          1.88622754]]\n"
     ]
    },
    {
     "output_type": "execute_result",
     "data": {
      "text/plain": [
       "(None, None, None)"
      ]
     },
     "metadata": {},
     "execution_count": 3
    }
   ],
   "source": [
    "P, L, U = scipy.linalg.lu(A)\n",
    "print(P), print(L), print(U)"
   ]
  }
 ],
 "metadata": {
  "kernelspec": {
   "display_name": "Python 3",
   "language": "python",
   "name": "python3"
  },
  "language_info": {
   "codemirror_mode": {
    "name": "ipython",
    "version": 3
   },
   "file_extension": ".py",
   "mimetype": "text/x-python",
   "name": "python",
   "nbconvert_exporter": "python",
   "pygments_lexer": "ipython3",
   "version": "3.8.5-final"
  }
 },
 "nbformat": 4,
 "nbformat_minor": 2
}